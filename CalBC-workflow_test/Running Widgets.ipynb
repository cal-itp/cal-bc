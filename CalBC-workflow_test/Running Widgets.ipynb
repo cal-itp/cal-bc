{
 "cells": [
  {
   "cell_type": "code",
   "execution_count": 1,
   "id": "a0c45d9b-e6da-4225-b096-b88f36a8cc9f",
   "metadata": {
    "tags": []
   },
   "outputs": [],
   "source": [
    "from parameters import parameters"
   ]
  },
  {
   "cell_type": "code",
   "execution_count": 2,
   "id": "381b75f0-4e12-484f-b8cb-fd04797f2428",
   "metadata": {
    "tags": []
   },
   "outputs": [],
   "source": [
    "params = parameters()"
   ]
  },
  {
   "cell_type": "code",
   "execution_count": 3,
   "id": "91d47342-72ad-4e7d-92ab-ad9a00da7a8f",
   "metadata": {
    "tags": []
   },
   "outputs": [
    {
     "data": {
      "application/vnd.jupyter.widget-view+json": {
       "model_id": "32a28cf8f1b7465ea7d8221c7f5e43cb",
       "version_major": 2,
       "version_minor": 0
      },
      "text/plain": [
       "VBox(children=(VBox(children=(VBox(children=(HTML(value=\"<b style='color: darkblue;'>Project Data</b>\"), HTML(…"
      ]
     },
     "metadata": {},
     "output_type": "display_data"
    }
   ],
   "source": [
    "# Import necessary functions from the project_inputs.py file\n",
    "import projectinfo_widgets\n",
    "from projectinfo_widgets import create_project_info_widgets, get_inputs\n",
    "create_project_info_widgets()"
   ]
  },
  {
   "cell_type": "code",
   "execution_count": 4,
   "id": "71ff177e-ddff-4b89-a67f-d36fec823e43",
   "metadata": {
    "tags": []
   },
   "outputs": [],
   "source": [
    "projectinfo_widgets.subcategory_dropdown.value"
   ]
  },
  {
   "cell_type": "code",
   "execution_count": 5,
   "id": "6e3538d0-fc5a-4dad-81e8-6ba44f1cb19b",
   "metadata": {
    "tags": []
   },
   "outputs": [
    {
     "data": {
      "application/vnd.jupyter.widget-view+json": {
       "model_id": "82d85577229d41c0a3654354a32335e8",
       "version_major": 2,
       "version_minor": 0
      },
      "text/plain": [
       "VBox(children=(VBox(children=(HTML(value=\"<b style='color: darkblue;'>\\nHighway Speed and Volume Inputs (No Bu…"
      ]
     },
     "metadata": {},
     "output_type": "display_data"
    }
   ],
   "source": [
    "import modelinputs_widgets \n",
    "from modelinputs_widgets import create_new_widgets\n",
    "create_new_widgets()"
   ]
  },
  {
   "cell_type": "code",
   "execution_count": 6,
   "id": "6e622eb5-b7f6-43f3-a9ac-e7fa70d087d5",
   "metadata": {
    "tags": []
   },
   "outputs": [
    {
     "data": {
      "text/plain": [
       "0"
      ]
     },
     "execution_count": 6,
     "metadata": {},
     "output_type": "execute_result"
    }
   ],
   "source": [
    "modelinputs_widgets.PTV20NB_widget.value"
   ]
  },
  {
   "cell_type": "code",
   "execution_count": 7,
   "id": "77cbb0ba-f401-4a0a-857c-14f39102ffa5",
   "metadata": {
    "tags": []
   },
   "outputs": [
    {
     "data": {
      "application/vnd.jupyter.widget-view+json": {
       "model_id": "cd6ed7a9369544c8a7f66a308c174609",
       "version_major": 2,
       "version_minor": 0
      },
      "text/plain": [
       "VBox(children=(FloatText(value=1000000.0, description='Total Cost ($):'), FloatText(value=0.0, description='Be…"
      ]
     },
     "metadata": {},
     "output_type": "display_data"
    },
    {
     "data": {
      "text/html": [
       "<div>\n",
       "<style scoped>\n",
       "    .dataframe tbody tr th:only-of-type {\n",
       "        vertical-align: middle;\n",
       "    }\n",
       "\n",
       "    .dataframe tbody tr th {\n",
       "        vertical-align: top;\n",
       "    }\n",
       "\n",
       "    .dataframe thead th {\n",
       "        text-align: right;\n",
       "    }\n",
       "</style>\n",
       "<table border=\"1\" class=\"dataframe\">\n",
       "  <thead>\n",
       "    <tr style=\"text-align: right;\">\n",
       "      <th></th>\n",
       "      <th>Year</th>\n",
       "      <th>Total Present Value</th>\n",
       "    </tr>\n",
       "  </thead>\n",
       "  <tbody>\n",
       "    <tr>\n",
       "      <th>0</th>\n",
       "      <td>1</td>\n",
       "      <td>0.0</td>\n",
       "    </tr>\n",
       "    <tr>\n",
       "      <th>1</th>\n",
       "      <td>2</td>\n",
       "      <td>0.0</td>\n",
       "    </tr>\n",
       "    <tr>\n",
       "      <th>2</th>\n",
       "      <td>3</td>\n",
       "      <td>0.0</td>\n",
       "    </tr>\n",
       "    <tr>\n",
       "      <th>3</th>\n",
       "      <td>4</td>\n",
       "      <td>0.0</td>\n",
       "    </tr>\n",
       "    <tr>\n",
       "      <th>4</th>\n",
       "      <td>5</td>\n",
       "      <td>0.0</td>\n",
       "    </tr>\n",
       "    <tr>\n",
       "      <th>5</th>\n",
       "      <td>6</td>\n",
       "      <td>0.0</td>\n",
       "    </tr>\n",
       "    <tr>\n",
       "      <th>6</th>\n",
       "      <td>7</td>\n",
       "      <td>0.0</td>\n",
       "    </tr>\n",
       "    <tr>\n",
       "      <th>7</th>\n",
       "      <td>8</td>\n",
       "      <td>0.0</td>\n",
       "    </tr>\n",
       "    <tr>\n",
       "      <th>8</th>\n",
       "      <td>9</td>\n",
       "      <td>0.0</td>\n",
       "    </tr>\n",
       "    <tr>\n",
       "      <th>9</th>\n",
       "      <td>10</td>\n",
       "      <td>0.0</td>\n",
       "    </tr>\n",
       "    <tr>\n",
       "      <th>10</th>\n",
       "      <td>11</td>\n",
       "      <td>0.0</td>\n",
       "    </tr>\n",
       "    <tr>\n",
       "      <th>11</th>\n",
       "      <td>12</td>\n",
       "      <td>0.0</td>\n",
       "    </tr>\n",
       "    <tr>\n",
       "      <th>12</th>\n",
       "      <td>13</td>\n",
       "      <td>0.0</td>\n",
       "    </tr>\n",
       "    <tr>\n",
       "      <th>13</th>\n",
       "      <td>14</td>\n",
       "      <td>0.0</td>\n",
       "    </tr>\n",
       "    <tr>\n",
       "      <th>14</th>\n",
       "      <td>15</td>\n",
       "      <td>0.0</td>\n",
       "    </tr>\n",
       "    <tr>\n",
       "      <th>15</th>\n",
       "      <td>16</td>\n",
       "      <td>0.0</td>\n",
       "    </tr>\n",
       "    <tr>\n",
       "      <th>16</th>\n",
       "      <td>17</td>\n",
       "      <td>0.0</td>\n",
       "    </tr>\n",
       "    <tr>\n",
       "      <th>17</th>\n",
       "      <td>18</td>\n",
       "      <td>0.0</td>\n",
       "    </tr>\n",
       "    <tr>\n",
       "      <th>18</th>\n",
       "      <td>19</td>\n",
       "      <td>0.0</td>\n",
       "    </tr>\n",
       "    <tr>\n",
       "      <th>19</th>\n",
       "      <td>20</td>\n",
       "      <td>0.0</td>\n",
       "    </tr>\n",
       "    <tr>\n",
       "      <th>20</th>\n",
       "      <td>Total Travel Time Benefits</td>\n",
       "      <td>0.0</td>\n",
       "    </tr>\n",
       "  </tbody>\n",
       "</table>\n",
       "</div>"
      ],
      "text/plain": [
       "                          Year  Total Present Value\n",
       "0                            1                  0.0\n",
       "1                            2                  0.0\n",
       "2                            3                  0.0\n",
       "3                            4                  0.0\n",
       "4                            5                  0.0\n",
       "5                            6                  0.0\n",
       "6                            7                  0.0\n",
       "7                            8                  0.0\n",
       "8                            9                  0.0\n",
       "9                           10                  0.0\n",
       "10                          11                  0.0\n",
       "11                          12                  0.0\n",
       "12                          13                  0.0\n",
       "13                          14                  0.0\n",
       "14                          15                  0.0\n",
       "15                          16                  0.0\n",
       "16                          17                  0.0\n",
       "17                          18                  0.0\n",
       "18                          19                  0.0\n",
       "19                          20                  0.0\n",
       "20  Total Travel Time Benefits                  0.0"
      ]
     },
     "metadata": {},
     "output_type": "display_data"
    },
    {
     "name": "stdout",
     "output_type": "stream",
     "text": [
      "Total Travel Time Benefit ($): 0.0\n"
     ]
    }
   ],
   "source": [
    "from travel_time import main"
   ]
  },
  {
   "cell_type": "code",
   "execution_count": 8,
   "id": "ed1ee1bd-f1d0-42ed-b62a-57d30112e013",
   "metadata": {
    "tags": []
   },
   "outputs": [
    {
     "data": {
      "text/plain": [
       "0"
      ]
     },
     "execution_count": 8,
     "metadata": {},
     "output_type": "execute_result"
    }
   ],
   "source": [
    "# modelinputs_widgets.PTV20NB_widget.value\n",
    "# modelinputs_widgets.PWS20NB_widget.value\n",
    "modelinputs_widgets.PNS20NB_widget.value"
   ]
  },
  {
   "cell_type": "code",
   "execution_count": 9,
   "id": "79e16689-8097-4616-89b6-5cc12ec1c6dd",
   "metadata": {
    "tags": []
   },
   "outputs": [
    {
     "ename": "NameError",
     "evalue": "name 'truck_speed_year20peak_modelcalc_widget' is not defined",
     "output_type": "error",
     "traceback": [
      "\u001b[0;31m---------------------------------------------------------------------------\u001b[0m",
      "\u001b[0;31mAttributeError\u001b[0m                            Traceback (most recent call last)",
      "Cell \u001b[0;32mIn[9], line 9\u001b[0m, in \u001b[0;36mupdate_year20peak_truck_speed\u001b[0;34m(change)\u001b[0m\n\u001b[1;32m      8\u001b[0m IRI20NB \u001b[38;5;241m=\u001b[39m projectinfo_widgets\u001b[38;5;241m.\u001b[39miri_forecast_year_no_build_widget\u001b[38;5;241m.\u001b[39mvalue\n\u001b[0;32m----> 9\u001b[0m TruckSpeed \u001b[38;5;241m=\u001b[39m \u001b[43mprojectinfo_widgets\u001b[49m\u001b[38;5;241;43m.\u001b[39;49m\u001b[43mtruck_design_speed_no_build_widget\u001b[49m\u001b[38;5;241m.\u001b[39mvalue\n\u001b[1;32m     10\u001b[0m SpeedPavAdj \u001b[38;5;241m=\u001b[39m params\u001b[38;5;241m.\u001b[39mSpeedPavAdj\n",
      "\u001b[0;31mAttributeError\u001b[0m: module 'projectinfo_widgets' has no attribute 'truck_design_speed_no_build_widget'",
      "\nDuring handling of the above exception, another exception occurred:\n",
      "\u001b[0;31mNameError\u001b[0m                                 Traceback (most recent call last)",
      "Cell \u001b[0;32mIn[9], line 39\u001b[0m\n\u001b[1;32m     36\u001b[0m         truck_speed_year20peak_modelcalc_widget\u001b[38;5;241m.\u001b[39mvalue \u001b[38;5;241m=\u001b[39m \u001b[38;5;241m0\u001b[39m\n\u001b[1;32m     38\u001b[0m \u001b[38;5;66;03m# Initial call to set the value based on the current widget state\u001b[39;00m\n\u001b[0;32m---> 39\u001b[0m \u001b[43mupdate_year20peak_truck_speed\u001b[49m\u001b[43m(\u001b[49m\u001b[43m)\u001b[49m\n",
      "Cell \u001b[0;32mIn[9], line 36\u001b[0m, in \u001b[0;36mupdate_year20peak_truck_speed\u001b[0;34m(change)\u001b[0m\n\u001b[1;32m     33\u001b[0m     truck_speed_year20peak_modelcalc_widget\u001b[38;5;241m.\u001b[39mvalue \u001b[38;5;241m=\u001b[39m \u001b[38;5;28mround\u001b[39m(Year20PeakTruckSpeed, \u001b[38;5;241m2\u001b[39m)\n\u001b[1;32m     35\u001b[0m \u001b[38;5;28;01mexcept\u001b[39;00m \u001b[38;5;167;01mException\u001b[39;00m:\n\u001b[0;32m---> 36\u001b[0m     \u001b[43mtruck_speed_year20peak_modelcalc_widget\u001b[49m\u001b[38;5;241m.\u001b[39mvalue \u001b[38;5;241m=\u001b[39m \u001b[38;5;241m0\u001b[39m\n",
      "\u001b[0;31mNameError\u001b[0m: name 'truck_speed_year20peak_modelcalc_widget' is not defined"
     ]
    }
   ],
   "source": [
    "def update_year20peak_truck_speed(change=None):\n",
    "    try:\n",
    "        # Retrieve relevant widget values\n",
    "        PTV20NB = 5020\n",
    "        PWS20NB = 55\n",
    "        PNS20NB = 5\n",
    "        ProjType = projectinfo_widgets.subcategory_dropdown.value\n",
    "        IRI20NB = projectinfo_widgets.iri_forecast_year_no_build_widget.value\n",
    "        TruckSpeed = projectinfo_widgets.truck_design_speed_no_build_widget.value\n",
    "        SpeedPavAdj = params.SpeedPavAdj\n",
    "\n",
    "        # Check if PTV20NB is 0\n",
    "        if PTV20NB == 0:\n",
    "            Year20PeakTruckSpeed = 55\n",
    "        else:\n",
    "            is_aux_or_offramp = ProjType in [\"Auxiliary Lane\", \"Off-Ramp Widening\"]\n",
    "            is_pavement = ProjType == \"Pavement\"\n",
    "\n",
    "            base_speed = PWS20NB if is_aux_or_offramp else PNS20NB\n",
    "\n",
    "            auto_adj = 1\n",
    "            truck_adj = 1\n",
    "\n",
    "            if is_pavement:\n",
    "                closest_iri_key = min(SpeedPavAdj.keys(), key=lambda x: abs(x - IRI20NB))\n",
    "                auto_adj = SpeedPavAdj[closest_iri_key][\"Auto\"]\n",
    "                truck_adj = SpeedPavAdj[closest_iri_key][\"Truck\"]\n",
    "\n",
    "            adjusted_base = base_speed / auto_adj if is_pavement else base_speed\n",
    "            min_speed = min(TruckSpeed, adjusted_base)\n",
    "            Year20PeakTruckSpeed = min_speed * truck_adj\n",
    "\n",
    "        truck_speed_year20peak_modelcalc_widget.value = round(Year20PeakTruckSpeed, 2)\n",
    "\n",
    "    except Exception:\n",
    "        truck_speed_year20peak_modelcalc_widget.value = 0\n",
    "\n",
    "# Initial call to set the value based on the current widget state\n",
    "update_year20peak_truck_speed()"
   ]
  },
  {
   "cell_type": "code",
   "execution_count": null,
   "id": "4d5faeb3-73cf-4e50-a32b-c4b131bf1abd",
   "metadata": {
    "tags": []
   },
   "outputs": [],
   "source": [
    "import test_traveltime"
   ]
  },
  {
   "cell_type": "code",
   "execution_count": null,
   "id": "d32ab0e7-de7a-4819-bf68-40deed81480f",
   "metadata": {
    "tags": []
   },
   "outputs": [],
   "source": [
    "# total_cost = 136653989 "
   ]
  },
  {
   "cell_type": "code",
   "execution_count": null,
   "id": "d8a6636a-4aea-4582-8108-e5a79a62a989",
   "metadata": {},
   "outputs": [],
   "source": [
    "\n",
    "# final_trend_df = generate_trends_from_dataframe(df_combined, variable_names)  \n",
    "# final_trend_df = calculate_person_trips_highway(final_trend_df)\n",
    "# final_trend_df = calculate_average_travel_time(final_trend_df)\n",
    "# final_trend_df = traveltime_benefit(final_trend_df)\n",
    "# final_trend_df = add_dollar_calculated_column(final_trend_df)\n",
    "# final_trend_df = add_discounted_value_column(final_trend_df, value_column_name='Constant Dollar', output_column_name='Present Value')\n",
    "# sum_by_year_df = sum_present_value_by_year(final_trend_df)\n",
    "# BCR = calculate_benefit_cost_ratio(sum_by_year_df, total_cost)"
   ]
  },
  {
   "cell_type": "code",
   "execution_count": null,
   "id": "d4a2b47f-fcb0-45f1-a635-da26f8b72308",
   "metadata": {
    "tags": []
   },
   "outputs": [],
   "source": [
    "# BCR = calculate_benefit_cost_ratio(sum_by_year_df, total_cost)"
   ]
  },
  {
   "cell_type": "code",
   "execution_count": null,
   "id": "a397825a-fdc0-4c0d-81ca-266e0eafb3df",
   "metadata": {
    "tags": []
   },
   "outputs": [],
   "source": [
    "# BCR"
   ]
  },
  {
   "cell_type": "code",
   "execution_count": null,
   "id": "28380869-b4f3-4c6d-bd46-c8ba402fffc3",
   "metadata": {},
   "outputs": [],
   "source": []
  }
 ],
 "metadata": {
  "kernelspec": {
   "display_name": "Python 3 (ipykernel)",
   "language": "python",
   "name": "python3"
  },
  "language_info": {
   "codemirror_mode": {
    "name": "ipython",
    "version": 3
   },
   "file_extension": ".py",
   "mimetype": "text/x-python",
   "name": "python",
   "nbconvert_exporter": "python",
   "pygments_lexer": "ipython3",
   "version": "3.11.10"
  }
 },
 "nbformat": 4,
 "nbformat_minor": 5
}
