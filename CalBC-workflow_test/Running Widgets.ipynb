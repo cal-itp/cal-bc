{
 "cells": [
  {
   "cell_type": "code",
   "execution_count": null,
   "id": "34b66765-bce8-489e-aabc-9469821f7dd4",
   "metadata": {},
   "outputs": [],
   "source": []
  },
  {
   "cell_type": "code",
   "execution_count": 1,
   "id": "a0c45d9b-e6da-4225-b096-b88f36a8cc9f",
   "metadata": {
    "tags": []
   },
   "outputs": [],
   "source": [
    "from parameters import parameters"
   ]
  },
  {
   "cell_type": "code",
   "execution_count": 2,
   "id": "381b75f0-4e12-484f-b8cb-fd04797f2428",
   "metadata": {
    "tags": []
   },
   "outputs": [],
   "source": [
    "params = parameters()"
   ]
  },
  {
   "cell_type": "code",
   "execution_count": 3,
   "id": "91d47342-72ad-4e7d-92ab-ad9a00da7a8f",
   "metadata": {
    "tags": []
   },
   "outputs": [
    {
     "data": {
      "application/vnd.jupyter.widget-view+json": {
       "model_id": "f3543b9b8923451d9d5c4d7f5bdc3cf1",
       "version_major": 2,
       "version_minor": 0
      },
      "text/plain": [
       "VBox(children=(VBox(children=(VBox(children=(HTML(value=\"<b style='color: darkblue;'>Project Data</b>\"), HTML(…"
      ]
     },
     "metadata": {},
     "output_type": "display_data"
    }
   ],
   "source": [
    "# Import necessary functions from the project_inputs.py file\n",
    "import projectinfo_widgets\n",
    "from projectinfo_widgets import create_project_info_widgets, get_inputs\n",
    "create_project_info_widgets()"
   ]
  },
  {
   "cell_type": "code",
   "execution_count": 4,
   "id": "71ff177e-ddff-4b89-a67f-d36fec823e43",
   "metadata": {
    "tags": []
   },
   "outputs": [],
   "source": [
    "projectinfo_widgets.subcategory_dropdown.value"
   ]
  },
  {
   "cell_type": "code",
   "execution_count": 5,
   "id": "6e3538d0-fc5a-4dad-81e8-6ba44f1cb19b",
   "metadata": {
    "tags": []
   },
   "outputs": [
    {
     "data": {
      "application/vnd.jupyter.widget-view+json": {
       "model_id": "a90fa34e6f61412c8dec39b8e138d75d",
       "version_major": 2,
       "version_minor": 0
      },
      "text/plain": [
       "VBox(children=(VBox(children=(HTML(value=\"<b style='color: darkblue;'>\\nHighway Speed and Volume Inputs (No Bu…"
      ]
     },
     "metadata": {},
     "output_type": "display_data"
    }
   ],
   "source": [
    "import modelinputs_widgets \n",
    "from modelinputs_widgets import create_new_widgets\n",
    "create_new_widgets()"
   ]
  },
  {
   "cell_type": "code",
   "execution_count": 8,
   "id": "3591a2d7-a337-43a6-8336-0386cd01f80b",
   "metadata": {
    "tags": []
   },
   "outputs": [],
   "source": [
    "import ipywidgets as widgets"
   ]
  },
  {
   "cell_type": "code",
   "execution_count": 24,
   "id": "e0fc0c50-767a-44d8-b867-67468c4c9b90",
   "metadata": {},
   "outputs": [],
   "source": [
    "truck_speed_year20peak_modelcalc_widget = widgets.IntText(\n",
    "    value=0,  # Set initial value to 0 or any other valid integer\n",
    "    description=\"Truck Speed (Calculated by Model):\",\n",
    "    disabled=True,  # Make it read-only so the user cannot modify the value\n",
    "    style={'description_width': 'initial'}\n",
    ")\n",
    "\n"
   ]
  },
  {
   "cell_type": "code",
   "execution_count": 27,
   "id": "9c3f867f-2518-4bd0-ae92-6667ec060508",
   "metadata": {
    "tags": []
   },
   "outputs": [],
   "source": [
    "def update_year20peak_truck_speed(change=None):\n",
    "    # Retrieve relevant widget values\n",
    "    PTV20NB = modelinputs_widgets.PTV20NB_widget.value\n",
    "    PWS20NB = modelinputs_widgets.PWS20NB_widget.value\n",
    "    PNS20NB = modelinputs_widgets.PNS20NB_widget.value\n",
    "    ProjType = projectinfo_widgets.subcategory_dropdown.value\n",
    "    IRI20NB = projectinfo_widgets.iri_forecast_year_no_build_widget.value\n",
    "    TruckSpeed = projectinfo_widgets.truck_design_speed_no_build_widget.value\n",
    "    SpeedPavAdj = params.SpeedPavAdj\n",
    "\n",
    "    # Check if PTV20NB is 0\n",
    "    if PTV20NB == 0:\n",
    "        truck_speed = 55\n",
    "    else:\n",
    "        base_speed = PWS20NB if ProjType in [\"Auxiliary Lane\", \"Off-Ramp Widening\"] else PNS20NB\n",
    "\n",
    "        if ProjType == \"Pavement\":\n",
    "            iri_keys = [k for k in SpeedPavAdj if k <= IRI20NB]\n",
    "            closest_iri = max(iri_keys) if iri_keys else 0\n",
    "\n",
    "            pavement_divisor = SpeedPavAdj[closest_iri][\"Truck\"]\n",
    "            adjusted_speed = min(TruckSpeed, base_speed / pavement_divisor)\n",
    "            pavement_multiplier = SpeedPavAdj[closest_iri][\"Truck\"]\n",
    "            truck_speed = adjusted_speed * pavement_multiplier\n",
    "        else:\n",
    "            truck_speed = min(TruckSpeed, base_speed)\n",
    "\n",
    "    # Update the widget with the calculated truck speed\n",
    "    truck_speed_year20peak_modelcalc_widget.value = round(truck_speed, 1)"
   ]
  },
  {
   "cell_type": "code",
   "execution_count": 28,
   "id": "921b1a75-35df-4dc1-9798-d0dcc7d5ccd3",
   "metadata": {
    "tags": []
   },
   "outputs": [
    {
     "ename": "AttributeError",
     "evalue": "module 'projectinfo_widgets' has no attribute 'truck_design_speed_no_build_widget'",
     "output_type": "error",
     "traceback": [
      "\u001b[0;31m---------------------------------------------------------------------------\u001b[0m",
      "\u001b[0;31mAttributeError\u001b[0m                            Traceback (most recent call last)",
      "Cell \u001b[0;32mIn[28], line 1\u001b[0m\n\u001b[0;32m----> 1\u001b[0m \u001b[43mupdate_year20peak_truck_speed\u001b[49m\u001b[43m(\u001b[49m\u001b[43mchange\u001b[49m\u001b[38;5;241;43m=\u001b[39;49m\u001b[38;5;28;43;01mNone\u001b[39;49;00m\u001b[43m)\u001b[49m\n",
      "Cell \u001b[0;32mIn[27], line 8\u001b[0m, in \u001b[0;36mupdate_year20peak_truck_speed\u001b[0;34m(change)\u001b[0m\n\u001b[1;32m      6\u001b[0m ProjType \u001b[38;5;241m=\u001b[39m projectinfo_widgets\u001b[38;5;241m.\u001b[39msubcategory_dropdown\u001b[38;5;241m.\u001b[39mvalue\n\u001b[1;32m      7\u001b[0m IRI20NB \u001b[38;5;241m=\u001b[39m projectinfo_widgets\u001b[38;5;241m.\u001b[39miri_forecast_year_no_build_widget\u001b[38;5;241m.\u001b[39mvalue\n\u001b[0;32m----> 8\u001b[0m TruckSpeed \u001b[38;5;241m=\u001b[39m \u001b[43mprojectinfo_widgets\u001b[49m\u001b[38;5;241;43m.\u001b[39;49m\u001b[43mtruck_design_speed_no_build_widget\u001b[49m\u001b[38;5;241m.\u001b[39mvalue\n\u001b[1;32m      9\u001b[0m SpeedPavAdj \u001b[38;5;241m=\u001b[39m params\u001b[38;5;241m.\u001b[39mSpeedPavAdj\n\u001b[1;32m     11\u001b[0m \u001b[38;5;66;03m# Check if PTV20NB is 0\u001b[39;00m\n",
      "\u001b[0;31mAttributeError\u001b[0m: module 'projectinfo_widgets' has no attribute 'truck_design_speed_no_build_widget'"
     ]
    }
   ],
   "source": [
    "update_year20peak_truck_speed(change=None)"
   ]
  },
  {
   "cell_type": "code",
   "execution_count": 20,
   "id": "59474ac5-b8ff-40fc-9594-f325f2fcecd9",
   "metadata": {
    "tags": []
   },
   "outputs": [
    {
     "data": {
      "text/plain": [
       "7996.26"
      ]
     },
     "execution_count": 20,
     "metadata": {},
     "output_type": "execute_result"
    }
   ],
   "source": [
    "truck_speed_year20peak_modelcalc_widget.value"
   ]
  },
  {
   "cell_type": "code",
   "execution_count": 21,
   "id": "8989dbca-aa80-4fce-a50b-acba44cd9535",
   "metadata": {
    "tags": []
   },
   "outputs": [],
   "source": [
    "def calculate_ntv20b(change):\n",
    "    try:\n",
    "        # Ensure user input is valid\n",
    "        if isinstance(truck_Vol_year20nonpeak_build_userchanged_widget.value, (int, float)) and truck_Vol_year20nonpeak_build_userchanged_widget.value >= 0:\n",
    "            NTV20B = max(float(truck_Vol_year20nonpeak_build_userchanged_widget.value), 0)  # Change here: Ensure user input is valid and non-negative\n",
    "        else:\n",
    "            NTV20B = max(truck_Vol_year20nonpeak_build_modelcalc_widget.value, 0)  # Change here: Fallback to model value if user input is invalid\n",
    "\n",
    "        # Update the NTV widget with the final value\n",
    "        NTV20B_widget.value = NTV20B\n",
    "    except Exception:\n",
    "        NTV20B_widget.value = max(truck_Vol_year20nonpeak_build_modelcalc_widget.value, 0)  # Change here: Default to model value on error"
   ]
  },
  {
   "cell_type": "code",
   "execution_count": 22,
   "id": "669c85b5-233f-4af2-bde3-b2e107d2109d",
   "metadata": {
    "tags": []
   },
   "outputs": [
    {
     "data": {
      "text/plain": [
       "0"
      ]
     },
     "execution_count": 22,
     "metadata": {},
     "output_type": "execute_result"
    }
   ],
   "source": [
    "NTV20B_widget.value"
   ]
  },
  {
   "cell_type": "code",
   "execution_count": null,
   "id": "7ed6c0d5-3699-442a-9583-7952809228c6",
   "metadata": {},
   "outputs": [],
   "source": []
  }
 ],
 "metadata": {
  "kernelspec": {
   "display_name": "Python 3 (ipykernel)",
   "language": "python",
   "name": "python3"
  },
  "language_info": {
   "codemirror_mode": {
    "name": "ipython",
    "version": 3
   },
   "file_extension": ".py",
   "mimetype": "text/x-python",
   "name": "python",
   "nbconvert_exporter": "python",
   "pygments_lexer": "ipython3",
   "version": "3.11.10"
  }
 },
 "nbformat": 4,
 "nbformat_minor": 5
}
