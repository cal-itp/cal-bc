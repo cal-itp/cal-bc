{
 "cells": [
  {
   "cell_type": "markdown",
   "id": "667bd63d",
   "metadata": {},
   "source": [
    "# CALBC vs 8.1 Sketch Model Test"
   ]
  },
  {
   "cell_type": "markdown",
   "id": "cc0f3cba",
   "metadata": {},
   "source": [
    "This code tests the CALBC version 8.1 Sketch Model. It utilizes a template file, which is designed to gather test data, and applies this data to the sketch model to generate final results. Test template can be updated [here](https://caltrans.sharepoint.com/:x:/r/sites/DOTHQPMPCalBCUpdate/Shared%20Documents/General/Testbed/Input/testbed_template.xlsm?d=w3bca22e7b5714f5399bb4015c94aa134&csf=1&web=1&e=9AuFn9). To run this code, you'll need to sync the [Testbed folder](https://teams.microsoft.com/l/team/19%3AQrQ3LladNmkiVpFmuCmW2H72CKQz9MrBc2yr1kukBoA1%40thread.tacv2/conversations?groupId=f2d54ae5-490b-4b95-99cf-bafddf8f38b6&tenantId=621b0a64-1740-43cc-8d88-4540d3487556) from [CalB/C Update](https://teams.microsoft.com/l/team/19%3AQrQ3LladNmkiVpFmuCmW2H72CKQz9MrBc2yr1kukBoA1%40thread.tacv2/conversations?groupId=f2d54ae5-490b-4b95-99cf-bafddf8f38b6&tenantId=621b0a64-1740-43cc-8d88-4540d3487556) Teams folder to your local machine. Output will be saved in designated [Output Folder](https://caltrans.sharepoint.com/:f:/r/sites/DOTHQPMPCalBCUpdate/Shared%20Documents/General/Testbed/Output?csf=1&web=1&e=X5VbAM). \n",
    "\n",
    "Steps: \n",
    "- Update relevant tables (e.g., cost) in the main file using the template.\n",
    "- Save a separate file for each project (e.g., 1.0, 2.0, etc.) in the designated output directory.\n",
    "- Update input values in the output files using the relevant named ranges.\n",
    "- Recalculate formulas and save the final version of each updated project file. "
   ]
  },
  {
   "cell_type": "code",
   "execution_count": 1,
   "id": "8f1acb5f-93e8-44a4-a62a-bd2e914c8764",
   "metadata": {
    "tags": []
   },
   "outputs": [
    {
     "name": "stdout",
     "output_type": "stream",
     "text": [
      "Requirement already satisfied: xlwings in c:\\users\\s159357\\appdata\\local\\packages\\pythonsoftwarefoundation.python.3.11_qbz5n2kfra8p0\\localcache\\local-packages\\python311\\site-packages (0.33.6)Note: you may need to restart the kernel to use updated packages.\n",
      "\n",
      "Requirement already satisfied: pywin32>=224 in c:\\users\\s159357\\appdata\\local\\packages\\pythonsoftwarefoundation.python.3.11_qbz5n2kfra8p0\\localcache\\local-packages\\python311\\site-packages (from xlwings) (306)\n"
     ]
    },
    {
     "name": "stderr",
     "output_type": "stream",
     "text": [
      "\n",
      "[notice] A new release of pip is available: 24.0 -> 25.0.1\n",
      "[notice] To update, run: C:\\Users\\s159357\\AppData\\Local\\Microsoft\\WindowsApps\\PythonSoftwareFoundation.Python.3.11_qbz5n2kfra8p0\\python.exe -m pip install --upgrade pip\n"
     ]
    }
   ],
   "source": [
    "pip install xlwings "
   ]
  },
  {
   "cell_type": "code",
   "execution_count": 2,
   "id": "1a90975f-2857-4dec-bfc0-c97714f1bba2",
   "metadata": {
    "tags": []
   },
   "outputs": [
    {
     "name": "stdout",
     "output_type": "stream",
     "text": [
      "Requirement already satisfied: openpyxl in c:\\users\\s159357\\appdata\\local\\packages\\pythonsoftwarefoundation.python.3.11_qbz5n2kfra8p0\\localcache\\local-packages\\python311\\site-packages (3.1.5)\n",
      "Requirement already satisfied: et-xmlfile in c:\\users\\s159357\\appdata\\local\\packages\\pythonsoftwarefoundation.python.3.11_qbz5n2kfra8p0\\localcache\\local-packages\\python311\\site-packages (from openpyxl) (2.0.0)\n",
      "Note: you may need to restart the kernel to use updated packages.\n"
     ]
    },
    {
     "name": "stderr",
     "output_type": "stream",
     "text": [
      "\n",
      "[notice] A new release of pip is available: 24.0 -> 25.0.1\n",
      "[notice] To update, run: C:\\Users\\s159357\\AppData\\Local\\Microsoft\\WindowsApps\\PythonSoftwareFoundation.Python.3.11_qbz5n2kfra8p0\\python.exe -m pip install --upgrade pip\n"
     ]
    }
   ],
   "source": [
    "pip install openpyxl "
   ]
  },
  {
   "cell_type": "code",
   "execution_count": 3,
   "id": "1edf73f4-e81c-4bbf-8d66-9fa4beea3a52",
   "metadata": {
    "tags": []
   },
   "outputs": [],
   "source": [
    "import openpyxl\n",
    "import xlwings as xw\n",
    "import pandas as pd\n",
    "import shutil\n",
    "import io\n",
    "import os\n",
    "import pandas as pd\n",
    "import time\n"
   ]
  },
  {
   "cell_type": "code",
   "execution_count": 4,
   "id": "63fd5e31",
   "metadata": {},
   "outputs": [],
   "source": [
    "user_profile = os.getenv('USERPROFILE') ## Retrieving user profile directory from 'USERPROFILE' environment variable."
   ]
  },
  {
   "cell_type": "code",
   "execution_count": 5,
   "id": "2bb9d5bb",
   "metadata": {},
   "outputs": [],
   "source": [
    "# Constructing the base directory path using the user profile directory.\n",
    "base_dir = os.path.join(\n",
    "    user_profile, \n",
    "    'California Department of Transportation',\n",
    "    'DOT HQ PMP Cal B C Update - General',\n",
    "    'Testbed'\n",
    ")"
   ]
  },
  {
   "cell_type": "code",
   "execution_count": 6,
   "id": "0bef0132-79aa-4323-afcd-78a29ac8c1ed",
   "metadata": {
    "tags": []
   },
   "outputs": [],
   "source": [
    "# Constructing file directory for output and reading input files.\n",
    "output_dir = os.path.join(base_dir, 'Output')\n",
    "sketch_file = os.path.join(base_dir, 'Input', 'cal-bc-8-1-sketch-a11y.xlsm')\n",
    "template_file = os.path.join(base_dir, 'Input', 'testbed_template.xlsm')"
   ]
  },
  {
   "cell_type": "markdown",
   "id": "9e374d49",
   "metadata": {},
   "source": [
    "## Update Cost Table"
   ]
  },
  {
   "cell_type": "code",
   "execution_count": 7,
   "id": "dded2f47",
   "metadata": {},
   "outputs": [],
   "source": [
    "def get_tables_by_prefix(template_wb, prefix):\n",
    "    # Initialize an empty list to store the tables that match the prefix\n",
    "    tables_to_copy = []\n",
    "    \n",
    "    for sheet in template_wb.sheets:\n",
    "        # Iterate through each table (ListObject) in the current sheet\n",
    "        for table in sheet.tables:\n",
    "            if table.name.startswith(prefix):\n",
    "                tables_to_copy.append((sheet.name, table.name))\n",
    "                \n",
    "    # Return the list of tables that matched the prefix\n",
    "    return tables_to_copy"
   ]
  },
  {
   "cell_type": "code",
   "execution_count": 8,
   "id": "dfcc3b1f",
   "metadata": {},
   "outputs": [],
   "source": [
    "# Test function for get_tables_by_prefix\n",
    "def test_get_tables_by_prefix():\n",
    "\n",
    "    with xw.App(visible=False) as app:\n",
    "        template_wb = app.books.open(template_file)\n",
    "        \n",
    "        table_prefix = '_ConsCost'\n",
    "        \n",
    "\n",
    "        tables_to_copy = get_tables_by_prefix(template_wb, table_prefix)\n",
    "        \n",
    "\n",
    "        if tables_to_copy:\n",
    "            print(f\"Tables found with prefix '{table_prefix}':\")\n",
    "            for sheet_name, table_name in tables_to_copy:\n",
    "                print(f\"Sheet: {sheet_name}, Table: {table_name}\")\n",
    "        else:\n",
    "            print(f\"No tables found with prefix '{table_prefix}'.\")\n",
    "\n",
    "        template_wb.close()"
   ]
  },
  {
   "cell_type": "code",
   "execution_count": 9,
   "id": "7a5fe03c",
   "metadata": {},
   "outputs": [
    {
     "name": "stdout",
     "output_type": "stream",
     "text": [
      "Tables found with prefix '_ConsCost':\n",
      "Sheet: 001) Project Information, Table: _ConsCost1.0\n",
      "Sheet: 002) Project Information, Table: _ConsCost2.0\n",
      "Sheet: 003) Project Information, Table: _ConsCost3.0\n"
     ]
    }
   ],
   "source": [
    "test_get_tables_by_prefix()"
   ]
  },
  {
   "cell_type": "code",
   "execution_count": 10,
   "id": "ea9e2981",
   "metadata": {},
   "outputs": [],
   "source": [
    "def update_cost_in_main_file(template_file, sketch_file, output_dir, tables_info):   \n",
    "    # Open the template file and the main file\n",
    "    with xw.App(visible=False) as app:\n",
    "        template_wb = app.books.open(template_file)\n",
    "        main_wb = app.books.open(sketch_file)\n",
    "\n",
    "        # Iterating over all table types\n",
    "        for table_type, target_range in tables_info.items():\n",
    "            # Iterating through suffixes\n",
    "            suffixes = ['1.0', '2.0', '3.0'] \n",
    "            \n",
    "            for suffix in suffixes:\n",
    "                print(f\"Processing table type '{table_type}' with suffix '{suffix}'...\")\n",
    "                \n",
    "                # Getting the tables with the specified prefix and suffix\n",
    "                tables_to_copy = get_tables_by_prefix(template_wb, f\"{table_type}{suffix}\")\n",
    "                \n",
    "                if not tables_to_copy:\n",
    "                    print(f\"No tables found with prefix '{table_type}{suffix}'.\")\n",
    "                    continue\n",
    "                \n",
    "                for sheet_name, table_name in tables_to_copy:\n",
    "                    sheet = main_wb.sheets['1) Project Information']\n",
    "                    target_range_obj = sheet.range(target_range) \n",
    "                    \n",
    "                    # Getting the table from the template\n",
    "                    table = template_wb.sheets[sheet_name].tables[table_name]\n",
    "                    \n",
    "                    # Getting the data from the table\n",
    "                    table_data = table.range.value\n",
    "                    \n",
    "                    # Updating the target range in the main file\n",
    "                    target_range_obj.value = table_data\n",
    "                    \n",
    "                    # Recalculating the workbook\n",
    "                    main_wb.app.calculate()\n",
    "                    \n",
    "                    # Saving the updated file with the suffix\n",
    "                    updated_file_path = os.path.join(output_dir, f\"updated_file_{table_type}_{suffix}.xlsm\")\n",
    "                    \n",
    "                    try:\n",
    "                        # Attempting to save the workbook\n",
    "                        main_wb.save(updated_file_path)\n",
    "                        print(f\"File saved as: {updated_file_path}\")\n",
    "                        \n",
    "                        # Adding a short delay to ensure Excel has time to complete the save operation\n",
    "                        time.sleep(4)\n",
    "                        \n",
    "                    except Exception as e:\n",
    "                        print(f\"Error saving file: {e}\")\n",
    "        \n",
    "        # Closing the workbooks\n",
    "        template_wb.close()\n",
    "        main_wb.close()"
   ]
  },
  {
   "cell_type": "code",
   "execution_count": 11,
   "id": "326b305b",
   "metadata": {},
   "outputs": [],
   "source": [
    "tables_info = {\n",
    "        '_ConsCost': 'V15:AC43',  # Same range for all ConsCost tables (1.0, 2.0, etc.)\n",
    "    }"
   ]
  },
  {
   "cell_type": "code",
   "execution_count": 12,
   "id": "f7bf7879",
   "metadata": {},
   "outputs": [
    {
     "name": "stdout",
     "output_type": "stream",
     "text": [
      "Processing table type '_ConsCost' with suffix '1.0'...\n",
      "File saved as: C:\\Users\\s159357\\California Department of Transportation\\DOT HQ PMP Cal B C Update - General\\Testbed\\Output\\updated_file__ConsCost_1.0.xlsm\n",
      "Processing table type '_ConsCost' with suffix '2.0'...\n",
      "File saved as: C:\\Users\\s159357\\California Department of Transportation\\DOT HQ PMP Cal B C Update - General\\Testbed\\Output\\updated_file__ConsCost_2.0.xlsm\n",
      "Processing table type '_ConsCost' with suffix '3.0'...\n",
      "File saved as: C:\\Users\\s159357\\California Department of Transportation\\DOT HQ PMP Cal B C Update - General\\Testbed\\Output\\updated_file__ConsCost_3.0.xlsm\n"
     ]
    }
   ],
   "source": [
    "update_cost_in_main_file(template_file, sketch_file, output_dir, tables_info)"
   ]
  },
  {
   "cell_type": "markdown",
   "id": "1fbbd088",
   "metadata": {},
   "source": [
    "## Updating Named Ranges"
   ]
  },
  {
   "cell_type": "code",
   "execution_count": 13,
   "id": "1a1edb9c",
   "metadata": {},
   "outputs": [],
   "source": [
    "# Reading the Excel file as binary and loading it into a workbook object.\n",
    "with open(sketch_file, 'rb') as f:\n",
    "    file_data = f.read()\n",
    "    \n",
    "# Loading the workbook from the binary data, preserving any VBA code\n",
    "    wb = openpyxl.load_workbook(io.BytesIO(file_data), keep_vba=True)"
   ]
  },
  {
   "cell_type": "code",
   "execution_count": 14,
   "id": "7c64d6bd",
   "metadata": {},
   "outputs": [],
   "source": [
    "# function to find named ranges, extract sheet name and cell reference and update cell's value with corresponding value from name_value_map\n",
    "def update_named_ranges(wb, name_value_map):\n",
    "    for name, new_value in name_value_map.items():\n",
    "        try:\n",
    "            # Accessing the defined name ranges in the workbook via wb.defined_names\n",
    "            defined_name = wb.defined_names[name]\n",
    "            \n",
    "            # Converting the generator to a list and get the first destination\n",
    "            destinations = list(defined_name.destinations)\n",
    "            if destinations:\n",
    "                sheet_name, cell_reference = destinations[0]\n",
    "                sheet = wb[sheet_name]\n",
    "                \n",
    "                # Updating the value of the cell\n",
    "                sheet[cell_reference] = new_value\n",
    "                \n",
    "                # Verifying the updated value\n",
    "                updated_value = sheet[cell_reference]\n",
    "                print(f\"Updated value of '{name}' in {sheet_name} ({cell_reference}): {updated_value}\")\n",
    "            else:\n",
    "                print(f\"Error: No destinations found for the named range '{name}'.\")\n",
    "        \n",
    "        except KeyError:\n",
    "            print(f\"Error: Named range '{name}' not found in the workbook.\")\n",
    "        except Exception as e:\n",
    "            print(f\"An error occurred: {e}\")"
   ]
  },
  {
   "cell_type": "code",
   "execution_count": 15,
   "id": "272baf70",
   "metadata": {},
   "outputs": [],
   "source": [
    "# Extracting project data from the template file\n",
    "def extract_project_data_pandas(template_file):\n",
    "\n",
    "    df = pd.read_excel(template_file, sheet_name=\"Overall Info\")  \n",
    "    df_filtered = df[df['ProjID'].notna()]  \n",
    "    \n",
    "    name_value_map = df_filtered.set_index('ProjID').to_dict(orient='index')\n",
    "    \n",
    "    return name_value_map\n"
   ]
  },
  {
   "cell_type": "code",
   "execution_count": 16,
   "id": "fa464e57",
   "metadata": {},
   "outputs": [
    {
     "name": "stderr",
     "output_type": "stream",
     "text": [
      "C:\\Users\\s159357\\AppData\\Local\\Packages\\PythonSoftwareFoundation.Python.3.11_qbz5n2kfra8p0\\LocalCache\\local-packages\\Python311\\site-packages\\openpyxl\\reader\\workbook.py:84: UserWarning: File contains an invalid specification for 0. This will be removed\n",
      "  warn(msg)\n"
     ]
    }
   ],
   "source": [
    "# Using the extracting project function \n",
    "name_value_map = extract_project_data_pandas(template_file)"
   ]
  },
  {
   "cell_type": "code",
   "execution_count": 17,
   "id": "0f00a05b",
   "metadata": {
    "collapsed": true,
    "jupyter": {
     "outputs_hidden": true
    },
    "tags": []
   },
   "outputs": [
    {
     "name": "stdout",
     "output_type": "stream",
     "text": [
      "{1.0: {'ProjName': 'Sketch Example', 'District': 'HQ', 'ProjType': '    Hwy-Rail Grade Crossing', 'ProjLoc': 1.0, 'Construct': 6.0, 'NumDirections': 2.0, 'PeakLngthNB': 5.0, 'RoadTypeNB': 'C', 'RoadTypeB': 'C', 'GenLanesNB': 2.0, 'GenLanesB': 2.0, 'HOVLanesNB': 0.0, 'HOVLanesB': 2.0, 'HOVRest': 2.0, 'Exclusive': 'N', 'FFSpeedNB': 65.0, 'FFSpeedB': 65.0, 'RampFFSpdNB': 35.0, 'RampFFSpdB': 35.0, 'SegmentNB': 1.1, 'SegmentB': 1.1, 'ImpactedNB': 1.1, 'ImpactedB': 1.1, 'ADT0': 90000.0, 'ADT1NB': 101617.2, 'ADT1B': 109265.8064516129, 'ADT20NB': 138405.0, 'ADT20B': 148822.58064516127, 'HOVvolNB': 0.0, 'HOVvolB': 2030.0, 'PerIndHOV': '100%', 'PerWeaveNB': nan, 'PerWeaveB': '10%', 'PerTruckNB': 0.09, 'PerTruckB': 0.09, 'TruckSpeed': 55.0, 'RampVolP': 0.0, 'RampVolNP': nan, 'MeterStrat': 0.0, 'ArrRate1': 8468.1, 'ArrRate20': 11533.75, 'DepRate1': 2800.0, 'DepRate20': 2800.0, 'IRI1NB': 0.0, 'IRI1B': 0.0, 'IRI20NB': nan, 'IRI20B': nan, 'AVONonNB': 1.38, 'AVONonB': 1.65, 'AVOPeakNB': 1.42, 'AVOPeakB': 1.7, 'AVOHovNB': 0.0, 'AVOHovB': 2.15, 'TotCrashCt': 150.0, 'FatCrashCt': 3.0, 'InjCrashCt': 34.0, 'PDOCrashCt': nan, 'RateGroupNB': 'H', 'RateGroupB': 'H', 'AccStAvgNB': 1.14, 'AccStAvgB': 0.64, 'PFatStAvgNB': 0.006, 'PFatStAvgB': 0.005, 'PInjStAvgNB': 0.38, 'PInjStAvgB': 0.321, 'TAPT1NB': 1602.0, 'TAPT1B': 1602.0, 'TAPT20NB': 3037.0, 'TAPT20B': 4.0, 'TPerPeak': nan, 'TPerHwy': 0.0, 'TVehMi1NB': 8, 'TVehMi1B': 8.0, 'TVehMi20NB': 16.0, 'TVehMi20B': 16.0, 'TVehPerTrainNB': 0.0, 'TVehPerTrainB': 0.0, 'TAccReductPer': 0.0, 'TInTimeNBN': 1.0, 'TInTimeBN': 1.0, 'TInTimeNBP': 10.0, 'TInTimeBP': 3.0, 'TOutTimeNBN': 0.0, 'TOutTimeBN': 0.0, 'TOutTimeNBP': 0.0, 'TOutTimeBP': 0.0, 'NumTrain0': 0.0, 'NumTrain1': 0.0, 'NumTrain20': 0.0, 'GateTime0': 0.0, 'GateTime1': 0.0, 'GateTime20': 0.0, 'TCapCostNB': 0.0, 'TCapCostB': 0.0, 'TOMCostNB': 0.0, 'TOMCostB': 0.0, 'SegmentR': 0.0, 'SegmentA': 0.0}, 2.0: {'ProjName': 'Hypothetical Project', 'District': 'HQ', 'ProjType': '    Bus Rapid Transit (BRT)', 'ProjLoc': 2.0, 'Construct': 5.0, 'NumDirections': 2.0, 'PeakLngthNB': 6.0, 'RoadTypeNB': 'F', 'RoadTypeB': 'F', 'GenLanesNB': 0.0, 'GenLanesB': 0.0, 'HOVLanesNB': 0.0, 'HOVLanesB': 0.0, 'HOVRest': 0.0, 'Exclusive': 'N', 'FFSpeedNB': 0.0, 'FFSpeedB': 0.0, 'RampFFSpdNB': 35.0, 'RampFFSpdB': 35.0, 'SegmentNB': 0.0, 'SegmentB': 0.0, 'ImpactedNB': 0.0, 'ImpactedB': 0.0, 'ADT0': 0.0, 'ADT1NB': 0.0, 'ADT1B': 0.0, 'ADT20NB': 0.0, 'ADT20B': 0.0, 'HOVvolNB': 0.0, 'HOVvolB': 0.0, 'PerIndHOV': '100%', 'PerWeaveNB': nan, 'PerWeaveB': '10%', 'PerTruckNB': 0.09, 'PerTruckB': 0.09, 'TruckSpeed': 0.0, 'RampVolP': 0.0, 'RampVolNP': nan, 'MeterStrat': 0.0, 'ArrRate1': 0.0, 'ArrRate20': 0.0, 'DepRate1': 0.0, 'DepRate20': 0.0, 'IRI1NB': 0.0, 'IRI1B': 0.0, 'IRI20NB': nan, 'IRI20B': nan, 'AVONonNB': 1.3, 'AVONonB': 1.3, 'AVOPeakNB': 1.15, 'AVOPeakB': 1.15, 'AVOHovNB': 2.15, 'AVOHovB': 2.15, 'TotCrashCt': 0.0, 'FatCrashCt': 0.0, 'InjCrashCt': 0.0, 'PDOCrashCt': nan, 'RateGroupNB': 0, 'RateGroupB': 0, 'AccStAvgNB': 0.0, 'AccStAvgB': 0.0, 'PFatStAvgNB': 0.0, 'PFatStAvgB': 0.0, 'PInjStAvgNB': 0.0, 'PInjStAvgB': 0.0, 'TAPT1NB': 0.0, 'TAPT1B': 0.0, 'TAPT20NB': 0.0, 'TAPT20B': 0.0, 'TPerPeak': nan, 'TPerHwy': 1.0, 'TVehMi1NB': 0, 'TVehMi1B': 0.0, 'TVehMi20NB': 0.0, 'TVehMi20B': 0.0, 'TVehPerTrainNB': 0.0, 'TVehPerTrainB': 0.0, 'TAccReductPer': 0.0, 'TInTimeNBN': 0.0, 'TInTimeBN': 0.0, 'TInTimeNBP': 0.0, 'TInTimeBP': 0.0, 'TOutTimeNBN': 0.0, 'TOutTimeBN': 0.0, 'TOutTimeNBP': 0.0, 'TOutTimeBP': 0.0, 'NumTrain0': 0.0, 'NumTrain1': 0.0, 'NumTrain20': 0.0, 'GateTime0': 0.0, 'GateTime1': 0.0, 'GateTime20': 0.0, 'TCapCostNB': 0.0, 'TCapCostB': 0.0, 'TOMCostNB': 0.0, 'TOMCostB': 0.0, 'SegmentR': 0.0, 'SegmentA': 0.0}, 3.0: {'ProjName': 'Hypothetical Project', 'District': 'HQ', 'ProjType': '    HOV Connector', 'ProjLoc': 2.0, 'Construct': 5.0, 'NumDirections': 2.0, 'PeakLngthNB': 7.0, 'RoadTypeNB': 'F', 'RoadTypeB': 'F', 'GenLanesNB': 0.0, 'GenLanesB': 0.0, 'HOVLanesNB': 0.0, 'HOVLanesB': 0.0, 'HOVRest': 0.0, 'Exclusive': 'N', 'FFSpeedNB': 0.0, 'FFSpeedB': 0.0, 'RampFFSpdNB': nan, 'RampFFSpdB': nan, 'SegmentNB': 0.0, 'SegmentB': 0.0, 'ImpactedNB': 0.0, 'ImpactedB': 0.0, 'ADT0': 0.0, 'ADT1NB': 0.0, 'ADT1B': 0.0, 'ADT20NB': 0.0, 'ADT20B': 0.0, 'HOVvolNB': 0.0, 'HOVvolB': 0.0, 'PerIndHOV': nan, 'PerWeaveNB': nan, 'PerWeaveB': '10%', 'PerTruckNB': 0.09, 'PerTruckB': 0.09, 'TruckSpeed': 0.0, 'RampVolP': 0.0, 'RampVolNP': nan, 'MeterStrat': 0.0, 'ArrRate1': 0.0, 'ArrRate20': 0.0, 'DepRate1': 0.0, 'DepRate20': 0.0, 'IRI1NB': 0.0, 'IRI1B': 0.0, 'IRI20NB': nan, 'IRI20B': nan, 'AVONonNB': 1.3, 'AVONonB': 1.3, 'AVOPeakNB': 1.15, 'AVOPeakB': 1.15, 'AVOHovNB': 2.15, 'AVOHovB': 2.15, 'TotCrashCt': 0.0, 'FatCrashCt': 0.0, 'InjCrashCt': 0.0, 'PDOCrashCt': nan, 'RateGroupNB': 0, 'RateGroupB': 0, 'AccStAvgNB': 0.0, 'AccStAvgB': 0.0, 'PFatStAvgNB': 0.0, 'PFatStAvgB': 0.0, 'PInjStAvgNB': 0.0, 'PInjStAvgB': 0.0, 'TAPT1NB': 0.0, 'TAPT1B': 0.0, 'TAPT20NB': 0.0, 'TAPT20B': 0.0, 'TPerPeak': nan, 'TPerHwy': 1.0, 'TVehMi1NB': 0, 'TVehMi1B': 0.0, 'TVehMi20NB': 0.0, 'TVehMi20B': 0.0, 'TVehPerTrainNB': 0.0, 'TVehPerTrainB': 0.0, 'TAccReductPer': 0.0, 'TInTimeNBN': 0.0, 'TInTimeBN': 0.0, 'TInTimeNBP': 0.0, 'TInTimeBP': 0.0, 'TOutTimeNBN': 0.0, 'TOutTimeBN': 0.0, 'TOutTimeNBP': 0.0, 'TOutTimeBP': 0.0, 'NumTrain0': 0.0, 'NumTrain1': 0.0, 'NumTrain20': 0.0, 'GateTime0': 0.0, 'GateTime1': 0.0, 'GateTime20': 0.0, 'TCapCostNB': 0.0, 'TCapCostB': 0.0, 'TOMCostNB': 0.0, 'TOMCostB': 0.0, 'SegmentR': 0.0, 'SegmentA': 0.0}}\n"
     ]
    }
   ],
   "source": [
    "#Checking generated dictionary \n",
    "print(name_value_map)"
   ]
  },
  {
   "cell_type": "code",
   "execution_count": 18,
   "id": "87739fc2",
   "metadata": {},
   "outputs": [],
   "source": [
    "def recalculate_and_save_xlsm(name_value_map, output_dir):\n",
    "    for proj_id, value in name_value_map.items():\n",
    "        try:\n",
    "            output_file_path = os.path.join(output_dir, f\"updated_file__ConsCost_{proj_id}.xlsm\")\n",
    "            \n",
    "            if os.path.exists(output_file_path):\n",
    "                # Opening the workbook using openpyxl\n",
    "                print(f\"Opening workbook {output_file_path}...\")\n",
    "                \n",
    "                wb_excel = openpyxl.load_workbook(output_file_path, keep_vba=True)  # keep_vba=True to preserve macros\n",
    "                print(f\"Workbook {output_file_path} opened successfully.\")\n",
    "                \n",
    "                # Updating the named ranges in the workbook\n",
    "                update_named_ranges(wb_excel, value)\n",
    "                \n",
    "                # Saving the workbook with the updated data\n",
    "                wb_excel.save(output_file_path)\n",
    "                print(f\"Workbook updated and saved: {output_file_path}\")\n",
    "            else:\n",
    "                print(f\"Error: The file {output_file_path} does not exist.\")\n",
    "        \n",
    "        except Exception as e:\n",
    "            print(f\"Error during recalculation for {proj_id}: {e}\")"
   ]
  },
  {
   "cell_type": "code",
   "execution_count": 19,
   "id": "7cbac072",
   "metadata": {},
   "outputs": [
    {
     "name": "stdout",
     "output_type": "stream",
     "text": [
      "Opening workbook C:\\Users\\s159357\\California Department of Transportation\\DOT HQ PMP Cal B C Update - General\\Testbed\\Output\\updated_file__ConsCost_1.0.xlsm...\n",
      "Workbook C:\\Users\\s159357\\California Department of Transportation\\DOT HQ PMP Cal B C Update - General\\Testbed\\Output\\updated_file__ConsCost_1.0.xlsm opened successfully.\n",
      "Updated value of 'ProjName' in 1) Project Information ($E$4): <Cell '1) Project Information'.E4>\n",
      "Error: Named range 'District' not found in the workbook.\n",
      "Updated value of 'ProjType' in 1) Project Information ($F$10): <Cell '1) Project Information'.F10>\n",
      "Updated value of 'ProjLoc' in 1) Project Information ($H$12): <Cell '1) Project Information'.H12>\n",
      "Updated value of 'Construct' in 1) Project Information ($F$14): <Cell '1) Project Information'.F14>\n",
      "Updated value of 'NumDirections' in 1) Project Information ($F$15): <Cell '1) Project Information'.F15>\n",
      "Updated value of 'PeakLngthNB' in 1) Project Information ($F$17): <Cell '1) Project Information'.F17>\n",
      "Updated value of 'RoadTypeNB' in 1) Project Information ($G$24): <Cell '1) Project Information'.G24>\n",
      "Updated value of 'RoadTypeB' in 1) Project Information ($H$24): <Cell '1) Project Information'.H24>\n",
      "Updated value of 'GenLanesNB' in 1) Project Information ($G$25): <Cell '1) Project Information'.G25>\n",
      "Updated value of 'GenLanesB' in 1) Project Information ($H$25): <Cell '1) Project Information'.H25>\n",
      "Updated value of 'HOVLanesNB' in 1) Project Information ($G$26): <Cell '1) Project Information'.G26>\n",
      "Updated value of 'HOVLanesB' in 1) Project Information ($H$26): <Cell '1) Project Information'.H26>\n",
      "Updated value of 'HOVRest' in 1) Project Information ($G$27): <Cell '1) Project Information'.G27>\n",
      "Updated value of 'Exclusive' in 1) Project Information ($G$28): <Cell '1) Project Information'.G28>\n",
      "Updated value of 'FFSpeedNB' in 1) Project Information ($G$30): <Cell '1) Project Information'.G30>\n",
      "Updated value of 'FFSpeedB' in 1) Project Information ($H$30): <Cell '1) Project Information'.H30>\n",
      "Updated value of 'RampFFSpdNB' in 1) Project Information ($G$31): <Cell '1) Project Information'.G31>\n",
      "Updated value of 'RampFFSpdB' in 1) Project Information ($H$31): <Cell '1) Project Information'.H31>\n",
      "Updated value of 'SegmentNB' in 1) Project Information ($G$32): <Cell '1) Project Information'.G32>\n",
      "Updated value of 'SegmentB' in 1) Project Information ($H$32): <Cell '1) Project Information'.H32>\n",
      "Updated value of 'ImpactedNB' in 1) Project Information ($G$33): <Cell '1) Project Information'.G33>\n",
      "Updated value of 'ImpactedB' in 1) Project Information ($H$33): <Cell '1) Project Information'.H33>\n",
      "Updated value of 'ADT0' in 1) Project Information ($G$36): <Cell '1) Project Information'.G36>\n",
      "Updated value of 'ADT1NB' in 1) Project Information ($G$38): <Cell '1) Project Information'.G38>\n",
      "Updated value of 'ADT1B' in 1) Project Information ($H$38): <Cell '1) Project Information'.H38>\n",
      "Updated value of 'ADT20NB' in 1) Project Information ($G$39): <Cell '1) Project Information'.G39>\n",
      "Updated value of 'ADT20B' in 1) Project Information ($H$39): <Cell '1) Project Information'.H39>\n",
      "Updated value of 'HOVvolNB' in 1) Project Information ($G$40): <Cell '1) Project Information'.G40>\n",
      "Updated value of 'HOVvolB' in 1) Project Information ($H$40): <Cell '1) Project Information'.H40>\n",
      "Updated value of 'PerIndHOV' in 1) Project Information ($H$41): <Cell '1) Project Information'.H41>\n",
      "Updated value of 'PerWeaveNB' in 1) Project Information ($G$42): <Cell '1) Project Information'.G42>\n",
      "Updated value of 'PerWeaveB' in 1) Project Information ($H$42): <Cell '1) Project Information'.H42>\n",
      "Updated value of 'PerTruckNB' in 1) Project Information ($G$43): <Cell '1) Project Information'.G43>\n",
      "Updated value of 'PerTruckB' in 1) Project Information ($H$43): <Cell '1) Project Information'.H43>\n",
      "Updated value of 'TruckSpeed' in 1) Project Information ($G$44): <Cell '1) Project Information'.G44>\n",
      "Updated value of 'RampVolP' in 1) Project Information ($G$47): <Cell '1) Project Information'.G47>\n",
      "Updated value of 'RampVolNP' in 1) Project Information ($H$47): <Cell '1) Project Information'.H47>\n",
      "Updated value of 'MeterStrat' in 1) Project Information ($G$48): <Cell '1) Project Information'.G48>\n",
      "Updated value of 'ArrRate1' in 1) Project Information ($G$51): <Cell '1) Project Information'.G51>\n",
      "Updated value of 'ArrRate20' in 1) Project Information ($H$51): <Cell '1) Project Information'.H51>\n",
      "Updated value of 'DepRate1' in 1) Project Information ($G$52): <Cell '1) Project Information'.G52>\n",
      "Updated value of 'DepRate20' in 1) Project Information ($H$52): <Cell '1) Project Information'.H52>\n",
      "Updated value of 'IRI1NB' in 1) Project Information ($G$55): <Cell '1) Project Information'.G55>\n",
      "Updated value of 'IRI1B' in 1) Project Information ($H$55): <Cell '1) Project Information'.H55>\n",
      "Updated value of 'IRI20NB' in 1) Project Information ($G$56): <Cell '1) Project Information'.G56>\n",
      "Updated value of 'IRI20B' in 1) Project Information ($H$56): <Cell '1) Project Information'.H56>\n",
      "Updated value of 'AVONonNB' in 1) Project Information ($G$59): <Cell '1) Project Information'.G59>\n",
      "Updated value of 'AVONonB' in 1) Project Information ($H$59): <Cell '1) Project Information'.H59>\n",
      "Updated value of 'AVOPeakNB' in 1) Project Information ($G$60): <Cell '1) Project Information'.G60>\n",
      "Updated value of 'AVOPeakB' in 1) Project Information ($H$60): <Cell '1) Project Information'.H60>\n",
      "Updated value of 'AVOHovNB' in 1) Project Information ($G$61): <Cell '1) Project Information'.G61>\n",
      "Updated value of 'AVOHovB' in 1) Project Information ($H$61): <Cell '1) Project Information'.H61>\n",
      "Error: Named range 'TotCrashCt' not found in the workbook.\n",
      "Error: Named range 'FatCrashCt' not found in the workbook.\n",
      "Error: Named range 'InjCrashCt' not found in the workbook.\n",
      "Error: Named range 'PDOCrashCt' not found in the workbook.\n",
      "Updated value of 'RateGroupNB' in 1) Project Information ($P$18): <Cell '1) Project Information'.P18>\n",
      "Updated value of 'RateGroupB' in 1) Project Information ($Q$18): <Cell '1) Project Information'.Q18>\n",
      "Updated value of 'AccStAvgNB' in 1) Project Information ($P$19): <Cell '1) Project Information'.P19>\n",
      "Updated value of 'AccStAvgB' in 1) Project Information ($Q$19): <Cell '1) Project Information'.Q19>\n",
      "Updated value of 'PFatStAvgNB' in 1) Project Information ($P$20): <Cell '1) Project Information'.P20>\n",
      "Updated value of 'PFatStAvgB' in 1) Project Information ($Q$20): <Cell '1) Project Information'.Q20>\n",
      "Updated value of 'PInjStAvgNB' in 1) Project Information ($P$21): <Cell '1) Project Information'.P21>\n",
      "Updated value of 'PInjStAvgB' in 1) Project Information ($Q$21): <Cell '1) Project Information'.Q21>\n",
      "Updated value of 'TAPT1NB' in 1) Project Information ($P$28): <Cell '1) Project Information'.P28>\n",
      "Updated value of 'TAPT1B' in 1) Project Information ($Q$28): <Cell '1) Project Information'.Q28>\n",
      "Updated value of 'TAPT20NB' in 1) Project Information ($P$29): <Cell '1) Project Information'.P29>\n",
      "Updated value of 'TAPT20B' in 1) Project Information ($Q$29): <Cell '1) Project Information'.Q29>\n",
      "Updated value of 'TPerPeak' in 1) Project Information ($P$30): <Cell '1) Project Information'.P30>\n",
      "Updated value of 'TPerHwy' in 1) Project Information ($Q$31): <Cell '1) Project Information'.Q31>\n",
      "Updated value of 'TVehMi1NB' in 1) Project Information ($P$34): <Cell '1) Project Information'.P34>\n",
      "Updated value of 'TVehMi1B' in 1) Project Information ($Q$34): <Cell '1) Project Information'.Q34>\n",
      "Updated value of 'TVehMi20NB' in 1) Project Information ($P$35): <Cell '1) Project Information'.P35>\n",
      "Updated value of 'TVehMi20B' in 1) Project Information ($Q$35): <Cell '1) Project Information'.Q35>\n",
      "Updated value of 'TVehPerTrainNB' in 1) Project Information ($P$36): <Cell '1) Project Information'.P36>\n",
      "Updated value of 'TVehPerTrainB' in 1) Project Information ($Q$36): <Cell '1) Project Information'.Q36>\n",
      "Updated value of 'TAccReductPer' in 1) Project Information ($P$39): <Cell '1) Project Information'.P39>\n",
      "Updated value of 'TInTimeNBN' in 1) Project Information ($P$42): <Cell '1) Project Information'.P42>\n",
      "Updated value of 'TInTimeBN' in 1) Project Information ($Q$42): <Cell '1) Project Information'.Q42>\n",
      "Updated value of 'TInTimeNBP' in 1) Project Information ($P$43): <Cell '1) Project Information'.P43>\n",
      "Updated value of 'TInTimeBP' in 1) Project Information ($Q$43): <Cell '1) Project Information'.Q43>\n",
      "Updated value of 'TOutTimeNBN' in 1) Project Information ($P$44): <Cell '1) Project Information'.P44>\n",
      "Updated value of 'TOutTimeBN' in 1) Project Information ($Q$44): <Cell '1) Project Information'.Q44>\n",
      "Updated value of 'TOutTimeNBP' in 1) Project Information ($P$45): <Cell '1) Project Information'.P45>\n",
      "Updated value of 'TOutTimeBP' in 1) Project Information ($Q$45): <Cell '1) Project Information'.Q45>\n",
      "Updated value of 'NumTrain0' in 1) Project Information ($O$48): <Cell '1) Project Information'.O48>\n",
      "Updated value of 'NumTrain1' in 1) Project Information ($P$48): <Cell '1) Project Information'.P48>\n",
      "Updated value of 'NumTrain20' in 1) Project Information ($Q$48): <Cell '1) Project Information'.Q48>\n",
      "Updated value of 'GateTime0' in 1) Project Information ($O$49): <Cell '1) Project Information'.O49>\n",
      "Updated value of 'GateTime1' in 1) Project Information ($P$49): <Cell '1) Project Information'.P49>\n",
      "Updated value of 'GateTime20' in 1) Project Information ($Q$49): <Cell '1) Project Information'.Q49>\n",
      "Updated value of 'TCapCostNB' in 1) Project Information ($P$52): <Cell '1) Project Information'.P52>\n",
      "Updated value of 'TCapCostB' in 1) Project Information ($Q$52): <Cell '1) Project Information'.Q52>\n",
      "Updated value of 'TOMCostNB' in 1) Project Information ($P$53): <Cell '1) Project Information'.P53>\n",
      "Updated value of 'TOMCostB' in 1) Project Information ($Q$53): <Cell '1) Project Information'.Q53>\n",
      "Updated value of 'SegmentR' in 2) Model Inputs ($T$43): <Cell '2) Model Inputs'.T43>\n",
      "Updated value of 'SegmentA' in 2) Model Inputs ($T$44): <Cell '2) Model Inputs'.T44>\n",
      "Workbook updated and saved: C:\\Users\\s159357\\California Department of Transportation\\DOT HQ PMP Cal B C Update - General\\Testbed\\Output\\updated_file__ConsCost_1.0.xlsm\n",
      "Opening workbook C:\\Users\\s159357\\California Department of Transportation\\DOT HQ PMP Cal B C Update - General\\Testbed\\Output\\updated_file__ConsCost_2.0.xlsm...\n",
      "Workbook C:\\Users\\s159357\\California Department of Transportation\\DOT HQ PMP Cal B C Update - General\\Testbed\\Output\\updated_file__ConsCost_2.0.xlsm opened successfully.\n",
      "Updated value of 'ProjName' in 1) Project Information ($E$4): <Cell '1) Project Information'.E4>\n",
      "Error: Named range 'District' not found in the workbook.\n",
      "Updated value of 'ProjType' in 1) Project Information ($F$10): <Cell '1) Project Information'.F10>\n",
      "Updated value of 'ProjLoc' in 1) Project Information ($H$12): <Cell '1) Project Information'.H12>\n",
      "Updated value of 'Construct' in 1) Project Information ($F$14): <Cell '1) Project Information'.F14>\n",
      "Updated value of 'NumDirections' in 1) Project Information ($F$15): <Cell '1) Project Information'.F15>\n",
      "Updated value of 'PeakLngthNB' in 1) Project Information ($F$17): <Cell '1) Project Information'.F17>\n",
      "Updated value of 'RoadTypeNB' in 1) Project Information ($G$24): <Cell '1) Project Information'.G24>\n",
      "Updated value of 'RoadTypeB' in 1) Project Information ($H$24): <Cell '1) Project Information'.H24>\n",
      "Updated value of 'GenLanesNB' in 1) Project Information ($G$25): <Cell '1) Project Information'.G25>\n",
      "Updated value of 'GenLanesB' in 1) Project Information ($H$25): <Cell '1) Project Information'.H25>\n",
      "Updated value of 'HOVLanesNB' in 1) Project Information ($G$26): <Cell '1) Project Information'.G26>\n",
      "Updated value of 'HOVLanesB' in 1) Project Information ($H$26): <Cell '1) Project Information'.H26>\n",
      "Updated value of 'HOVRest' in 1) Project Information ($G$27): <Cell '1) Project Information'.G27>\n",
      "Updated value of 'Exclusive' in 1) Project Information ($G$28): <Cell '1) Project Information'.G28>\n",
      "Updated value of 'FFSpeedNB' in 1) Project Information ($G$30): <Cell '1) Project Information'.G30>\n",
      "Updated value of 'FFSpeedB' in 1) Project Information ($H$30): <Cell '1) Project Information'.H30>\n",
      "Updated value of 'RampFFSpdNB' in 1) Project Information ($G$31): <Cell '1) Project Information'.G31>\n",
      "Updated value of 'RampFFSpdB' in 1) Project Information ($H$31): <Cell '1) Project Information'.H31>\n",
      "Updated value of 'SegmentNB' in 1) Project Information ($G$32): <Cell '1) Project Information'.G32>\n",
      "Updated value of 'SegmentB' in 1) Project Information ($H$32): <Cell '1) Project Information'.H32>\n",
      "Updated value of 'ImpactedNB' in 1) Project Information ($G$33): <Cell '1) Project Information'.G33>\n",
      "Updated value of 'ImpactedB' in 1) Project Information ($H$33): <Cell '1) Project Information'.H33>\n",
      "Updated value of 'ADT0' in 1) Project Information ($G$36): <Cell '1) Project Information'.G36>\n",
      "Updated value of 'ADT1NB' in 1) Project Information ($G$38): <Cell '1) Project Information'.G38>\n",
      "Updated value of 'ADT1B' in 1) Project Information ($H$38): <Cell '1) Project Information'.H38>\n",
      "Updated value of 'ADT20NB' in 1) Project Information ($G$39): <Cell '1) Project Information'.G39>\n",
      "Updated value of 'ADT20B' in 1) Project Information ($H$39): <Cell '1) Project Information'.H39>\n",
      "Updated value of 'HOVvolNB' in 1) Project Information ($G$40): <Cell '1) Project Information'.G40>\n",
      "Updated value of 'HOVvolB' in 1) Project Information ($H$40): <Cell '1) Project Information'.H40>\n",
      "Updated value of 'PerIndHOV' in 1) Project Information ($H$41): <Cell '1) Project Information'.H41>\n",
      "Updated value of 'PerWeaveNB' in 1) Project Information ($G$42): <Cell '1) Project Information'.G42>\n",
      "Updated value of 'PerWeaveB' in 1) Project Information ($H$42): <Cell '1) Project Information'.H42>\n",
      "Updated value of 'PerTruckNB' in 1) Project Information ($G$43): <Cell '1) Project Information'.G43>\n",
      "Updated value of 'PerTruckB' in 1) Project Information ($H$43): <Cell '1) Project Information'.H43>\n",
      "Updated value of 'TruckSpeed' in 1) Project Information ($G$44): <Cell '1) Project Information'.G44>\n",
      "Updated value of 'RampVolP' in 1) Project Information ($G$47): <Cell '1) Project Information'.G47>\n",
      "Updated value of 'RampVolNP' in 1) Project Information ($H$47): <Cell '1) Project Information'.H47>\n",
      "Updated value of 'MeterStrat' in 1) Project Information ($G$48): <Cell '1) Project Information'.G48>\n",
      "Updated value of 'ArrRate1' in 1) Project Information ($G$51): <Cell '1) Project Information'.G51>\n",
      "Updated value of 'ArrRate20' in 1) Project Information ($H$51): <Cell '1) Project Information'.H51>\n",
      "Updated value of 'DepRate1' in 1) Project Information ($G$52): <Cell '1) Project Information'.G52>\n",
      "Updated value of 'DepRate20' in 1) Project Information ($H$52): <Cell '1) Project Information'.H52>\n",
      "Updated value of 'IRI1NB' in 1) Project Information ($G$55): <Cell '1) Project Information'.G55>\n",
      "Updated value of 'IRI1B' in 1) Project Information ($H$55): <Cell '1) Project Information'.H55>\n",
      "Updated value of 'IRI20NB' in 1) Project Information ($G$56): <Cell '1) Project Information'.G56>\n",
      "Updated value of 'IRI20B' in 1) Project Information ($H$56): <Cell '1) Project Information'.H56>\n",
      "Updated value of 'AVONonNB' in 1) Project Information ($G$59): <Cell '1) Project Information'.G59>\n",
      "Updated value of 'AVONonB' in 1) Project Information ($H$59): <Cell '1) Project Information'.H59>\n",
      "Updated value of 'AVOPeakNB' in 1) Project Information ($G$60): <Cell '1) Project Information'.G60>\n",
      "Updated value of 'AVOPeakB' in 1) Project Information ($H$60): <Cell '1) Project Information'.H60>\n",
      "Updated value of 'AVOHovNB' in 1) Project Information ($G$61): <Cell '1) Project Information'.G61>\n",
      "Updated value of 'AVOHovB' in 1) Project Information ($H$61): <Cell '1) Project Information'.H61>\n",
      "Error: Named range 'TotCrashCt' not found in the workbook.\n",
      "Error: Named range 'FatCrashCt' not found in the workbook.\n",
      "Error: Named range 'InjCrashCt' not found in the workbook.\n",
      "Error: Named range 'PDOCrashCt' not found in the workbook.\n",
      "Updated value of 'RateGroupNB' in 1) Project Information ($P$18): <Cell '1) Project Information'.P18>\n",
      "Updated value of 'RateGroupB' in 1) Project Information ($Q$18): <Cell '1) Project Information'.Q18>\n",
      "Updated value of 'AccStAvgNB' in 1) Project Information ($P$19): <Cell '1) Project Information'.P19>\n",
      "Updated value of 'AccStAvgB' in 1) Project Information ($Q$19): <Cell '1) Project Information'.Q19>\n",
      "Updated value of 'PFatStAvgNB' in 1) Project Information ($P$20): <Cell '1) Project Information'.P20>\n",
      "Updated value of 'PFatStAvgB' in 1) Project Information ($Q$20): <Cell '1) Project Information'.Q20>\n",
      "Updated value of 'PInjStAvgNB' in 1) Project Information ($P$21): <Cell '1) Project Information'.P21>\n",
      "Updated value of 'PInjStAvgB' in 1) Project Information ($Q$21): <Cell '1) Project Information'.Q21>\n",
      "Updated value of 'TAPT1NB' in 1) Project Information ($P$28): <Cell '1) Project Information'.P28>\n",
      "Updated value of 'TAPT1B' in 1) Project Information ($Q$28): <Cell '1) Project Information'.Q28>\n",
      "Updated value of 'TAPT20NB' in 1) Project Information ($P$29): <Cell '1) Project Information'.P29>\n",
      "Updated value of 'TAPT20B' in 1) Project Information ($Q$29): <Cell '1) Project Information'.Q29>\n",
      "Updated value of 'TPerPeak' in 1) Project Information ($P$30): <Cell '1) Project Information'.P30>\n",
      "Updated value of 'TPerHwy' in 1) Project Information ($Q$31): <Cell '1) Project Information'.Q31>\n",
      "Updated value of 'TVehMi1NB' in 1) Project Information ($P$34): <Cell '1) Project Information'.P34>\n",
      "Updated value of 'TVehMi1B' in 1) Project Information ($Q$34): <Cell '1) Project Information'.Q34>\n",
      "Updated value of 'TVehMi20NB' in 1) Project Information ($P$35): <Cell '1) Project Information'.P35>\n",
      "Updated value of 'TVehMi20B' in 1) Project Information ($Q$35): <Cell '1) Project Information'.Q35>\n",
      "Updated value of 'TVehPerTrainNB' in 1) Project Information ($P$36): <Cell '1) Project Information'.P36>\n",
      "Updated value of 'TVehPerTrainB' in 1) Project Information ($Q$36): <Cell '1) Project Information'.Q36>\n",
      "Updated value of 'TAccReductPer' in 1) Project Information ($P$39): <Cell '1) Project Information'.P39>\n",
      "Updated value of 'TInTimeNBN' in 1) Project Information ($P$42): <Cell '1) Project Information'.P42>\n",
      "Updated value of 'TInTimeBN' in 1) Project Information ($Q$42): <Cell '1) Project Information'.Q42>\n",
      "Updated value of 'TInTimeNBP' in 1) Project Information ($P$43): <Cell '1) Project Information'.P43>\n",
      "Updated value of 'TInTimeBP' in 1) Project Information ($Q$43): <Cell '1) Project Information'.Q43>\n",
      "Updated value of 'TOutTimeNBN' in 1) Project Information ($P$44): <Cell '1) Project Information'.P44>\n",
      "Updated value of 'TOutTimeBN' in 1) Project Information ($Q$44): <Cell '1) Project Information'.Q44>\n",
      "Updated value of 'TOutTimeNBP' in 1) Project Information ($P$45): <Cell '1) Project Information'.P45>\n",
      "Updated value of 'TOutTimeBP' in 1) Project Information ($Q$45): <Cell '1) Project Information'.Q45>\n",
      "Updated value of 'NumTrain0' in 1) Project Information ($O$48): <Cell '1) Project Information'.O48>\n",
      "Updated value of 'NumTrain1' in 1) Project Information ($P$48): <Cell '1) Project Information'.P48>\n",
      "Updated value of 'NumTrain20' in 1) Project Information ($Q$48): <Cell '1) Project Information'.Q48>\n",
      "Updated value of 'GateTime0' in 1) Project Information ($O$49): <Cell '1) Project Information'.O49>\n",
      "Updated value of 'GateTime1' in 1) Project Information ($P$49): <Cell '1) Project Information'.P49>\n",
      "Updated value of 'GateTime20' in 1) Project Information ($Q$49): <Cell '1) Project Information'.Q49>\n",
      "Updated value of 'TCapCostNB' in 1) Project Information ($P$52): <Cell '1) Project Information'.P52>\n",
      "Updated value of 'TCapCostB' in 1) Project Information ($Q$52): <Cell '1) Project Information'.Q52>\n",
      "Updated value of 'TOMCostNB' in 1) Project Information ($P$53): <Cell '1) Project Information'.P53>\n",
      "Updated value of 'TOMCostB' in 1) Project Information ($Q$53): <Cell '1) Project Information'.Q53>\n",
      "Updated value of 'SegmentR' in 2) Model Inputs ($T$43): <Cell '2) Model Inputs'.T43>\n",
      "Updated value of 'SegmentA' in 2) Model Inputs ($T$44): <Cell '2) Model Inputs'.T44>\n",
      "Workbook updated and saved: C:\\Users\\s159357\\California Department of Transportation\\DOT HQ PMP Cal B C Update - General\\Testbed\\Output\\updated_file__ConsCost_2.0.xlsm\n",
      "Opening workbook C:\\Users\\s159357\\California Department of Transportation\\DOT HQ PMP Cal B C Update - General\\Testbed\\Output\\updated_file__ConsCost_3.0.xlsm...\n",
      "Workbook C:\\Users\\s159357\\California Department of Transportation\\DOT HQ PMP Cal B C Update - General\\Testbed\\Output\\updated_file__ConsCost_3.0.xlsm opened successfully.\n",
      "Updated value of 'ProjName' in 1) Project Information ($E$4): <Cell '1) Project Information'.E4>\n",
      "Error: Named range 'District' not found in the workbook.\n",
      "Updated value of 'ProjType' in 1) Project Information ($F$10): <Cell '1) Project Information'.F10>\n",
      "Updated value of 'ProjLoc' in 1) Project Information ($H$12): <Cell '1) Project Information'.H12>\n",
      "Updated value of 'Construct' in 1) Project Information ($F$14): <Cell '1) Project Information'.F14>\n",
      "Updated value of 'NumDirections' in 1) Project Information ($F$15): <Cell '1) Project Information'.F15>\n",
      "Updated value of 'PeakLngthNB' in 1) Project Information ($F$17): <Cell '1) Project Information'.F17>\n",
      "Updated value of 'RoadTypeNB' in 1) Project Information ($G$24): <Cell '1) Project Information'.G24>\n",
      "Updated value of 'RoadTypeB' in 1) Project Information ($H$24): <Cell '1) Project Information'.H24>\n",
      "Updated value of 'GenLanesNB' in 1) Project Information ($G$25): <Cell '1) Project Information'.G25>\n",
      "Updated value of 'GenLanesB' in 1) Project Information ($H$25): <Cell '1) Project Information'.H25>\n",
      "Updated value of 'HOVLanesNB' in 1) Project Information ($G$26): <Cell '1) Project Information'.G26>\n",
      "Updated value of 'HOVLanesB' in 1) Project Information ($H$26): <Cell '1) Project Information'.H26>\n",
      "Updated value of 'HOVRest' in 1) Project Information ($G$27): <Cell '1) Project Information'.G27>\n",
      "Updated value of 'Exclusive' in 1) Project Information ($G$28): <Cell '1) Project Information'.G28>\n",
      "Updated value of 'FFSpeedNB' in 1) Project Information ($G$30): <Cell '1) Project Information'.G30>\n",
      "Updated value of 'FFSpeedB' in 1) Project Information ($H$30): <Cell '1) Project Information'.H30>\n",
      "Updated value of 'RampFFSpdNB' in 1) Project Information ($G$31): <Cell '1) Project Information'.G31>\n",
      "Updated value of 'RampFFSpdB' in 1) Project Information ($H$31): <Cell '1) Project Information'.H31>\n",
      "Updated value of 'SegmentNB' in 1) Project Information ($G$32): <Cell '1) Project Information'.G32>\n",
      "Updated value of 'SegmentB' in 1) Project Information ($H$32): <Cell '1) Project Information'.H32>\n",
      "Updated value of 'ImpactedNB' in 1) Project Information ($G$33): <Cell '1) Project Information'.G33>\n",
      "Updated value of 'ImpactedB' in 1) Project Information ($H$33): <Cell '1) Project Information'.H33>\n",
      "Updated value of 'ADT0' in 1) Project Information ($G$36): <Cell '1) Project Information'.G36>\n",
      "Updated value of 'ADT1NB' in 1) Project Information ($G$38): <Cell '1) Project Information'.G38>\n",
      "Updated value of 'ADT1B' in 1) Project Information ($H$38): <Cell '1) Project Information'.H38>\n",
      "Updated value of 'ADT20NB' in 1) Project Information ($G$39): <Cell '1) Project Information'.G39>\n",
      "Updated value of 'ADT20B' in 1) Project Information ($H$39): <Cell '1) Project Information'.H39>\n",
      "Updated value of 'HOVvolNB' in 1) Project Information ($G$40): <Cell '1) Project Information'.G40>\n",
      "Updated value of 'HOVvolB' in 1) Project Information ($H$40): <Cell '1) Project Information'.H40>\n",
      "Updated value of 'PerIndHOV' in 1) Project Information ($H$41): <Cell '1) Project Information'.H41>\n",
      "Updated value of 'PerWeaveNB' in 1) Project Information ($G$42): <Cell '1) Project Information'.G42>\n",
      "Updated value of 'PerWeaveB' in 1) Project Information ($H$42): <Cell '1) Project Information'.H42>\n",
      "Updated value of 'PerTruckNB' in 1) Project Information ($G$43): <Cell '1) Project Information'.G43>\n",
      "Updated value of 'PerTruckB' in 1) Project Information ($H$43): <Cell '1) Project Information'.H43>\n",
      "Updated value of 'TruckSpeed' in 1) Project Information ($G$44): <Cell '1) Project Information'.G44>\n",
      "Updated value of 'RampVolP' in 1) Project Information ($G$47): <Cell '1) Project Information'.G47>\n",
      "Updated value of 'RampVolNP' in 1) Project Information ($H$47): <Cell '1) Project Information'.H47>\n",
      "Updated value of 'MeterStrat' in 1) Project Information ($G$48): <Cell '1) Project Information'.G48>\n",
      "Updated value of 'ArrRate1' in 1) Project Information ($G$51): <Cell '1) Project Information'.G51>\n",
      "Updated value of 'ArrRate20' in 1) Project Information ($H$51): <Cell '1) Project Information'.H51>\n",
      "Updated value of 'DepRate1' in 1) Project Information ($G$52): <Cell '1) Project Information'.G52>\n",
      "Updated value of 'DepRate20' in 1) Project Information ($H$52): <Cell '1) Project Information'.H52>\n",
      "Updated value of 'IRI1NB' in 1) Project Information ($G$55): <Cell '1) Project Information'.G55>\n",
      "Updated value of 'IRI1B' in 1) Project Information ($H$55): <Cell '1) Project Information'.H55>\n",
      "Updated value of 'IRI20NB' in 1) Project Information ($G$56): <Cell '1) Project Information'.G56>\n",
      "Updated value of 'IRI20B' in 1) Project Information ($H$56): <Cell '1) Project Information'.H56>\n",
      "Updated value of 'AVONonNB' in 1) Project Information ($G$59): <Cell '1) Project Information'.G59>\n",
      "Updated value of 'AVONonB' in 1) Project Information ($H$59): <Cell '1) Project Information'.H59>\n",
      "Updated value of 'AVOPeakNB' in 1) Project Information ($G$60): <Cell '1) Project Information'.G60>\n",
      "Updated value of 'AVOPeakB' in 1) Project Information ($H$60): <Cell '1) Project Information'.H60>\n",
      "Updated value of 'AVOHovNB' in 1) Project Information ($G$61): <Cell '1) Project Information'.G61>\n",
      "Updated value of 'AVOHovB' in 1) Project Information ($H$61): <Cell '1) Project Information'.H61>\n",
      "Error: Named range 'TotCrashCt' not found in the workbook.\n",
      "Error: Named range 'FatCrashCt' not found in the workbook.\n",
      "Error: Named range 'InjCrashCt' not found in the workbook.\n",
      "Error: Named range 'PDOCrashCt' not found in the workbook.\n",
      "Updated value of 'RateGroupNB' in 1) Project Information ($P$18): <Cell '1) Project Information'.P18>\n",
      "Updated value of 'RateGroupB' in 1) Project Information ($Q$18): <Cell '1) Project Information'.Q18>\n",
      "Updated value of 'AccStAvgNB' in 1) Project Information ($P$19): <Cell '1) Project Information'.P19>\n",
      "Updated value of 'AccStAvgB' in 1) Project Information ($Q$19): <Cell '1) Project Information'.Q19>\n",
      "Updated value of 'PFatStAvgNB' in 1) Project Information ($P$20): <Cell '1) Project Information'.P20>\n",
      "Updated value of 'PFatStAvgB' in 1) Project Information ($Q$20): <Cell '1) Project Information'.Q20>\n",
      "Updated value of 'PInjStAvgNB' in 1) Project Information ($P$21): <Cell '1) Project Information'.P21>\n",
      "Updated value of 'PInjStAvgB' in 1) Project Information ($Q$21): <Cell '1) Project Information'.Q21>\n",
      "Updated value of 'TAPT1NB' in 1) Project Information ($P$28): <Cell '1) Project Information'.P28>\n",
      "Updated value of 'TAPT1B' in 1) Project Information ($Q$28): <Cell '1) Project Information'.Q28>\n",
      "Updated value of 'TAPT20NB' in 1) Project Information ($P$29): <Cell '1) Project Information'.P29>\n",
      "Updated value of 'TAPT20B' in 1) Project Information ($Q$29): <Cell '1) Project Information'.Q29>\n",
      "Updated value of 'TPerPeak' in 1) Project Information ($P$30): <Cell '1) Project Information'.P30>\n",
      "Updated value of 'TPerHwy' in 1) Project Information ($Q$31): <Cell '1) Project Information'.Q31>\n",
      "Updated value of 'TVehMi1NB' in 1) Project Information ($P$34): <Cell '1) Project Information'.P34>\n",
      "Updated value of 'TVehMi1B' in 1) Project Information ($Q$34): <Cell '1) Project Information'.Q34>\n",
      "Updated value of 'TVehMi20NB' in 1) Project Information ($P$35): <Cell '1) Project Information'.P35>\n",
      "Updated value of 'TVehMi20B' in 1) Project Information ($Q$35): <Cell '1) Project Information'.Q35>\n",
      "Updated value of 'TVehPerTrainNB' in 1) Project Information ($P$36): <Cell '1) Project Information'.P36>\n",
      "Updated value of 'TVehPerTrainB' in 1) Project Information ($Q$36): <Cell '1) Project Information'.Q36>\n",
      "Updated value of 'TAccReductPer' in 1) Project Information ($P$39): <Cell '1) Project Information'.P39>\n",
      "Updated value of 'TInTimeNBN' in 1) Project Information ($P$42): <Cell '1) Project Information'.P42>\n",
      "Updated value of 'TInTimeBN' in 1) Project Information ($Q$42): <Cell '1) Project Information'.Q42>\n",
      "Updated value of 'TInTimeNBP' in 1) Project Information ($P$43): <Cell '1) Project Information'.P43>\n",
      "Updated value of 'TInTimeBP' in 1) Project Information ($Q$43): <Cell '1) Project Information'.Q43>\n",
      "Updated value of 'TOutTimeNBN' in 1) Project Information ($P$44): <Cell '1) Project Information'.P44>\n",
      "Updated value of 'TOutTimeBN' in 1) Project Information ($Q$44): <Cell '1) Project Information'.Q44>\n",
      "Updated value of 'TOutTimeNBP' in 1) Project Information ($P$45): <Cell '1) Project Information'.P45>\n",
      "Updated value of 'TOutTimeBP' in 1) Project Information ($Q$45): <Cell '1) Project Information'.Q45>\n",
      "Updated value of 'NumTrain0' in 1) Project Information ($O$48): <Cell '1) Project Information'.O48>\n",
      "Updated value of 'NumTrain1' in 1) Project Information ($P$48): <Cell '1) Project Information'.P48>\n",
      "Updated value of 'NumTrain20' in 1) Project Information ($Q$48): <Cell '1) Project Information'.Q48>\n",
      "Updated value of 'GateTime0' in 1) Project Information ($O$49): <Cell '1) Project Information'.O49>\n",
      "Updated value of 'GateTime1' in 1) Project Information ($P$49): <Cell '1) Project Information'.P49>\n",
      "Updated value of 'GateTime20' in 1) Project Information ($Q$49): <Cell '1) Project Information'.Q49>\n",
      "Updated value of 'TCapCostNB' in 1) Project Information ($P$52): <Cell '1) Project Information'.P52>\n",
      "Updated value of 'TCapCostB' in 1) Project Information ($Q$52): <Cell '1) Project Information'.Q52>\n",
      "Updated value of 'TOMCostNB' in 1) Project Information ($P$53): <Cell '1) Project Information'.P53>\n",
      "Updated value of 'TOMCostB' in 1) Project Information ($Q$53): <Cell '1) Project Information'.Q53>\n",
      "Updated value of 'SegmentR' in 2) Model Inputs ($T$43): <Cell '2) Model Inputs'.T43>\n",
      "Updated value of 'SegmentA' in 2) Model Inputs ($T$44): <Cell '2) Model Inputs'.T44>\n",
      "Workbook updated and saved: C:\\Users\\s159357\\California Department of Transportation\\DOT HQ PMP Cal B C Update - General\\Testbed\\Output\\updated_file__ConsCost_3.0.xlsm\n"
     ]
    }
   ],
   "source": [
    "recalculate_and_save_xlsm(name_value_map, output_dir)"
   ]
  },
  {
   "cell_type": "code",
   "execution_count": null,
   "id": "faea951a",
   "metadata": {},
   "outputs": [],
   "source": [
    "def generate_BCR_summary(output_dir, template_file):\n",
    "    try:\n",
    "        #Extracting project IDs from the template file\n",
    "        df = pd.read_excel(template_file, sheet_name=\"Overall Info\")\n",
    "        proj_ids = df['ProjID'].dropna().tolist()\n",
    "\n",
    "        data = [] \n",
    "\n",
    "        #Looping through each project ID and process its corresponding file\n",
    "        for proj_id in proj_ids:\n",
    "            file_path = os.path.join(output_dir, f\"updated_file__ConsCost_{proj_id}.xlsm\")\n",
    "            \n",
    "            if os.path.exists(file_path):\n",
    "                with xw.App(visible=False) as app:\n",
    "                    wb = app.books.open(file_path)\n",
    "                    \n",
    "                    #List of named ranges we want to extract\n",
    "                    named_ranges = ['BeneCostRatio', 'ReturnOnInvest', 'Payback']\n",
    "                    \n",
    "                    project_data = {'ProjID': proj_id}\n",
    "\n",
    "                    # Looping through each named range and extract its value\n",
    "                    for named_range in named_ranges:\n",
    "                        if named_range in wb.names:\n",
    "                            range_obj = wb.names[named_range]\n",
    "                            range_value = range_obj.refers_to_range.value\n",
    "                            project_data[named_range] = range_value\n",
    "                        else:\n",
    "                            project_data[named_range] = np.nan\n",
    "                    \n",
    "                    #Appending the collected data for the current project\n",
    "                    data.append(project_data)\n",
    "                    wb.close()\n",
    "\n",
    "        if data:\n",
    "            df_summary = pd.DataFrame(data)\n",
    "            return df_summary\n",
    "        else:\n",
    "            return None\n",
    "    \n",
    "    except Exception:\n",
    "        return None"
   ]
  },
  {
   "cell_type": "code",
   "execution_count": 111,
   "id": "fd4e7d8c",
   "metadata": {},
   "outputs": [
    {
     "name": "stderr",
     "output_type": "stream",
     "text": [
      "C:\\Users\\s159357\\AppData\\Local\\Packages\\PythonSoftwareFoundation.Python.3.11_qbz5n2kfra8p0\\LocalCache\\local-packages\\Python311\\site-packages\\openpyxl\\reader\\workbook.py:84: UserWarning: File contains an invalid specification for 0. This will be removed\n",
      "  warn(msg)\n"
     ]
    }
   ],
   "source": [
    "summary_df = generate_BCR_summary(output_dir, template_file)"
   ]
  },
  {
   "cell_type": "code",
   "execution_count": 108,
   "id": "a06ecedf",
   "metadata": {},
   "outputs": [
    {
     "data": {
      "text/html": [
       "<div>\n",
       "<style scoped>\n",
       "    .dataframe tbody tr th:only-of-type {\n",
       "        vertical-align: middle;\n",
       "    }\n",
       "\n",
       "    .dataframe tbody tr th {\n",
       "        vertical-align: top;\n",
       "    }\n",
       "\n",
       "    .dataframe thead th {\n",
       "        text-align: right;\n",
       "    }\n",
       "</style>\n",
       "<table border=\"1\" class=\"dataframe\">\n",
       "  <thead>\n",
       "    <tr style=\"text-align: right;\">\n",
       "      <th></th>\n",
       "      <th>ProjID</th>\n",
       "      <th>BeneCostRatio</th>\n",
       "      <th>ReturnOnInvest</th>\n",
       "      <th>Payback</th>\n",
       "    </tr>\n",
       "  </thead>\n",
       "  <tbody>\n",
       "    <tr>\n",
       "      <th>0</th>\n",
       "      <td>1.0</td>\n",
       "      <td>0.194705</td>\n",
       "      <td>-0.106351</td>\n",
       "      <td>21.0</td>\n",
       "    </tr>\n",
       "    <tr>\n",
       "      <th>1</th>\n",
       "      <td>2.0</td>\n",
       "      <td>NaN</td>\n",
       "      <td>NaN</td>\n",
       "      <td>NaN</td>\n",
       "    </tr>\n",
       "    <tr>\n",
       "      <th>2</th>\n",
       "      <td>3.0</td>\n",
       "      <td>NaN</td>\n",
       "      <td>NaN</td>\n",
       "      <td>NaN</td>\n",
       "    </tr>\n",
       "  </tbody>\n",
       "</table>\n",
       "</div>"
      ],
      "text/plain": [
       "   ProjID  BeneCostRatio  ReturnOnInvest  Payback\n",
       "0     1.0       0.194705       -0.106351     21.0\n",
       "1     2.0            NaN             NaN      NaN\n",
       "2     3.0            NaN             NaN      NaN"
      ]
     },
     "execution_count": 108,
     "metadata": {},
     "output_type": "execute_result"
    }
   ],
   "source": [
    "summary_df"
   ]
  }
 ],
 "metadata": {
  "kernelspec": {
   "display_name": "Python 3",
   "language": "python",
   "name": "python3"
  },
  "language_info": {
   "codemirror_mode": {
    "name": "ipython",
    "version": 3
   },
   "file_extension": ".py",
   "mimetype": "text/x-python",
   "name": "python",
   "nbconvert_exporter": "python",
   "pygments_lexer": "ipython3",
   "version": "3.11.9"
  }
 },
 "nbformat": 4,
 "nbformat_minor": 5
}
