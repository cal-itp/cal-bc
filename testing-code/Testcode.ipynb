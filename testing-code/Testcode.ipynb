{
 "cells": [
  {
   "cell_type": "code",
   "execution_count": 1,
   "id": "8f1acb5f-93e8-44a4-a62a-bd2e914c8764",
   "metadata": {
    "tags": []
   },
   "outputs": [
    {
     "name": "stdout",
     "output_type": "stream",
     "text": [
      "Requirement already satisfied: xlwings in /opt/conda/lib/python3.11/site-packages (0.33.6)\n",
      "Note: you may need to restart the kernel to use updated packages.\n"
     ]
    }
   ],
   "source": [
    "pip install xlwings"
   ]
  },
  {
   "cell_type": "code",
   "execution_count": 2,
   "id": "1a90975f-2857-4dec-bfc0-c97714f1bba2",
   "metadata": {
    "tags": []
   },
   "outputs": [
    {
     "name": "stdout",
     "output_type": "stream",
     "text": [
      "Requirement already satisfied: openpyxl in /opt/conda/lib/python3.11/site-packages (3.0.9)\n",
      "Requirement already satisfied: et-xmlfile in /opt/conda/lib/python3.11/site-packages (from openpyxl) (2.0.0)\n",
      "Note: you may need to restart the kernel to use updated packages.\n"
     ]
    }
   ],
   "source": [
    "pip install openpyxl"
   ]
  },
  {
   "cell_type": "code",
   "execution_count": 1,
   "id": "1edf73f4-e81c-4bbf-8d66-9fa4beea3a52",
   "metadata": {
    "tags": []
   },
   "outputs": [],
   "source": [
    "import openpyxl\n",
    "import xlwings as xw\n",
    "import pandas as pd\n",
    "import gcsfs\n",
    "from calitp_data_analysis import get_fs\n",
    "import io\n",
    "import os"
   ]
  },
  {
   "cell_type": "code",
   "execution_count": 6,
   "id": "0bef0132-79aa-4323-afcd-78a29ac8c1ed",
   "metadata": {
    "tags": []
   },
   "outputs": [],
   "source": [
    "GCS_FILE_PATH = \"gs://calitp-analytics-data/data-analyses/calbc_test/\""
   ]
  },
  {
   "cell_type": "code",
   "execution_count": 11,
   "id": "6d4850c1-96ea-4d82-8130-178fdf0daa17",
   "metadata": {
    "tags": []
   },
   "outputs": [],
   "source": [
    "CalBC_sketch = f\"{GCS_FILE_PATH}CalBC_8.1.xlsm\""
   ]
  },
  {
   "cell_type": "code",
   "execution_count": 12,
   "id": "8ead8a53-953a-4123-80d6-6da9d28d2b22",
   "metadata": {
    "tags": []
   },
   "outputs": [],
   "source": [
    "fs = get_fs()\n",
    "with fs.open(CalBC_sketch, 'rb') as f:\n",
    "    wb = openpyxl.load_workbook(io.BytesIO(f.read()))"
   ]
  },
  {
   "cell_type": "code",
   "execution_count": 13,
   "id": "0f4df020-e03b-4a02-94ca-b49a58f22709",
   "metadata": {
    "tags": []
   },
   "outputs": [
    {
     "name": "stdout",
     "output_type": "stream",
     "text": [
      "['Title', 'Instructions', '1) Project Information', '2) Model Inputs', '3) Results', 'Travel Time', 'Reliability', 'Vehicle Operating Costs', 'Accident Costs', 'Emissions', 'Final Calculations', 'PARAMETERS']\n"
     ]
    }
   ],
   "source": [
    "print(wb.sheetnames)"
   ]
  },
  {
   "cell_type": "code",
   "execution_count": 5,
   "id": "cd2fd1f7-ea69-4873-b85b-f8b6b9e2bdad",
   "metadata": {
    "tags": []
   },
   "outputs": [
    {
     "name": "stdout",
     "output_type": "stream",
     "text": [
      "Total number of defined names: 556\n"
     ]
    }
   ],
   "source": [
    "named_ranges=wb.defined_names\n",
    "print(f\"Total number of defined names: {len(named_ranges)}\")"
   ]
  },
  {
   "cell_type": "code",
   "execution_count": null,
   "id": "53db22c9-edc7-48c9-8c7e-30c38e9cfe57",
   "metadata": {},
   "outputs": [],
   "source": []
  }
 ],
 "metadata": {
  "kernelspec": {
   "display_name": "Python 3 (ipykernel)",
   "language": "python",
   "name": "python3"
  },
  "language_info": {
   "codemirror_mode": {
    "name": "ipython",
    "version": 3
   },
   "file_extension": ".py",
   "mimetype": "text/x-python",
   "name": "python",
   "nbconvert_exporter": "python",
   "pygments_lexer": "ipython3",
   "version": "3.11.6"
  }
 },
 "nbformat": 4,
 "nbformat_minor": 5
}
