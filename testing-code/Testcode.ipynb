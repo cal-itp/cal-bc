{
 "cells": [
  {
   "cell_type": "markdown",
   "id": "667bd63d",
   "metadata": {},
   "source": [
    "# CALBC vs 8.1 Sketch Model Test"
   ]
  },
  {
   "cell_type": "markdown",
   "id": "cc0f3cba",
   "metadata": {},
   "source": [
    "This code tests the CALBC version 8.1 Sketch Model. It utilizes a template file, which is designed to gather test data, and applies this data to the sketch model to generate final results. Test template can be updated [here](https://caltrans.sharepoint.com/:x:/r/sites/DOTHQPMPCalBCUpdate/Shared%20Documents/General/Testbed/Input/testbed_template.xlsm?d=w3bca22e7b5714f5399bb4015c94aa134&csf=1&web=1&e=9AuFn9). To run this code, you'll need to sync the [Testbed folder](https://teams.microsoft.com/l/team/19%3AQrQ3LladNmkiVpFmuCmW2H72CKQz9MrBc2yr1kukBoA1%40thread.tacv2/conversations?groupId=f2d54ae5-490b-4b95-99cf-bafddf8f38b6&tenantId=621b0a64-1740-43cc-8d88-4540d3487556) from [CalB/C Update](https://teams.microsoft.com/l/team/19%3AQrQ3LladNmkiVpFmuCmW2H72CKQz9MrBc2yr1kukBoA1%40thread.tacv2/conversations?groupId=f2d54ae5-490b-4b95-99cf-bafddf8f38b6&tenantId=621b0a64-1740-43cc-8d88-4540d3487556) Teams folder to your local machine. Output will be saved in designated [Output Folder](https://caltrans.sharepoint.com/:f:/r/sites/DOTHQPMPCalBCUpdate/Shared%20Documents/General/Testbed/Output?csf=1&web=1&e=X5VbAM). \n",
    "\n",
    "Steps: \n",
    "- Update relevant tables (e.g., cost) in the main file using the template.\n",
    "- Save a separate file for each project (e.g., 1.0, 2.0, etc.) in the designated output directory.\n",
    "- Update input values in the output files using the relevant named ranges.\n",
    "- Recalculate formulas and save the final version of each updated project file. "
   ]
  },
  {
   "cell_type": "code",
   "execution_count": null,
   "id": "8f1acb5f-93e8-44a4-a62a-bd2e914c8764",
   "metadata": {
    "tags": []
   },
   "outputs": [],
   "source": [
    "pip install xlwings "
   ]
  },
  {
   "cell_type": "code",
   "execution_count": null,
   "id": "1a90975f-2857-4dec-bfc0-c97714f1bba2",
   "metadata": {
    "tags": []
   },
   "outputs": [],
   "source": [
    "pip install openpyxl "
   ]
  },
  {
   "cell_type": "code",
   "execution_count": 3,
   "id": "1edf73f4-e81c-4bbf-8d66-9fa4beea3a52",
   "metadata": {
    "tags": []
   },
   "outputs": [],
   "source": [
    "import openpyxl\n",
    "import xlwings as xw\n",
    "import pandas as pd\n",
    "import shutil\n",
    "import io\n",
    "import os\n",
    "import pandas as pd\n",
    "import time\n"
   ]
  },
  {
   "cell_type": "code",
   "execution_count": 4,
   "id": "63fd5e31",
   "metadata": {},
   "outputs": [],
   "source": [
    "user_profile = os.getenv('USERPROFILE') ## Retrieving user profile directory from 'USERPROFILE' environment variable."
   ]
  },
  {
   "cell_type": "code",
   "execution_count": 5,
   "id": "2bb9d5bb",
   "metadata": {},
   "outputs": [],
   "source": [
    "# Constructing the base directory path using the user profile directory.\n",
    "base_dir = os.path.join(\n",
    "    user_profile, \n",
    "    'California Department of Transportation',\n",
    "    'DOT HQ PMP Cal B C Update - General',\n",
    "    'Testbed'\n",
    ")"
   ]
  },
  {
   "cell_type": "code",
   "execution_count": 6,
   "id": "0bef0132-79aa-4323-afcd-78a29ac8c1ed",
   "metadata": {
    "tags": []
   },
   "outputs": [],
   "source": [
    "# Constructing file directory for output and reading input files.\n",
    "output_dir = os.path.join(base_dir, 'Output')\n",
    "sketch_file = os.path.join(base_dir, 'Input', 'cal-bc-8-1-sketch-a11y.xlsm')\n",
    "template_file = os.path.join(base_dir, 'Input', 'testbed_template.xlsm')"
   ]
  },
  {
   "cell_type": "markdown",
   "id": "9e374d49",
   "metadata": {},
   "source": [
    "## Update Cost Table"
   ]
  },
  {
   "cell_type": "code",
   "execution_count": 7,
   "id": "dded2f47",
   "metadata": {},
   "outputs": [],
   "source": [
    "def get_tables_by_prefix(template_wb, prefix):\n",
    "    # Initialize an empty list to store the tables that match the prefix\n",
    "    tables_to_copy = []\n",
    "    \n",
    "    for sheet in template_wb.sheets:\n",
    "        # Iterate through each table (ListObject) in the current sheet\n",
    "        for table in sheet.tables:\n",
    "            if table.name.startswith(prefix):\n",
    "                tables_to_copy.append((sheet.name, table.name))\n",
    "                \n",
    "    # Return the list of tables that matched the prefix\n",
    "    return tables_to_copy"
   ]
  },
  {
   "cell_type": "code",
   "execution_count": 8,
   "id": "dfcc3b1f",
   "metadata": {},
   "outputs": [],
   "source": [
    "# Test function for get_tables_by_prefix\n",
    "def test_get_tables_by_prefix():\n",
    "\n",
    "    with xw.App(visible=False) as app:\n",
    "        template_wb = app.books.open(template_file)\n",
    "        \n",
    "        table_prefix = '_ConsCost'\n",
    "        \n",
    "\n",
    "        tables_to_copy = get_tables_by_prefix(template_wb, table_prefix)\n",
    "        \n",
    "\n",
    "        if tables_to_copy:\n",
    "            print(f\"Tables found with prefix '{table_prefix}':\")\n",
    "            for sheet_name, table_name in tables_to_copy:\n",
    "                print(f\"Sheet: {sheet_name}, Table: {table_name}\")\n",
    "        else:\n",
    "            print(f\"No tables found with prefix '{table_prefix}'.\")\n",
    "\n",
    "        template_wb.close()"
   ]
  },
  {
   "cell_type": "code",
   "execution_count": null,
   "id": "7a5fe03c",
   "metadata": {},
   "outputs": [],
   "source": [
    "test_get_tables_by_prefix()"
   ]
  },
  {
   "cell_type": "code",
   "execution_count": 10,
   "id": "ea9e2981",
   "metadata": {},
   "outputs": [],
   "source": [
    "def update_cost_in_main_file(template_file, sketch_file, output_dir, tables_info):   \n",
    "    # Open the template file and the main file\n",
    "    with xw.App(visible=False) as app:\n",
    "        template_wb = app.books.open(template_file)\n",
    "        main_wb = app.books.open(sketch_file)\n",
    "\n",
    "        # Iterating over all table types\n",
    "        for table_type, target_range in tables_info.items():\n",
    "            # Iterating through suffixes\n",
    "            suffixes = ['1.0', '2.0', '3.0'] \n",
    "            \n",
    "            for suffix in suffixes:\n",
    "                print(f\"Processing table type '{table_type}' with suffix '{suffix}'...\")\n",
    "                \n",
    "                # Getting the tables with the specified prefix and suffix\n",
    "                tables_to_copy = get_tables_by_prefix(template_wb, f\"{table_type}{suffix}\")\n",
    "                \n",
    "                if not tables_to_copy:\n",
    "                    print(f\"No tables found with prefix '{table_type}{suffix}'.\")\n",
    "                    continue\n",
    "                \n",
    "                for sheet_name, table_name in tables_to_copy:\n",
    "                    sheet = main_wb.sheets['1) Project Information']\n",
    "                    target_range_obj = sheet.range(target_range) \n",
    "                    \n",
    "                    # Getting the table from the template\n",
    "                    table = template_wb.sheets[sheet_name].tables[table_name]\n",
    "                    \n",
    "                    # Getting the data from the table\n",
    "                    table_data = table.range.value\n",
    "                    \n",
    "                    # Updating the target range in the main file\n",
    "                    target_range_obj.value = table_data\n",
    "                    \n",
    "                    # Recalculating the workbook\n",
    "                    main_wb.app.calculate()\n",
    "                    \n",
    "                    # Saving the updated file with the suffix\n",
    "                    updated_file_path = os.path.join(output_dir, f\"updated_file_{table_type}_{suffix}.xlsm\")\n",
    "                    \n",
    "                    try:\n",
    "                        # Attempting to save the workbook\n",
    "                        main_wb.save(updated_file_path)\n",
    "                        print(f\"File saved as: {updated_file_path}\")\n",
    "                        \n",
    "                        # Adding a short delay to ensure Excel has time to complete the save operation\n",
    "                        time.sleep(4)\n",
    "                        \n",
    "                    except Exception as e:\n",
    "                        print(f\"Error saving file: {e}\")\n",
    "        \n",
    "        # Closing the workbooks\n",
    "        template_wb.close()\n",
    "        main_wb.close()"
   ]
  },
  {
   "cell_type": "code",
   "execution_count": 11,
   "id": "326b305b",
   "metadata": {},
   "outputs": [],
   "source": [
    "tables_info = {\n",
    "        '_ConsCost': 'V15:AC43',  # Same range for all ConsCost tables (1.0, 2.0, etc.)\n",
    "    }"
   ]
  },
  {
   "cell_type": "code",
   "execution_count": null,
   "id": "f7bf7879",
   "metadata": {},
   "outputs": [],
   "source": [
    "update_cost_in_main_file(template_file, sketch_file, output_dir, tables_info)"
   ]
  },
  {
   "cell_type": "markdown",
   "id": "1fbbd088",
   "metadata": {},
   "source": [
    "## Updating Named Ranges"
   ]
  },
  {
   "cell_type": "code",
   "execution_count": 13,
   "id": "1a1edb9c",
   "metadata": {},
   "outputs": [],
   "source": [
    "# Reading the Excel file as binary and loading it into a workbook object.\n",
    "with open(sketch_file, 'rb') as f:\n",
    "    file_data = f.read()\n",
    "    \n",
    "# Loading the workbook from the binary data, preserving any VBA code\n",
    "    wb = openpyxl.load_workbook(io.BytesIO(file_data), keep_vba=True)"
   ]
  },
  {
   "cell_type": "code",
   "execution_count": 14,
   "id": "7c64d6bd",
   "metadata": {},
   "outputs": [],
   "source": [
    "# function to find named ranges, extract sheet name and cell reference and update cell's value with corresponding value from name_value_map\n",
    "def update_named_ranges(wb, name_value_map):\n",
    "    for name, new_value in name_value_map.items():\n",
    "        try:\n",
    "            # Accessing the defined name ranges in the workbook via wb.defined_names\n",
    "            defined_name = wb.defined_names[name]\n",
    "            \n",
    "            # Converting the generator to a list and get the first destination\n",
    "            destinations = list(defined_name.destinations)\n",
    "            if destinations:\n",
    "                sheet_name, cell_reference = destinations[0]\n",
    "                sheet = wb[sheet_name]\n",
    "                \n",
    "                # Updating the value of the cell\n",
    "                sheet[cell_reference] = new_value\n",
    "                \n",
    "                # Verifying the updated value\n",
    "                updated_value = sheet[cell_reference]\n",
    "                print(f\"Updated value of '{name}' in {sheet_name} ({cell_reference}): {updated_value}\")\n",
    "            else:\n",
    "                print(f\"Error: No destinations found for the named range '{name}'.\")\n",
    "        \n",
    "        except KeyError:\n",
    "            print(f\"Error: Named range '{name}' not found in the workbook.\")\n",
    "        except Exception as e:\n",
    "            print(f\"An error occurred: {e}\")"
   ]
  },
  {
   "cell_type": "code",
   "execution_count": 15,
   "id": "272baf70",
   "metadata": {},
   "outputs": [],
   "source": [
    "# Extracting project data from the template file\n",
    "def extract_project_data_pandas(template_file):\n",
    "\n",
    "    df = pd.read_excel(template_file, sheet_name=\"Overall Info\")  \n",
    "    df_filtered = df[df['ProjID'].notna()]  \n",
    "    \n",
    "    name_value_map = df_filtered.set_index('ProjID').to_dict(orient='index')\n",
    "    \n",
    "    return name_value_map\n"
   ]
  },
  {
   "cell_type": "code",
   "execution_count": null,
   "id": "fa464e57",
   "metadata": {},
   "outputs": [],
   "source": [
    "# Using the extracting project function \n",
    "name_value_map = extract_project_data_pandas(template_file)"
   ]
  },
  {
   "cell_type": "code",
   "execution_count": null,
   "id": "0f00a05b",
   "metadata": {
    "collapsed": true,
    "jupyter": {
     "outputs_hidden": true
    },
    "tags": []
   },
   "outputs": [],
   "source": [
    "#Checking generated dictionary \n",
    "print(name_value_map)"
   ]
  },
  {
   "cell_type": "code",
   "execution_count": 18,
   "id": "87739fc2",
   "metadata": {},
   "outputs": [],
   "source": [
    "def recalculate_and_save_xlsm(name_value_map, output_dir):\n",
    "    for proj_id, value in name_value_map.items():\n",
    "        try:\n",
    "            output_file_path = os.path.join(output_dir, f\"updated_file__ConsCost_{proj_id}.xlsm\")\n",
    "            \n",
    "            if os.path.exists(output_file_path):\n",
    "                # Opening the workbook using openpyxl\n",
    "                print(f\"Opening workbook {output_file_path}...\")\n",
    "                \n",
    "                wb_excel = openpyxl.load_workbook(output_file_path, keep_vba=True)  # keep_vba=True to preserve macros\n",
    "                print(f\"Workbook {output_file_path} opened successfully.\")\n",
    "                \n",
    "                # Updating the named ranges in the workbook\n",
    "                update_named_ranges(wb_excel, value)\n",
    "                \n",
    "                # Saving the workbook with the updated data\n",
    "                wb_excel.save(output_file_path)\n",
    "                print(f\"Workbook updated and saved: {output_file_path}\")\n",
    "            else:\n",
    "                print(f\"Error: The file {output_file_path} does not exist.\")\n",
    "        \n",
    "        except Exception as e:\n",
    "            print(f\"Error during recalculation for {proj_id}: {e}\")"
   ]
  },
  {
   "cell_type": "code",
   "execution_count": null,
   "id": "7cbac072",
   "metadata": {},
   "outputs": [],
   "source": [
    "recalculate_and_save_xlsm(name_value_map, output_dir)"
   ]
  },
  {
   "cell_type": "code",
   "execution_count": null,
   "id": "faea951a",
   "metadata": {},
   "outputs": [],
   "source": [
    "#Generate BCR Summary\n",
    "def generate_BCR_summary(output_dir, template_file):\n",
    "    try:\n",
    "        #Extracting project IDs from the template file\n",
    "        df = pd.read_excel(template_file, sheet_name=\"Overall Info\")\n",
    "        proj_ids = df['ProjID'].dropna().tolist()\n",
    "\n",
    "        data = [] \n",
    "\n",
    "        #Looping through each project ID and process its corresponding file\n",
    "        for proj_id in proj_ids:\n",
    "            file_path = os.path.join(output_dir, f\"updated_file__ConsCost_{proj_id}.xlsm\")\n",
    "            \n",
    "            if os.path.exists(file_path):\n",
    "                with xw.App(visible=False) as app:\n",
    "                    wb = app.books.open(file_path)\n",
    "                    \n",
    "                    #List of named ranges we want to extract\n",
    "                    named_ranges = ['BeneCostRatio', 'ReturnOnInvest', 'Payback']\n",
    "                    \n",
    "                    project_data = {'ProjID': proj_id}\n",
    "\n",
    "                    # Looping through each named range and extract its value\n",
    "                    for named_range in named_ranges:\n",
    "                        if named_range in wb.names:\n",
    "                            range_obj = wb.names[named_range]\n",
    "                            range_value = range_obj.refers_to_range.value\n",
    "                            project_data[named_range] = range_value\n",
    "                        else:\n",
    "                            project_data[named_range] = np.nan\n",
    "                    \n",
    "                    #Appending the collected data for the current project\n",
    "                    data.append(project_data)\n",
    "                    wb.close()\n",
    "\n",
    "        if data:\n",
    "            df_summary = pd.DataFrame(data)\n",
    "            return df_summary\n",
    "        else:\n",
    "            return None\n",
    "    \n",
    "    except Exception:\n",
    "        return None"
   ]
  },
  {
   "cell_type": "code",
   "execution_count": null,
   "id": "fd4e7d8c",
   "metadata": {},
   "outputs": [],
   "source": [
    "summary_df = generate_BCR_summary(output_dir, template_file)"
   ]
  },
  {
   "cell_type": "code",
   "execution_count": null,
   "id": "a06ecedf",
   "metadata": {},
   "outputs": [],
   "source": [
    "summary_df"
   ]
  }
 ],
 "metadata": {
  "kernelspec": {
   "display_name": "Python 3",
   "language": "python",
   "name": "python3"
  },
  "language_info": {
   "codemirror_mode": {
    "name": "ipython",
    "version": 3
   },
   "file_extension": ".py",
   "mimetype": "text/x-python",
   "name": "python",
   "nbconvert_exporter": "python",
   "pygments_lexer": "ipython3",
   "version": "3.11.9"
  }
 },
 "nbformat": 4,
 "nbformat_minor": 5
}
