{
 "cells": [
  {
   "cell_type": "code",
   "execution_count": 1,
   "id": "8f1acb5f-93e8-44a4-a62a-bd2e914c8764",
   "metadata": {
    "tags": []
   },
   "outputs": [
    {
     "name": "stdout",
     "output_type": "stream",
     "text": [
      "Requirement already satisfied: xlwings in /opt/conda/lib/python3.11/site-packages (0.33.6)\n",
      "Note: you may need to restart the kernel to use updated packages.\n"
     ]
    }
   ],
   "source": [
    "pip install xlwings"
   ]
  },
  {
   "cell_type": "code",
   "execution_count": 2,
   "id": "1a90975f-2857-4dec-bfc0-c97714f1bba2",
   "metadata": {
    "tags": []
   },
   "outputs": [
    {
     "name": "stdout",
     "output_type": "stream",
     "text": [
      "Requirement already satisfied: openpyxl in /opt/conda/lib/python3.11/site-packages (3.0.9)\n",
      "Requirement already satisfied: et-xmlfile in /opt/conda/lib/python3.11/site-packages (from openpyxl) (2.0.0)\n",
      "Note: you may need to restart the kernel to use updated packages.\n"
     ]
    }
   ],
   "source": [
    "pip install openpyxl"
   ]
  },
  {
   "cell_type": "code",
   "execution_count": 3,
   "id": "1edf73f4-e81c-4bbf-8d66-9fa4beea3a52",
   "metadata": {
    "tags": []
   },
   "outputs": [],
   "source": [
    "import openpyxl\n",
    "import xlwings as xw\n",
    "import pandas as pd\n",
    "import gcsfs\n",
    "from calitp_data_analysis import get_fs\n",
    "import io\n",
    "import os"
   ]
  },
  {
   "cell_type": "code",
   "execution_count": 4,
   "id": "0bef0132-79aa-4323-afcd-78a29ac8c1ed",
   "metadata": {
    "tags": []
   },
   "outputs": [],
   "source": [
    "GCS_FILE_PATH = \"gs://calitp-analytics-data/data-analyses/calbc_test/\""
   ]
  },
  {
   "cell_type": "code",
   "execution_count": 9,
   "id": "6d4850c1-96ea-4d82-8130-178fdf0daa17",
   "metadata": {
    "tags": []
   },
   "outputs": [],
   "source": [
    "CalBC_sketch = f\"{GCS_FILE_PATH}CalBC_8.1.xlsm\""
   ]
  },
  {
   "cell_type": "code",
   "execution_count": 6,
   "id": "8ead8a53-953a-4123-80d6-6da9d28d2b22",
   "metadata": {
    "tags": []
   },
   "outputs": [
    {
     "name": "stderr",
     "output_type": "stream",
     "text": [
      "/opt/conda/lib/python3.11/site-packages/openpyxl/reader/drawings.py:59: UserWarning: wmf image format is not supported so the image is being dropped\n",
      "  warn(msg)\n",
      "/opt/conda/lib/python3.11/site-packages/openpyxl/reader/workbook.py:88: UserWarning: File contains an invalid specification for Original. This will be removed\n",
      "  warn(msg)\n"
     ]
    }
   ],
   "source": [
    "fs = get_fs()\n",
    "with fs.open(CalBC_sketch, 'rb') as f:\n",
    "    wb = openpyxl.load_workbook(io.BytesIO(f.read()))"
   ]
  },
  {
   "cell_type": "code",
   "execution_count": 7,
   "id": "0f4df020-e03b-4a02-94ca-b49a58f22709",
   "metadata": {
    "tags": []
   },
   "outputs": [
    {
     "name": "stdout",
     "output_type": "stream",
     "text": [
      "['Title', 'Instructions', '1) Project Information', '2) Model Inputs', '3) Results', 'Travel Time', 'Reliability', 'Vehicle Operating Costs', 'Accident Costs', 'Emissions', 'Final Calculations', 'PARAMETERS']\n"
     ]
    }
   ],
   "source": [
    "print(wb.sheetnames)"
   ]
  },
  {
   "cell_type": "code",
   "execution_count": 8,
   "id": "cd2fd1f7-ea69-4873-b85b-f8b6b9e2bdad",
   "metadata": {
    "tags": []
   },
   "outputs": [
    {
     "name": "stdout",
     "output_type": "stream",
     "text": [
      "Total number of defined names: 556\n"
     ]
    }
   ],
   "source": [
    "named_ranges=wb.defined_names\n",
    "print(f\"Total number of defined names: {len(named_ranges)}\")"
   ]
  },
  {
   "cell_type": "code",
   "execution_count": 12,
   "id": "53db22c9-edc7-48c9-8c7e-30c38e9cfe57",
   "metadata": {},
   "outputs": [
    {
     "name": "stderr",
     "output_type": "stream",
     "text": [
      "/opt/conda/lib/python3.11/site-packages/openpyxl/reader/workbook.py:88: UserWarning: File contains an invalid specification for Original. This will be removed\n",
      "  warn(msg)\n"
     ]
    }
   ],
   "source": [
    "#Read in test file\n",
    "CalBC_testfiles = pd.read_excel(f\"{GCS_FILE_PATH}TESTBED_WORKINGFILE_01_15.xlsm\")"
   ]
  },
  {
   "cell_type": "code",
   "execution_count": 13,
   "id": "27d75eb8-3165-49c6-906d-d1ea01b5f894",
   "metadata": {
    "tags": []
   },
   "outputs": [
    {
     "data": {
      "text/html": [
       "<div>\n",
       "<style scoped>\n",
       "    .dataframe tbody tr th:only-of-type {\n",
       "        vertical-align: middle;\n",
       "    }\n",
       "\n",
       "    .dataframe tbody tr th {\n",
       "        vertical-align: top;\n",
       "    }\n",
       "\n",
       "    .dataframe thead th {\n",
       "        text-align: right;\n",
       "    }\n",
       "</style>\n",
       "<table border=\"1\" class=\"dataframe\">\n",
       "  <thead>\n",
       "    <tr style=\"text-align: right;\">\n",
       "      <th></th>\n",
       "      <th>ProjID</th>\n",
       "      <th>ProjName</th>\n",
       "      <th>District</th>\n",
       "      <th>ProjType</th>\n",
       "      <th>ProjLoc</th>\n",
       "      <th>Construct</th>\n",
       "      <th>NumDirections</th>\n",
       "      <th>PeakLngthNB</th>\n",
       "      <th>RoadTypeNB</th>\n",
       "      <th>RoadTypeB</th>\n",
       "      <th>...</th>\n",
       "      <th>NumTrain20</th>\n",
       "      <th>GateTime0</th>\n",
       "      <th>GateTime1</th>\n",
       "      <th>GateTime20</th>\n",
       "      <th>TCapCostNB</th>\n",
       "      <th>TCapCostB</th>\n",
       "      <th>TOMCostNB</th>\n",
       "      <th>TOMCostB</th>\n",
       "      <th>SegmentR</th>\n",
       "      <th>SegmentA</th>\n",
       "    </tr>\n",
       "  </thead>\n",
       "  <tbody>\n",
       "    <tr>\n",
       "      <th>0</th>\n",
       "      <td>1.0</td>\n",
       "      <td>Sketch Example</td>\n",
       "      <td>HQ</td>\n",
       "      <td>Transit Vehicle Signal Priority</td>\n",
       "      <td>1.0</td>\n",
       "      <td>6.0</td>\n",
       "      <td>2.0</td>\n",
       "      <td>5.0</td>\n",
       "      <td>F</td>\n",
       "      <td>F</td>\n",
       "      <td>...</td>\n",
       "      <td>0.0</td>\n",
       "      <td>0.0</td>\n",
       "      <td>0.0</td>\n",
       "      <td>0.0</td>\n",
       "      <td>0.0</td>\n",
       "      <td>0.0</td>\n",
       "      <td>0.0</td>\n",
       "      <td>0.0</td>\n",
       "      <td>0.0</td>\n",
       "      <td>0.0</td>\n",
       "    </tr>\n",
       "    <tr>\n",
       "      <th>1</th>\n",
       "      <td>2.0</td>\n",
       "      <td>Hypothetical Project</td>\n",
       "      <td>HQ</td>\n",
       "      <td>Bus Rapid Transit (BRT)</td>\n",
       "      <td>2.0</td>\n",
       "      <td>5.0</td>\n",
       "      <td>2.0</td>\n",
       "      <td>5.0</td>\n",
       "      <td>F</td>\n",
       "      <td>F</td>\n",
       "      <td>...</td>\n",
       "      <td>0.0</td>\n",
       "      <td>0.0</td>\n",
       "      <td>0.0</td>\n",
       "      <td>0.0</td>\n",
       "      <td>0.0</td>\n",
       "      <td>0.0</td>\n",
       "      <td>0.0</td>\n",
       "      <td>0.0</td>\n",
       "      <td>0.0</td>\n",
       "      <td>0.0</td>\n",
       "    </tr>\n",
       "    <tr>\n",
       "      <th>2</th>\n",
       "      <td>3.0</td>\n",
       "      <td>Hypothetical Project</td>\n",
       "      <td>HQ</td>\n",
       "      <td>Bus Rapid Transit (BRT)</td>\n",
       "      <td>2.0</td>\n",
       "      <td>5.0</td>\n",
       "      <td>2.0</td>\n",
       "      <td>5.0</td>\n",
       "      <td>F</td>\n",
       "      <td>F</td>\n",
       "      <td>...</td>\n",
       "      <td>0.0</td>\n",
       "      <td>0.0</td>\n",
       "      <td>0.0</td>\n",
       "      <td>0.0</td>\n",
       "      <td>0.0</td>\n",
       "      <td>0.0</td>\n",
       "      <td>0.0</td>\n",
       "      <td>0.0</td>\n",
       "      <td>0.0</td>\n",
       "      <td>0.0</td>\n",
       "    </tr>\n",
       "    <tr>\n",
       "      <th>3</th>\n",
       "      <td>4.0</td>\n",
       "      <td>NaN</td>\n",
       "      <td>NaN</td>\n",
       "      <td>NaN</td>\n",
       "      <td>NaN</td>\n",
       "      <td>NaN</td>\n",
       "      <td>NaN</td>\n",
       "      <td>NaN</td>\n",
       "      <td>NaN</td>\n",
       "      <td>NaN</td>\n",
       "      <td>...</td>\n",
       "      <td>NaN</td>\n",
       "      <td>NaN</td>\n",
       "      <td>NaN</td>\n",
       "      <td>NaN</td>\n",
       "      <td>NaN</td>\n",
       "      <td>NaN</td>\n",
       "      <td>NaN</td>\n",
       "      <td>NaN</td>\n",
       "      <td>NaN</td>\n",
       "      <td>NaN</td>\n",
       "    </tr>\n",
       "    <tr>\n",
       "      <th>4</th>\n",
       "      <td>5.0</td>\n",
       "      <td>NaN</td>\n",
       "      <td>NaN</td>\n",
       "      <td>NaN</td>\n",
       "      <td>NaN</td>\n",
       "      <td>NaN</td>\n",
       "      <td>NaN</td>\n",
       "      <td>NaN</td>\n",
       "      <td>NaN</td>\n",
       "      <td>NaN</td>\n",
       "      <td>...</td>\n",
       "      <td>NaN</td>\n",
       "      <td>NaN</td>\n",
       "      <td>NaN</td>\n",
       "      <td>NaN</td>\n",
       "      <td>NaN</td>\n",
       "      <td>NaN</td>\n",
       "      <td>NaN</td>\n",
       "      <td>NaN</td>\n",
       "      <td>NaN</td>\n",
       "      <td>NaN</td>\n",
       "    </tr>\n",
       "  </tbody>\n",
       "</table>\n",
       "<p>5 rows × 99 columns</p>\n",
       "</div>"
      ],
      "text/plain": [
       "   ProjID              ProjName District                             ProjType  \\\n",
       "0     1.0        Sketch Example       HQ      Transit Vehicle Signal Priority   \n",
       "1     2.0  Hypothetical Project       HQ              Bus Rapid Transit (BRT)   \n",
       "2     3.0  Hypothetical Project       HQ              Bus Rapid Transit (BRT)   \n",
       "3     4.0                   NaN      NaN                                  NaN   \n",
       "4     5.0                   NaN      NaN                                  NaN   \n",
       "\n",
       "   ProjLoc  Construct  NumDirections  PeakLngthNB RoadTypeNB RoadTypeB  ...  \\\n",
       "0      1.0        6.0            2.0          5.0          F         F  ...   \n",
       "1      2.0        5.0            2.0          5.0          F         F  ...   \n",
       "2      2.0        5.0            2.0          5.0          F         F  ...   \n",
       "3      NaN        NaN            NaN          NaN        NaN       NaN  ...   \n",
       "4      NaN        NaN            NaN          NaN        NaN       NaN  ...   \n",
       "\n",
       "   NumTrain20  GateTime0  GateTime1  GateTime20  TCapCostNB TCapCostB  \\\n",
       "0         0.0        0.0        0.0         0.0         0.0       0.0   \n",
       "1         0.0        0.0        0.0         0.0         0.0       0.0   \n",
       "2         0.0        0.0        0.0         0.0         0.0       0.0   \n",
       "3         NaN        NaN        NaN         NaN         NaN       NaN   \n",
       "4         NaN        NaN        NaN         NaN         NaN       NaN   \n",
       "\n",
       "   TOMCostNB  TOMCostB  SegmentR  SegmentA  \n",
       "0        0.0       0.0       0.0       0.0  \n",
       "1        0.0       0.0       0.0       0.0  \n",
       "2        0.0       0.0       0.0       0.0  \n",
       "3        NaN       NaN       NaN       NaN  \n",
       "4        NaN       NaN       NaN       NaN  \n",
       "\n",
       "[5 rows x 99 columns]"
      ]
     },
     "execution_count": 13,
     "metadata": {},
     "output_type": "execute_result"
    }
   ],
   "source": [
    "CalBC_testfiles.head(5)"
   ]
  },
  {
   "cell_type": "code",
   "execution_count": null,
   "id": "8caade1d-9ffc-4971-81bb-ebba35efdc44",
   "metadata": {},
   "outputs": [],
   "source": []
  }
 ],
 "metadata": {
  "kernelspec": {
   "display_name": "Python 3 (ipykernel)",
   "language": "python",
   "name": "python3"
  },
  "language_info": {
   "codemirror_mode": {
    "name": "ipython",
    "version": 3
   },
   "file_extension": ".py",
   "mimetype": "text/x-python",
   "name": "python",
   "nbconvert_exporter": "python",
   "pygments_lexer": "ipython3",
   "version": "3.11.6"
  }
 },
 "nbformat": 4,
 "nbformat_minor": 5
}
