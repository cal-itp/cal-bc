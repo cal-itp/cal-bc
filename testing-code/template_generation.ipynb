{
 "cells": [
  {
   "cell_type": "markdown",
   "metadata": {},
   "source": [
    "# Template Generation for Testing CalB/C Models"
   ]
  },
  {
   "cell_type": "markdown",
   "metadata": {},
   "source": [
    "This code is designed to generate templates for testing CalB/C models. The template generation consists of duplicating specific sheets from a source model, renaming them with version numbers (1.0, 2.0....) and updating their named ranges. For further details, refer to `template_generation.md`. \n",
    "\n"
   ]
  },
  {
   "cell_type": "code",
   "execution_count": null,
   "metadata": {},
   "outputs": [],
   "source": [
    "import openpyxl\n",
    "import xlwings as xw\n",
    "import pandas as pd\n",
    "import shutil\n",
    "import io\n",
    "import os\n",
    "import pandas as pd\n",
    "import time"
   ]
  },
  {
   "cell_type": "code",
   "execution_count": null,
   "metadata": {},
   "outputs": [],
   "source": [
    "user_profile = os.getenv('USERPROFILE') ## Retrieving user profile directory from 'USERPROFILE' environment variable."
   ]
  },
  {
   "cell_type": "code",
   "execution_count": null,
   "metadata": {},
   "outputs": [],
   "source": [
    "# Constructing the base directory path using the user profile directory.\n",
    "base_dir = os.path.join(\n",
    "    user_profile, \n",
    "    'California Department of Transportation',\n",
    "    'DOT HQ PMP Cal B C Update - General',\n",
    "    'Testbed',\n",
    "    'Input'\n",
    ")"
   ]
  },
  {
   "cell_type": "code",
   "execution_count": null,
   "metadata": {},
   "outputs": [],
   "source": [
    "at_model = os.path.join(base_dir, 'CalBC Models', 'AT_model.xlsm')\n",
    "sketch_model = os.path.join(base_dir, 'CalBC Models', 'Sketch_model.xlsm')\n",
    "if_model = os.path.join(base_dir, 'CalBC Models', 'Intermodal_freight_model.xlsm')\n",
    "pr_model = os.path.join(base_dir, 'CalBC Models', 'Park_&_ride_model.xlsm')\n",
    "corridor_model = os.path.join(base_dir, 'CalBC Models', 'Corridor_model.xlsm')\n",
    "\n"
   ]
  },
  {
   "cell_type": "code",
   "execution_count": null,
   "metadata": {},
   "outputs": [],
   "source": [
    "main_model = at_model # Specify the model here \n",
    "\n",
    "sheets_to_copy = ['1a) Project Info', '1b) Non-Inf Program Info', '2) Model Inputs']  # List of sheets to copy\n",
    "num_replicas = 2  # Specify the number of replications needed\n",
    "\n",
    "\n"
   ]
  },
  {
   "cell_type": "code",
   "execution_count": null,
   "metadata": {},
   "outputs": [],
   "source": [
    "def copy_sheets_with_unique_named_ranges(main_model, sheets_to_copy, num_replicas, base_dir):\n",
    "    \"\"\"\n",
    "    Function to copy sheets and update named ranges with unique names.\n",
    "    \"\"\"\n",
    "    # Open the workbook\n",
    "    with xw.App(visible=True) as app:\n",
    "        try:\n",
    "            wb = app.books.open(main_model)\n",
    "\n",
    "            # Iterate over each sheet specified above\n",
    "            for sheet_name in sheets_to_copy:\n",
    "                original_sheet = wb.sheets[sheet_name]\n",
    "                \n",
    "                # Extract the base sheet name without the version suffix (e.g., \"Project_info\" from \"Project_info_1.0\")\n",
    "                base_name = sheet_name.rsplit('.', 1)[0]\n",
    "\n",
    "                for i in range(2, num_replicas + 1):\n",
    "                    # Create the copied sheet\n",
    "                    copied_sheet = original_sheet.copy(after=original_sheet)\n",
    "\n",
    "                    # Rename the copied sheet (e.g., Project_info_1.0, Project_info_2.0, ...)\n",
    "                    copied_sheet.name = f\"{base_name}_{i}.0\"\n",
    "                    \n",
    "                    # Get all named ranges in the workbook\n",
    "                    named_ranges = wb.names\n",
    "\n",
    "                    # Iterate through the named ranges\n",
    "                    for named_range in named_ranges:\n",
    "                        try:\n",
    "                            if named_range.refers_to_range:\n",
    "                                if named_range.refers_to_range.sheet == copied_sheet:\n",
    "                                    original_name = named_range.name\n",
    "                                    original_range = named_range.refers_to_range\n",
    "\n",
    "                                    # Create the new name by appending the suffix (2.0, 3.0, etc.)\n",
    "                                    new_name = f\"{original_name}{i}.0\" if not original_name.endswith(f\"{i}.0\") else original_name\n",
    "\n",
    "                                    # Delete the existing named range in the copied sheet\n",
    "                                    named_range.delete()\n",
    "\n",
    "                                    # Create a new named range in the copied sheet\n",
    "                                    copied_sheet.range(original_range.address).name = new_name\n",
    "                        except Exception as e:\n",
    "                            print(f\"Skipping named range {named_range.name} due to error: {e}\")\n",
    "                            continue\n",
    "\n",
    "\n",
    "            # Define the path for the new workbook\n",
    "            output_filename = f\"{os.path.splitext(os.path.basename(main_model))[0]}_template.xlsx\"\n",
    "            output_file = os.path.join(base_dir, 'Templates', output_filename)\n",
    "\n",
    "            # Save the workbook with the changes\n",
    "            wb.save(output_file)\n",
    "\n",
    "        except Exception as e:\n",
    "            print(f\"Error while processing: {e}\")\n",
    "        finally:\n",
    "            # Make sure the workbook is closed and the Excel application quits\n",
    "            wb.close()\n",
    "\n",
    "\n",
    "\n"
   ]
  },
  {
   "cell_type": "code",
   "execution_count": null,
   "metadata": {},
   "outputs": [],
   "source": [
    "copy_sheets_with_unique_named_ranges(main_model, sheets_to_copy, num_replicas, base_dir)"
   ]
  },
  {
   "cell_type": "code",
   "execution_count": null,
   "metadata": {},
   "outputs": [],
   "source": []
  }
 ],
 "metadata": {
  "kernelspec": {
   "display_name": "Python 3",
   "language": "python",
   "name": "python3"
  },
  "language_info": {
   "codemirror_mode": {
    "name": "ipython",
    "version": 3
   },
   "file_extension": ".py",
   "mimetype": "text/x-python",
   "name": "python",
   "nbconvert_exporter": "python",
   "pygments_lexer": "ipython3",
   "version": "3.11.9"
  }
 },
 "nbformat": 4,
 "nbformat_minor": 2
}
