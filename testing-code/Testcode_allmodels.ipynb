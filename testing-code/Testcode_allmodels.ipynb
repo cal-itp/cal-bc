{
 "cells": [
  {
   "cell_type": "code",
   "execution_count": 1,
   "metadata": {},
   "outputs": [],
   "source": [
    "import openpyxl\n",
    "import xlwings as xw\n",
    "import pandas as pd\n",
    "import shutil\n",
    "import io\n",
    "import os\n",
    "import pandas as pd\n",
    "import time"
   ]
  },
  {
   "cell_type": "code",
   "execution_count": 2,
   "metadata": {},
   "outputs": [],
   "source": [
    "user_profile = os.getenv('USERPROFILE') ## Retrieving user profile directory from 'USERPROFILE' environment variable."
   ]
  },
  {
   "cell_type": "code",
   "execution_count": 3,
   "metadata": {},
   "outputs": [],
   "source": [
    "# Constructing the base directory path using the user profile directory.\n",
    "base_dir = os.path.join(\n",
    "    user_profile, \n",
    "    'California Department of Transportation',\n",
    "    'DOT HQ PMP Cal B C Update - General',\n",
    "    'Testbed'\n",
    ")"
   ]
  },
  {
   "cell_type": "code",
   "execution_count": 4,
   "metadata": {},
   "outputs": [],
   "source": [
    "# CalB/C Available Models \n",
    "at_model = os.path.join(base_dir, 'Input', 'CalBC Models', 'AT_model.xlsm')\n",
    "sketch_model = os.path.join(base_dir, 'Input', 'CalBC Models', 'Sketch_model.xlsm')\n",
    "if_model = os.path.join(base_dir, 'Input', 'CalBC Models', 'Intermodal_freight_model.xlsm')\n",
    "pr_model = os.path.join(base_dir, 'Input', 'CalBC Models', 'Park_&_ride_model.xlsm')\n",
    "corridor_model = os.path.join(base_dir, 'Input', 'CalBC Models', 'Corridor_model.xlsm')"
   ]
  },
  {
   "cell_type": "code",
   "execution_count": 5,
   "metadata": {},
   "outputs": [],
   "source": [
    "# Function to get both model and template paths\n",
    "def get_model_and_template(model_file):\n",
    "    model_name = os.path.splitext(os.path.basename(model_file))[0]\n",
    "    template_file = os.path.join(base_dir, 'Input', 'Templates', f\"{model_name}_template.xlsx\")\n",
    "    return model_file, template_file"
   ]
  },
  {
   "cell_type": "code",
   "execution_count": 6,
   "metadata": {},
   "outputs": [],
   "source": [
    "# Constructing file directory for output and template files.\n",
    "output_dir = os.path.join(base_dir, 'Output')"
   ]
  },
  {
   "cell_type": "code",
   "execution_count": 7,
   "metadata": {},
   "outputs": [],
   "source": [
    "# Function to identify input cells using cell background \n",
    "def identify_green_cells(main_file, sheet_names):\n",
    "    \"\"\"Identify green-highlighted cells in the specified sheet names and return their cell addresses.\"\"\"\n",
    "    green_cells_addresses = {}\n",
    "    \n",
    "    with xw.App(visible=False) as app:\n",
    "        main_wb = app.books.open(main_file)\n",
    "        print(main_wb.sheet_names)\n",
    "        \n",
    "        # Loop through the specified sheet names\n",
    "        for sheet_name in sheet_names:\n",
    "            if sheet_name in main_wb.sheet_names:\n",
    "                sheet = main_wb.sheets[sheet_name]\n",
    "                green_cells_addresses[sheet_name] = []\n",
    "                \n",
    "                # Loop through all the rows in the used range\n",
    "                for row in sheet.used_range.rows:  \n",
    "                    for cell in row:  \n",
    "                        # Check if the cell is highlighted in green (color: #CCFFCC)\n",
    "                        if cell.color == (204, 255, 204):  \n",
    "\n",
    "                            # Add the cell's address to the list\n",
    "                            green_cells_addresses[sheet_name].append(cell.address)\n",
    "        \n",
    "        main_wb.close()\n",
    "    \n",
    "    return green_cells_addresses\n",
    "\n"
   ]
  },
  {
   "cell_type": "code",
   "execution_count": 8,
   "metadata": {},
   "outputs": [],
   "source": [
    "# Specify which model to use\n",
    "main_file, template_file = get_model_and_template(corridor_model)\n",
    "\n",
    "# Specify which sheets have inputs for the given model \n",
    "sheet_names = [\"1) Project Information\"] "
   ]
  },
  {
   "cell_type": "code",
   "execution_count": 9,
   "metadata": {},
   "outputs": [
    {
     "name": "stdout",
     "output_type": "stream",
     "text": [
      "['Title', 'Instructions', '1) Project Information', '2) Model Inputs', '3) Results', 'Travel Time', 'Consumer Surplus', 'Reliability', 'Vehicle Operating Costs', 'Accident Costs', 'Emissions', 'Final Calculations', 'PARAMETERS']\n",
      "{'1) Project Information': ['$E$2', '$E$4', '$F$4', '$G$4', '$H$4', '$I$4', '$J$4', '$K$4', '$L$4', '$M$4', '$N$11', '$H$12', '$N$14', '$W$15', '$X$15', '$Y$15', '$AB$15', '$AC$15', '$F$16', '$W$16', '$X$16', '$Y$16', '$AB$16', '$AC$16', '$W$17', '$X$17', '$Y$17', '$AB$17', '$AC$17', '$F$18', '$W$18', '$X$18', '$Y$18', '$AB$18', '$AC$18', '$W$19', '$X$19', '$Y$19', '$AB$19', '$AC$19', '$F$20', '$W$20', '$X$20', '$Y$20', '$AB$20', '$AC$20', '$W$21', '$X$21', '$Y$21', '$AB$21', '$AC$21', '$W$22', '$X$22', '$Y$22', '$AB$22', '$AC$22', '$Z$24', '$AA$24', '$AB$24', '$Z$25', '$AA$25', '$AB$25', '$Z$26', '$AA$26', '$AB$26', '$Z$27', '$AA$27', '$AB$27', '$Z$28', '$AA$28', '$AB$28', '$Z$29', '$AA$29', '$AB$29', '$Z$30', '$AA$30', '$AB$30', '$Z$31', '$AA$31', '$AB$31', '$Z$32', '$AA$32', '$AB$32', '$Z$33', '$AA$33', '$AB$33', '$Z$34', '$AA$34', '$AB$34', '$Z$35', '$AA$35', '$AB$35', '$Z$36', '$AA$36', '$AB$36', '$Z$37', '$AA$37', '$AB$37', '$Z$38', '$AA$38', '$AB$38', '$Z$39', '$AA$39', '$AB$39', '$Z$40', '$AA$40', '$AB$40', '$Z$41', '$AA$41', '$AB$41', '$Z$42', '$AA$42', '$AB$42', '$Z$43', '$AA$43', '$AB$43', '$Z$44', '$AA$44', '$AB$44', '$Z$45', '$AA$45', '$AB$45', '$Z$46', '$AA$46', '$AB$46', '$Z$47', '$AA$47', '$AB$47', '$Z$48', '$AA$48', '$AB$48', '$Z$49', '$AA$49', '$AB$49', '$Z$50', '$AA$50', '$AB$50', '$Z$51', '$AA$51', '$AB$51', '$Z$52', '$AA$52', '$AB$52', '$Z$53', '$AA$53', '$AB$53', '$Z$54', '$AA$54', '$AB$54', '$Z$55', '$AA$55', '$AB$55', '$Z$56', '$AA$56', '$AB$56', '$Z$57', '$AA$57', '$AB$57', '$Z$58', '$AA$58', '$AB$58', '$Z$59', '$AA$59', '$AB$59', '$Z$60', '$AA$60', '$AB$60', '$Z$61', '$AA$61', '$AB$61', '$Z$62', '$AA$62', '$AB$62', '$Z$63', '$AA$63', '$AB$63', '$Z$64', '$AA$64', '$AB$64', '$Z$65', '$AA$65', '$AB$65', '$Z$66', '$AA$66', '$AB$66', '$Z$67', '$AA$67', '$AB$67', '$Z$68', '$AA$68', '$AB$68', '$Z$69', '$AA$69', '$AB$69', '$Z$70', '$AA$70', '$AB$70', '$Z$71', '$AA$71', '$AB$71', '$Z$72', '$AA$72', '$AB$72', '$Z$73', '$AA$73', '$AB$73']}\n"
     ]
    }
   ],
   "source": [
    "#Run the function \n",
    "green_cells_addresses = identify_green_cells(main_file, sheet_names)\n",
    "print(green_cells_addresses)\n"
   ]
  },
  {
   "cell_type": "code",
   "execution_count": 10,
   "metadata": {},
   "outputs": [],
   "source": [
    "def populate_green_cells(main_file, template_file, green_cells_addresses, output_dir):\n",
    "    \"\"\"Populate green-highlighted cells in the main file from the template file for each version.\"\"\"\n",
    "    with xw.App(visible=False) as app:\n",
    "        # Open the main file and the template file\n",
    "        main_wb = app.books.open(main_file)\n",
    "        template_wb = app.books.open(template_file)\n",
    "        \n",
    "        # Loop through each version\n",
    "        for version in ['1.0', '2.0']:\n",
    "            print(f\"Processing version {version}\")\n",
    "            \n",
    "            # Loop through the sheets in the main file and the green_cells_addresses dictionary\n",
    "            for sheet_name, green_cells in green_cells_addresses.items():\n",
    "                if sheet_name in main_wb.sheet_names:\n",
    "                    sheet = main_wb.sheets[sheet_name]\n",
    "                    \n",
    "                    # Check for the versioned sheet name in the template file\n",
    "                    template_sheet_name = f\"{sheet_name}_{version}\"  \n",
    "                    \n",
    "                    \n",
    "                    if template_sheet_name in template_wb.sheet_names:\n",
    "                        template_sheet = template_wb.sheets[template_sheet_name]\n",
    "\n",
    "                        \n",
    "                        # Loop through the green-highlighted cells and copy data from the template\n",
    "                        for address in green_cells:\n",
    "                            cell = sheet[address]\n",
    "                            template_cell = template_sheet[address]\n",
    "\n",
    "                            # Copy the data from the template to the main file\n",
    "                            cell.value = template_cell.value\n",
    "                    \n",
    "            # Recalculate all formulas in the main file\n",
    "            main_wb.app.calculate()\n",
    "\n",
    "            # Save the updated main file with the version-specific suffix\n",
    "            output_filename = f\"{os.path.splitext(os.path.basename(main_file))[0]}_v{version}.xlsx\"\n",
    "            output_filepath = os.path.join(output_dir, output_filename)\n",
    "            main_wb.save(output_filepath)\n",
    "            print(f\"Saved {output_filepath}\")\n",
    "        \n",
    "        main_wb.close()\n",
    "        template_wb.close()"
   ]
  },
  {
   "cell_type": "code",
   "execution_count": null,
   "metadata": {},
   "outputs": [],
   "source": [
    "# Running the function \n",
    "populate_green_cells(main_file, template_file, green_cells_addresses, output_dir)"
   ]
  },
  {
   "cell_type": "code",
   "execution_count": null,
   "metadata": {},
   "outputs": [],
   "source": [
    "# Summary data table \n",
    "def extract_summary_df(output_dir, main_file, named_ranges):\n",
    "    \"\"\"Extract summary data for the selected model from the output folder and create a DataFrame.\"\"\"\n",
    "    # Extract the model name from the main file (based on file name)\n",
    "    model_name = os.path.splitext(os.path.basename(main_file))[0]\n",
    "\n",
    "    summary_data = []\n",
    "    \n",
    "    # Filter the files from the output folder related to the selected model\n",
    "    model_output_files = [f for f in os.listdir(output_dir) if model_name in f and f.endswith('.xlsx')]\n",
    "    \n",
    "    # Loop through each of the filtered output files\n",
    "    for model_file in model_output_files:\n",
    "        version = model_file.split('_v')[-1].split('.')[0]  # Extract version from filename\n",
    "        file_path = os.path.join(output_dir, model_file)\n",
    "        \n",
    "        # Open the workbook using xlwings\n",
    "        with xw.App(visible=False) as app:\n",
    "            wb = app.books.open(file_path)\n",
    "            \n",
    "            # Extract data from each named range\n",
    "            row_data = {'Project Version': version}\n",
    "            for named_range in named_ranges:\n",
    "                try:\n",
    "                    # Attempt to access the named range and get its value\n",
    "                    if named_range in wb.names:\n",
    "                        range_value = wb.names[named_range].refers_to_range.value\n",
    "                        row_data[named_range] = range_value\n",
    "                    else:\n",
    "                        row_data[named_range] = None  # Named range doesn't exist\n",
    "                        print(f\"Named range '{named_range}' not found in {file_path}\")\n",
    "                except Exception as e:\n",
    "                    row_data[named_range] = None  # If something goes wrong, set to None\n",
    "                    print(f\"Error accessing '{named_range}' in {file_path}: {e}\")\n",
    "            \n",
    "            # Append row data to the summary list\n",
    "            summary_data.append(row_data)\n",
    "            wb.close()\n",
    "\n",
    "    # Convert the summary data to a DataFrame\n",
    "    summary_df = pd.DataFrame(summary_data)\n",
    "    \n",
    "    # Return the summary DataFrame\n",
    "    return summary_df"
   ]
  },
  {
   "cell_type": "code",
   "execution_count": null,
   "metadata": {},
   "outputs": [],
   "source": [
    "named_ranges = ['BeneCostRatio', 'ReturnOnInvest', 'Payback']\n",
    "summary_df = extract_summary_df(output_dir, main_file, named_ranges)"
   ]
  },
  {
   "cell_type": "code",
   "execution_count": 23,
   "metadata": {},
   "outputs": [
    {
     "name": "stdout",
     "output_type": "stream",
     "text": [
      "  Project Version BeneCostRatio ReturnOnInvest Payback\n",
      "0               1          None            N/A     N/A\n",
      "1               2          None            N/A     N/A\n"
     ]
    }
   ],
   "source": [
    "print(summary_df)"
   ]
  },
  {
   "cell_type": "code",
   "execution_count": null,
   "metadata": {},
   "outputs": [],
   "source": []
  }
 ],
 "metadata": {
  "kernelspec": {
   "display_name": "Python 3",
   "language": "python",
   "name": "python3"
  },
  "language_info": {
   "codemirror_mode": {
    "name": "ipython",
    "version": 3
   },
   "file_extension": ".py",
   "mimetype": "text/x-python",
   "name": "python",
   "nbconvert_exporter": "python",
   "pygments_lexer": "ipython3",
   "version": "3.11.9"
  }
 },
 "nbformat": 4,
 "nbformat_minor": 2
}
