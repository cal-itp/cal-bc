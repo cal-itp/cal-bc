{
 "cells": [
  {
   "cell_type": "code",
   "execution_count": 1,
   "metadata": {},
   "outputs": [],
   "source": [
    "import openpyxl\n",
    "import xlwings as xw\n",
    "import pandas as pd\n",
    "import shutil\n",
    "import io\n",
    "import os\n",
    "import pandas as pd\n",
    "import time"
   ]
  },
  {
   "cell_type": "code",
   "execution_count": 2,
   "metadata": {},
   "outputs": [],
   "source": [
    "user_profile = os.getenv('USERPROFILE') ## Retrieving user profile directory from 'USERPROFILE' environment variable."
   ]
  },
  {
   "cell_type": "code",
   "execution_count": 3,
   "metadata": {},
   "outputs": [],
   "source": [
    "# Constructing the base directory path using the user profile directory.\n",
    "base_dir = os.path.join(\n",
    "    user_profile, \n",
    "    'California Department of Transportation',\n",
    "    'DOT HQ PMP Cal B C Update - General',\n",
    "    'Testbed'\n",
    ")"
   ]
  },
  {
   "cell_type": "code",
   "execution_count": 4,
   "metadata": {},
   "outputs": [],
   "source": [
    "# CalB/C Available Models \n",
    "at_model = os.path.join(base_dir, 'Input', 'CalBC Models', 'AT_model.xlsm')\n",
    "sketch_model = os.path.join(base_dir, 'Input', 'CalBC Models', 'Sketch_model.xlsm')\n",
    "if_model = os.path.join(base_dir, 'Input', 'CalBC Models', 'Intermodal_freight_model.xlsm')\n",
    "pr_model = os.path.join(base_dir, 'Input', 'CalBC Models', 'Park_&_ride_model.xlsm')\n",
    "corridor_model = os.path.join(base_dir, 'Input', 'CalBC Models', 'Corridor_model.xlsm')"
   ]
  },
  {
   "cell_type": "code",
   "execution_count": 5,
   "metadata": {},
   "outputs": [],
   "source": [
    "# Function to get both model and template paths\n",
    "def get_model_and_template(model_file):\n",
    "    model_name = os.path.splitext(os.path.basename(model_file))[0]\n",
    "    template_file = os.path.join(base_dir, 'Input', 'Templates', f\"{model_name}_template.xlsx\")\n",
    "    return model_file, template_file"
   ]
  },
  {
   "cell_type": "code",
   "execution_count": 6,
   "metadata": {},
   "outputs": [],
   "source": [
    "# Constructing file directory for output and template files.\n",
    "output_dir = os.path.join(base_dir, 'Output')"
   ]
  },
  {
   "cell_type": "code",
   "execution_count": 7,
   "metadata": {},
   "outputs": [],
   "source": [
    "# Function to identify input cells using cell background \n",
    "def identify_green_cells(main_file, sheet_names):\n",
    "    \"\"\"Identify green-highlighted cells in the specified sheet names and return their cell addresses.\"\"\"\n",
    "    green_cells_addresses = {}\n",
    "    \n",
    "    with xw.App(visible=False) as app:\n",
    "        main_wb = app.books.open(main_file)\n",
    "        print(main_wb.sheet_names)\n",
    "        \n",
    "        # Loop through the specified sheet names\n",
    "        for sheet_name in sheet_names:\n",
    "            if sheet_name in main_wb.sheet_names:\n",
    "                sheet = main_wb.sheets[sheet_name]\n",
    "                green_cells_addresses[sheet_name] = []\n",
    "                \n",
    "                # Loop through all the rows in the used range\n",
    "                for row in sheet.used_range.rows:  \n",
    "                    for cell in row:  \n",
    "                        # Check if the cell is highlighted in green (color: #CCFFCC)\n",
    "                        if cell.color == (204, 255, 204):  \n",
    "\n",
    "                            # Add the cell's address to the list\n",
    "                            green_cells_addresses[sheet_name].append(cell.address)\n",
    "        \n",
    "        main_wb.close()\n",
    "    \n",
    "    return green_cells_addresses\n",
    "\n"
   ]
  },
  {
   "cell_type": "code",
   "execution_count": null,
   "metadata": {},
   "outputs": [],
   "source": [
    "# Specify which model to use\n",
    "main_file, template_file = get_model_and_template(corridor_model)\n",
    "\n",
    "# Specify which sheets have inputs for the given model \n",
    "sheet_names = [\"1) Project Information\"] "
   ]
  },
  {
   "cell_type": "code",
   "execution_count": 9,
   "metadata": {},
   "outputs": [
    {
     "name": "stdout",
     "output_type": "stream",
     "text": [
      "['Title', 'Instructions', '1) Project Information', '2) Model Inputs', '3) Results', 'Travel Time', 'Consumer Surplus', 'Reliability', 'Vehicle Operating Costs', 'Accident Costs', 'Emissions', 'Final Calculations', 'PARAMETERS']\n",
      "{'2) Model Inputs': ['$F$11', '$G$11', '$H$11', '$I$11', '$J$11', '$K$11', '$L$11', '$M$11', '$N$11', '$V$11', '$W$11', '$X$11', '$Y$11', '$AA$11', '$AB$11', '$AC$11', '$AD$11', '$AL$11', '$AM$11', '$AN$11', '$AO$11', '$AP$11', '$AQ$11', '$AR$11', '$AS$11', '$BQ$11', '$BR$11', '$BS$11', '$BT$11', '$BU$11', '$BV$11', '$BW$11', '$BX$11', '$BY$11', '$BZ$11', '$CA$11', '$CB$11', '$CD$11', '$CE$11', '$CG$11', '$CH$11', '$CK$11', '$CL$11', '$CN$11', '$CO$11', '$CX$11', '$DH$11', '$F$29', '$G$29', '$H$29', '$I$29', '$J$29', '$K$29', '$V$29', '$W$29', '$X$29', '$Y$29', '$Z$29', '$AA$29', '$AM$29', '$AN$29', '$AO$29', '$AP$29', '$BA$29', '$BP$29', '$BQ$29', '$BR$29', '$CD$29', '$CE$29', '$CF$29', '$F$35', '$G$35', '$H$35', '$I$35', '$J$35', '$K$35', '$V$35', '$W$35', '$X$35', '$Y$35', '$Z$35', '$AA$35', '$AM$35', '$BA$35', '$BP$35', '$BQ$35', '$BR$35', '$CD$35', '$CE$35', '$CF$35']}\n"
     ]
    }
   ],
   "source": [
    "#Run the function \n",
    "green_cells_addresses = identify_green_cells(main_file, sheet_names)\n",
    "print(green_cells_addresses)\n"
   ]
  },
  {
   "cell_type": "code",
   "execution_count": 10,
   "metadata": {},
   "outputs": [],
   "source": [
    "def populate_green_cells(main_file, template_file, green_cells_addresses, output_dir):\n",
    "    \"\"\"Populate green-highlighted cells in the main file from the template file for each version.\"\"\"\n",
    "    with xw.App(visible=False) as app:\n",
    "        # Open the main file and the template file\n",
    "        main_wb = app.books.open(main_file)\n",
    "        template_wb = app.books.open(template_file)\n",
    "        \n",
    "        # Loop through each version\n",
    "        for version in ['1.0', '2.0']:\n",
    "            print(f\"Processing version {version}\")\n",
    "            \n",
    "            # Loop through the sheets in the main file and the green_cells_addresses dictionary\n",
    "            for sheet_name, green_cells in green_cells_addresses.items():\n",
    "                if sheet_name in main_wb.sheet_names:\n",
    "                    sheet = main_wb.sheets[sheet_name]\n",
    "                    \n",
    "                    # Check for the versioned sheet name in the template file\n",
    "                    template_sheet_name = f\"{sheet_name}_{version}\"  \n",
    "                    \n",
    "                    \n",
    "                    if template_sheet_name in template_wb.sheet_names:\n",
    "                        template_sheet = template_wb.sheets[template_sheet_name]\n",
    "\n",
    "                        \n",
    "                        # Loop through the green-highlighted cells and copy data from the template\n",
    "                        for address in green_cells:\n",
    "                            cell = sheet[address]\n",
    "                            template_cell = template_sheet[address]\n",
    "\n",
    "                            # Copy the data from the template to the main file\n",
    "                            cell.value = template_cell.value\n",
    "                    \n",
    "            # Recalculate all formulas in the main file\n",
    "            main_wb.app.calculate()\n",
    "\n",
    "            # Save the updated main file with the version-specific suffix\n",
    "            output_filename = f\"{os.path.splitext(os.path.basename(main_file))[0]}_v{version}.xlsx\"\n",
    "            output_filepath = os.path.join(output_dir, output_filename)\n",
    "            main_wb.save(output_filepath)\n",
    "            print(f\"Saved {output_filepath}\")\n",
    "        \n",
    "        main_wb.close()\n",
    "        template_wb.close()"
   ]
  },
  {
   "cell_type": "code",
   "execution_count": 11,
   "metadata": {},
   "outputs": [
    {
     "name": "stdout",
     "output_type": "stream",
     "text": [
      "Processing version 1.0\n",
      "Saved C:\\Users\\s159357\\California Department of Transportation\\DOT HQ PMP Cal B C Update - General\\Testbed\\Output\\Corridor_model_v1.0.xlsx\n",
      "Processing version 2.0\n",
      "Saved C:\\Users\\s159357\\California Department of Transportation\\DOT HQ PMP Cal B C Update - General\\Testbed\\Output\\Corridor_model_v2.0.xlsx\n"
     ]
    }
   ],
   "source": [
    "# Running the function \n",
    "populate_green_cells(main_file, template_file, green_cells_addresses, output_dir)"
   ]
  },
  {
   "cell_type": "code",
   "execution_count": null,
   "metadata": {},
   "outputs": [],
   "source": []
  }
 ],
 "metadata": {
  "kernelspec": {
   "display_name": "Python 3",
   "language": "python",
   "name": "python3"
  },
  "language_info": {
   "codemirror_mode": {
    "name": "ipython",
    "version": 3
   },
   "file_extension": ".py",
   "mimetype": "text/x-python",
   "name": "python",
   "nbconvert_exporter": "python",
   "pygments_lexer": "ipython3",
   "version": "3.11.9"
  }
 },
 "nbformat": 4,
 "nbformat_minor": 2
}
