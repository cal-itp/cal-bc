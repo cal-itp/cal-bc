{
 "cells": [
  {
   "cell_type": "markdown",
   "id": "667bd63d",
   "metadata": {},
   "source": [
    "## CALBC vs 8.1 Sketch Model Test"
   ]
  },
  {
   "cell_type": "markdown",
   "id": "cc0f3cba",
   "metadata": {},
   "source": [
    "This code tests the CALBC version 8.1 Sketch Model. It utilizes a template file, which is designed to gather test data, and applies this data to the sketch model to generate final results. Test template can be updated [here](https://caltrans.sharepoint.com/:x:/r/sites/DOTHQPMPCalBCUpdate/Shared%20Documents/General/Testbed/Input/testbed_template.xlsm?d=w3bca22e7b5714f5399bb4015c94aa134&csf=1&web=1&e=9AuFn9). To run this code, you'll need to sync the [Testbed folder](https://teams.microsoft.com/l/team/19%3AQrQ3LladNmkiVpFmuCmW2H72CKQz9MrBc2yr1kukBoA1%40thread.tacv2/conversations?groupId=f2d54ae5-490b-4b95-99cf-bafddf8f38b6&tenantId=621b0a64-1740-43cc-8d88-4540d3487556) from [CalB/C Update](https://teams.microsoft.com/l/team/19%3AQrQ3LladNmkiVpFmuCmW2H72CKQz9MrBc2yr1kukBoA1%40thread.tacv2/conversations?groupId=f2d54ae5-490b-4b95-99cf-bafddf8f38b6&tenantId=621b0a64-1740-43cc-8d88-4540d3487556) Teams folder to your local machine. Output will be saved in designated [Output Folder](https://caltrans.sharepoint.com/:f:/r/sites/DOTHQPMPCalBCUpdate/Shared%20Documents/General/Testbed/Output?csf=1&web=1&e=X5VbAM)."
   ]
  },
  {
   "cell_type": "code",
   "execution_count": null,
   "id": "8f1acb5f-93e8-44a4-a62a-bd2e914c8764",
   "metadata": {
    "tags": []
   },
   "outputs": [],
   "source": [
    "pip install xlwings #Installing xlwings"
   ]
  },
  {
   "cell_type": "code",
   "execution_count": null,
   "id": "1a90975f-2857-4dec-bfc0-c97714f1bba2",
   "metadata": {
    "tags": []
   },
   "outputs": [],
   "source": [
    "pip install openpyxl #Installing openpyxl"
   ]
  },
  {
   "cell_type": "code",
   "execution_count": 3,
   "id": "1edf73f4-e81c-4bbf-8d66-9fa4beea3a52",
   "metadata": {
    "tags": []
   },
   "outputs": [],
   "source": [
    "import openpyxl\n",
    "import xlwings as xw\n",
    "import pandas as pd\n",
    "import gcsfs\n",
    "import time\n",
    "import shutil\n",
    "import io\n",
    "import os\n",
    "import pandas as pd"
   ]
  },
  {
   "cell_type": "code",
   "execution_count": 4,
   "id": "63fd5e31",
   "metadata": {},
   "outputs": [],
   "source": [
    "user_profile = os.getenv('USERPROFILE') ## Retrieving user profile directory from 'USERPROFILE' environment variable."
   ]
  },
  {
   "cell_type": "code",
   "execution_count": 5,
   "id": "2bb9d5bb",
   "metadata": {},
   "outputs": [],
   "source": [
    "# Constructing the base directory path using the user profile directory.\n",
    "base_dir = os.path.join(\n",
    "    user_profile, \n",
    "    'California Department of Transportation',\n",
    "    'DOT HQ PMP Cal B C Update - General',\n",
    "    'Testbed'\n",
    ")"
   ]
  },
  {
   "cell_type": "code",
   "execution_count": 6,
   "id": "0bef0132-79aa-4323-afcd-78a29ac8c1ed",
   "metadata": {
    "tags": []
   },
   "outputs": [],
   "source": [
    "# Constructing file paths for input, output, and template files.\n",
    "excel_file_path = os.path.join(base_dir, 'Input', 'cal-bc-8-1-sketch-a11y.xlsm')\n",
    "output_dir = os.path.join(base_dir, 'Output', 'recalculatedtestresults.xlsm')\n",
    "template_file_path = os.path.join(base_dir, 'Input', 'testbed_template.xlsm')"
   ]
  },
  {
   "cell_type": "code",
   "execution_count": null,
   "id": "1a1edb9c",
   "metadata": {},
   "outputs": [],
   "source": [
    "# Reading the Excel file as binary and loading it into a workbook object.\n",
    "with open(excel_file_path, 'rb') as f:\n",
    "    file_data = f.read()\n",
    "    \n",
    "# Loading the workbook from the binary data, preserving any VBA code\n",
    "    wb = openpyxl.load_workbook(io.BytesIO(file_data), keep_vba=True)"
   ]
  },
  {
   "cell_type": "code",
   "execution_count": 8,
   "id": "7c64d6bd",
   "metadata": {},
   "outputs": [],
   "source": [
    "# function to find named ranges, extract sheet name and cell reference and update cell's value with corresponding value from name_value_map\n",
    "def update_named_ranges(wb, name_value_map):\n",
    "    for name, new_value in name_value_map.items():\n",
    "        try:\n",
    "            # Accessing the defined name ranges in the workbook\n",
    "            defined_name = wb.defined_names[name]\n",
    "            \n",
    "            # Extracting the sheet name and cell reference from the defined name ranges\n",
    "            sheet_name, cell_reference = defined_name.attr_text.split('!')\n",
    "            sheet_name = sheet_name.strip(\"'\").strip()\n",
    "            \n",
    "            # Accessing the sheet and cell reference\n",
    "            sheet = wb[sheet_name]\n",
    "            \n",
    "            # Getting the current value of the cell\n",
    "            current_value = sheet[cell_reference].value\n",
    "            \n",
    "            # Updating the value of the cell\n",
    "            sheet[cell_reference] = new_value\n",
    "            \n",
    "            # Getting the updated value of the cell\n",
    "            updated_value = sheet[cell_reference].value\n",
    "            \n",
    "            # Printing the updated value after the update\n",
    "            print(f\"Updated value of '{name}' in {sheet_name} ({cell_reference}): {updated_value}\")\n",
    "        \n",
    "        except KeyError:\n",
    "            print(f\"Error: Named range '{name}' not found in the workbook.\")\n",
    "        except Exception as e:\n",
    "            print(f\"An error occurred: {e}\")"
   ]
  },
  {
   "cell_type": "code",
   "execution_count": 9,
   "id": "272baf70",
   "metadata": {},
   "outputs": [],
   "source": [
    "# Extracting project data from the template file\n",
    "def extract_project_data_pandas(template_file_path):\n",
    "\n",
    "    df = pd.read_excel(template_file_path, sheet_name=\"Overall Info\")  \n",
    "    df_filtered = df[df['ProjID'].notna()]  \n",
    "    \n",
    "    name_value_map = df_filtered.set_index('ProjID').to_dict(orient='index')\n",
    "    \n",
    "    return name_value_map\n"
   ]
  },
  {
   "cell_type": "code",
   "execution_count": 10,
   "id": "fa464e57",
   "metadata": {},
   "outputs": [],
   "source": [
    "# Using the extracting project function \n",
    "name_value_map = extract_project_data_pandas(template_file_path)"
   ]
  },
  {
   "cell_type": "code",
   "execution_count": 11,
   "id": "0f00a05b",
   "metadata": {
    "collapsed": true,
    "jupyter": {
     "outputs_hidden": true
    },
    "tags": []
   },
   "outputs": [
    {
     "name": "stdout",
     "output_type": "stream",
     "text": [
      "{1.0: {'ProjName': 'Sketch Example', 'District': 'HQ', 'ProjType': '    Hwy-Rail Grade Crossing', 'ProjLoc': 1.0, 'Construct': 6.0, 'NumDirections': 2.0, 'PeakLngthNB': 5.0, 'RoadTypeNB': 'C', 'RoadTypeB': 'C', 'GenLanesNB': 2.0, 'GenLanesB': 2.0, 'HOVLanesNB': 0.0, 'HOVLanesB': 2.0, 'HOVRest': 2.0, 'Exclusive': 'N', 'FFSpeedNB': 65.0, 'FFSpeedB': 65.0, 'RampFFSpdNB': 35.0, 'RampFFSpdB': 35.0, 'SegmentNB': 1.1, 'SegmentB': 1.1, 'ImpactedNB': 1.1, 'ImpactedB': 1.1, 'ADT0': 90000.0, 'ADT1NB': 101617.2, 'ADT1B': 109265.8064516129, 'ADT20NB': 138405.0, 'ADT20B': 148822.58064516127, 'HOVvolNB': 0.0, 'HOVvolB': 2030.0, 'PerIndHOV': '100%', 'PerWeaveNB': nan, 'PerWeaveB': '10%', 'PerTruckNB': 0.09, 'PerTruckB': 0.09, 'TruckSpeed': 55.0, 'RampVolP': 0.0, 'RampVolNP': 0.0, 'MeterStrat': 0.0, 'ArrRate1': 8468.1, 'ArrRate20': 11533.75, 'DepRate1': 2800.0, 'DepRate20': 2800.0, 'IRI1NB': 0.0, 'IRI1B': 0.0, 'IRI20NB': nan, 'IRI20B': nan, 'AVONonNB': 1.38, 'AVONonB': 1.65, 'AVOPeakNB': 1.42, 'AVOPeakB': 1.7, 'AVOHovNB': 0.0, 'AVOHovB': 2.15, 'TotCrashCt': 150.0, 'FatCrashCt': 3.0, 'InjCrashCt': 34.0, 'PDOCrashCt': nan, 'RateGroupNB': 'H', 'RateGroupB': 'H', 'AccStAvgNB': 1.14, 'AccStAvgB': 0.64, 'PFatStAvgNB': 0.006, 'PFatStAvgB': 0.005, 'PInjStAvgNB': 0.38, 'PInjStAvgB': 0.321, 'TAPT1NB': 1602.0, 'TAPT1B': 1602.0, 'TAPT20NB': 3037.0, 'TAPT20B': 4.0, 'TPerPeak': 0.403, 'TPerHwy': 0.0, 'TVehMi1NB': 8, 'TVehMi1B': 8.0, 'TVehMi20NB': 16.0, 'TVehMi20B': 16.0, 'TVehPerTrainNB': 0.0, 'TVehPerTrainB': 0.0, 'TAccReductPer': 0.0, 'TInTimeNBN': 1.0, 'TInTimeBN': 1.0, 'TInTimeNBP': 10.0, 'TInTimeBP': 3.0, 'TOutTimeNBN': 0.0, 'TOutTimeBN': 0.0, 'TOutTimeNBP': 0.0, 'TOutTimeBP': 0.0, 'NumTrain0': 0.0, 'NumTrain1': 0.0, 'NumTrain20': 0.0, 'GateTime0': 0.0, 'GateTime1': 0.0, 'GateTime20': 0.0, 'TCapCostNB': 0.0, 'TCapCostB': 0.0, 'TOMCostNB': 0.0, 'TOMCostB': 0.0, 'SegmentR': 0.0, 'SegmentA': 0.0}, 2.0: {'ProjName': 'Sketch Example', 'District': 0, 'ProjType': '    Hwy-Rail Grade Crossing', 'ProjLoc': 1.0, 'Construct': 6.0, 'NumDirections': 2.0, 'PeakLngthNB': 5.0, 'RoadTypeNB': 'F', 'RoadTypeB': 'F', 'GenLanesNB': 0.0, 'GenLanesB': 0.0, 'HOVLanesNB': 0.0, 'HOVLanesB': 0.0, 'HOVRest': 0.0, 'Exclusive': 'N', 'FFSpeedNB': 0.0, 'FFSpeedB': 0.0, 'RampFFSpdNB': 35.0, 'RampFFSpdB': 35.0, 'SegmentNB': 0.0, 'SegmentB': 0.0, 'ImpactedNB': 0.0, 'ImpactedB': 0.0, 'ADT0': 0.0, 'ADT1NB': 0.0, 'ADT1B': 0.0, 'ADT20NB': 0.0, 'ADT20B': 0.0, 'HOVvolNB': 0.0, 'HOVvolB': 0.0, 'PerIndHOV': '100%', 'PerWeaveNB': nan, 'PerWeaveB': '10%', 'PerTruckNB': 0.09, 'PerTruckB': 0.09, 'TruckSpeed': 0.0, 'RampVolP': 0.0, 'RampVolNP': 0.0, 'MeterStrat': 0.0, 'ArrRate1': 0.0, 'ArrRate20': 0.0, 'DepRate1': 0.0, 'DepRate20': 0.0, 'IRI1NB': 0.0, 'IRI1B': 0.0, 'IRI20NB': nan, 'IRI20B': nan, 'AVONonNB': 1.3, 'AVONonB': 1.3, 'AVOPeakNB': 1.15, 'AVOPeakB': 1.15, 'AVOHovNB': 2.15, 'AVOHovB': 2.15, 'TotCrashCt': 0.0, 'FatCrashCt': 0.0, 'InjCrashCt': 0.0, 'PDOCrashCt': nan, 'RateGroupNB': 0, 'RateGroupB': 0, 'AccStAvgNB': 0.0, 'AccStAvgB': 0.0, 'PFatStAvgNB': 0.0, 'PFatStAvgB': 0.0, 'PInjStAvgNB': 0.0, 'PInjStAvgB': 0.0, 'TAPT1NB': 0.0, 'TAPT1B': 0.0, 'TAPT20NB': 0.0, 'TAPT20B': 0.0, 'TPerPeak': 0.403, 'TPerHwy': 1.0, 'TVehMi1NB': 0, 'TVehMi1B': 0.0, 'TVehMi20NB': 0.0, 'TVehMi20B': 0.0, 'TVehPerTrainNB': 0.0, 'TVehPerTrainB': 0.0, 'TAccReductPer': 0.0, 'TInTimeNBN': 0.0, 'TInTimeBN': 0.0, 'TInTimeNBP': 0.0, 'TInTimeBP': 0.0, 'TOutTimeNBN': 0.0, 'TOutTimeBN': 0.0, 'TOutTimeNBP': 0.0, 'TOutTimeBP': 0.0, 'NumTrain0': 0.0, 'NumTrain1': 0.0, 'NumTrain20': 0.0, 'GateTime0': 0.0, 'GateTime1': 0.0, 'GateTime20': 0.0, 'TCapCostNB': 0.0, 'TCapCostB': 0.0, 'TOMCostNB': 0.0, 'TOMCostB': 0.0, 'SegmentR': 0.0, 'SegmentA': 0.0}, 3.0: {'ProjName': 'Sketch Example', 'District': 'Sketch Example', 'ProjType': '    Hwy-Rail Grade Crossing', 'ProjLoc': 1.0, 'Construct': 6.0, 'NumDirections': 2.0, 'PeakLngthNB': 5.0, 'RoadTypeNB': 'F', 'RoadTypeB': 'F', 'GenLanesNB': 0.0, 'GenLanesB': 0.0, 'HOVLanesNB': 0.0, 'HOVLanesB': 0.0, 'HOVRest': 0.0, 'Exclusive': 'N', 'FFSpeedNB': 0.0, 'FFSpeedB': 0.0, 'RampFFSpdNB': nan, 'RampFFSpdB': nan, 'SegmentNB': 0.0, 'SegmentB': 0.0, 'ImpactedNB': 0.0, 'ImpactedB': 0.0, 'ADT0': 0.0, 'ADT1NB': 0.0, 'ADT1B': 0.0, 'ADT20NB': 0.0, 'ADT20B': 0.0, 'HOVvolNB': 0.0, 'HOVvolB': 0.0, 'PerIndHOV': nan, 'PerWeaveNB': nan, 'PerWeaveB': nan, 'PerTruckNB': 0.09, 'PerTruckB': 0.09, 'TruckSpeed': 0.0, 'RampVolP': 0.0, 'RampVolNP': 0.0, 'MeterStrat': 0.0, 'ArrRate1': 0.0, 'ArrRate20': 0.0, 'DepRate1': 0.0, 'DepRate20': 0.0, 'IRI1NB': 0.0, 'IRI1B': 0.0, 'IRI20NB': nan, 'IRI20B': nan, 'AVONonNB': 1.3, 'AVONonB': 1.3, 'AVOPeakNB': 1.15, 'AVOPeakB': 1.15, 'AVOHovNB': 2.15, 'AVOHovB': 2.15, 'TotCrashCt': 0.0, 'FatCrashCt': 0.0, 'InjCrashCt': 0.0, 'PDOCrashCt': nan, 'RateGroupNB': 0, 'RateGroupB': 0, 'AccStAvgNB': 0.0, 'AccStAvgB': 0.0, 'PFatStAvgNB': 0.0, 'PFatStAvgB': 0.0, 'PInjStAvgNB': 0.0, 'PInjStAvgB': 0.0, 'TAPT1NB': 0.0, 'TAPT1B': 0.0, 'TAPT20NB': 0.0, 'TAPT20B': 0.0, 'TPerPeak': 0.403, 'TPerHwy': 1.0, 'TVehMi1NB': 0, 'TVehMi1B': 0.0, 'TVehMi20NB': 0.0, 'TVehMi20B': 0.0, 'TVehPerTrainNB': 0.0, 'TVehPerTrainB': 0.0, 'TAccReductPer': 0.0, 'TInTimeNBN': 0.0, 'TInTimeBN': 0.0, 'TInTimeNBP': 0.0, 'TInTimeBP': 0.0, 'TOutTimeNBN': 0.0, 'TOutTimeBN': 0.0, 'TOutTimeNBP': 0.0, 'TOutTimeBP': 0.0, 'NumTrain0': 0.0, 'NumTrain1': 0.0, 'NumTrain20': 0.0, 'GateTime0': 0.0, 'GateTime1': 0.0, 'GateTime20': 0.0, 'TCapCostNB': 0.0, 'TCapCostB': 0.0, 'TOMCostNB': 0.0, 'TOMCostB': 0.0, 'SegmentR': 0.0, 'SegmentA': 0.0}}\n"
     ]
    }
   ],
   "source": [
    "#Checking generated dictionary \n",
    "print(name_value_map)"
   ]
  },
  {
   "cell_type": "code",
   "execution_count": 12,
   "id": "87739fc2",
   "metadata": {},
   "outputs": [],
   "source": [
    "def recalculate_and_save_xlsm(wb, excel_file_path, name_value_map, output_file_path_prefix):\n",
    "    # Iterating through the name_value_map, where each key is a project ID and the value is its corresponding data\n",
    "    for key, value in name_value_map.items():\n",
    "        update_named_ranges(wb, value) # Update named ranges in the workbook using the current project's data\n",
    "    \n",
    "        temp_local_path = os.path.join(os.path.dirname(excel_file_path), \"temp_recalculated.xlsm\") #path for a temporary file that hold the recalculated workbook \n",
    "        wb.save(temp_local_path)\n",
    "    \n",
    "        try:\n",
    "            with xw.App(visible=False) as app: #opens excel file in the background \n",
    "                print(\"Starting Excel application...\")\n",
    "\n",
    "                #opening the recalculated workbook\n",
    "                wb_excel = app.books.open(temp_local_path)\n",
    "                print(f\"Workbook {temp_local_path} opened successfully.\")\n",
    "            \n",
    "\n",
    "                wb_excel.app.calculate()  #excel recalculates all the formulas \n",
    "                print(\"Excel formulas recalculated.\")\n",
    "            \n",
    "                output_file_path = f\"{output_file_path_prefix}_{key}.xlsm\" \n",
    "                wb_excel.save(output_file_path) #recalculated files saved in designated output file path \n",
    "                wb_excel.close()\n",
    "            \n",
    "                print(f\"Workbook recalculated and saved to {output_file_path}.\")\n",
    "    \n",
    "        except Exception as e:\n",
    "            print(f\"Error during recalculation: {e}\") #print errors\n",
    "    \n",
    "        os.remove(temp_local_path)\n",
    "    \n",
    "        print(\"Temporary file removed.\")"
   ]
  },
  {
   "cell_type": "code",
   "execution_count": null,
   "id": "69355e5d",
   "metadata": {
    "collapsed": true,
    "jupyter": {
     "outputs_hidden": true
    },
    "tags": []
   },
   "outputs": [],
   "source": [
    "# Using the recalculate and save function \n",
    "recalculate_and_save_xlsm(wb, excel_file_path, name_value_map, output_dir)"
   ]
  }
 ],
 "metadata": {
  "kernelspec": {
   "display_name": "Python 3",
   "language": "python",
   "name": "python3"
  },
  "language_info": {
   "codemirror_mode": {
    "name": "ipython",
    "version": 3
   },
   "file_extension": ".py",
   "mimetype": "text/x-python",
   "name": "python",
   "nbconvert_exporter": "python",
   "pygments_lexer": "ipython3",
   "version": "3.11.9"
  }
 },
 "nbformat": 4,
 "nbformat_minor": 5
}
