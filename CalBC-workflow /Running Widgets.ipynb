{
 "cells": [
  {
   "cell_type": "code",
   "execution_count": 1,
   "id": "a0c45d9b-e6da-4225-b096-b88f36a8cc9f",
   "metadata": {
    "tags": []
   },
   "outputs": [],
   "source": [
    "from parameters import parameters"
   ]
  },
  {
   "cell_type": "code",
   "execution_count": 2,
   "id": "381b75f0-4e12-484f-b8cb-fd04797f2428",
   "metadata": {
    "tags": []
   },
   "outputs": [],
   "source": [
    "params = parameters()"
   ]
  },
  {
   "cell_type": "code",
   "execution_count": 3,
   "id": "91d47342-72ad-4e7d-92ab-ad9a00da7a8f",
   "metadata": {
    "tags": []
   },
   "outputs": [],
   "source": [
    "# Import necessary functions from the project_inputs.py file\n",
    "from projectinfo_widgets import create_project_info_widgets, get_inputs"
   ]
  },
  {
   "cell_type": "code",
   "execution_count": 4,
   "id": "8181c110-9c34-4214-907c-2059c37324c3",
   "metadata": {},
   "outputs": [
    {
     "data": {
      "application/vnd.jupyter.widget-view+json": {
       "model_id": "482337ce41e04d64b1bc0fe93e805537",
       "version_major": 2,
       "version_minor": 0
      },
      "text/plain": [
       "VBox(children=(VBox(children=(VBox(children=(HTML(value=\"<b style='color: darkblue;'>Project Data</b>\"), HTML(…"
      ]
     },
     "metadata": {},
     "output_type": "display_data"
    }
   ],
   "source": [
    "create_project_info_widgets()"
   ]
  },
  {
   "cell_type": "code",
   "execution_count": 5,
   "id": "81de3277-d735-4dd7-97f1-564612144d82",
   "metadata": {
    "tags": []
   },
   "outputs": [],
   "source": [
    "import projectinfo_widgets"
   ]
  },
  {
   "cell_type": "code",
   "execution_count": 6,
   "id": "71ff177e-ddff-4b89-a67f-d36fec823e43",
   "metadata": {
    "tags": []
   },
   "outputs": [],
   "source": [
    "projectinfo_widgets.subcategory_dropdown.value"
   ]
  },
  {
   "cell_type": "code",
   "execution_count": 7,
   "id": "10e44ad6-04f7-45a2-a742-fbb2589c305a",
   "metadata": {
    "tags": []
   },
   "outputs": [],
   "source": [
    "from modelinputs_widgets import create_new_widgets"
   ]
  },
  {
   "cell_type": "code",
   "execution_count": 8,
   "id": "485604d5-7f5b-4a40-b4ca-dcd08bb1b8f2",
   "metadata": {},
   "outputs": [
    {
     "data": {
      "application/vnd.jupyter.widget-view+json": {
       "model_id": "abdce2820fd34ce08ed717c503352c0a",
       "version_major": 2,
       "version_minor": 0
      },
      "text/plain": [
       "VBox(children=(VBox(children=(HTML(value=\"<b style='color: darkblue;'>\\nHighway Speed and Volume Inputs (No Bu…"
      ]
     },
     "metadata": {},
     "output_type": "display_data"
    }
   ],
   "source": [
    "create_new_widgets()"
   ]
  },
  {
   "cell_type": "code",
   "execution_count": null,
   "id": "c8067106-18c2-4999-a09e-1d72f986c533",
   "metadata": {},
   "outputs": [],
   "source": []
  }
 ],
 "metadata": {
  "kernelspec": {
   "display_name": "Python 3 (ipykernel)",
   "language": "python",
   "name": "python3"
  },
  "language_info": {
   "codemirror_mode": {
    "name": "ipython",
    "version": 3
   },
   "file_extension": ".py",
   "mimetype": "text/x-python",
   "name": "python",
   "nbconvert_exporter": "python",
   "pygments_lexer": "ipython3",
   "version": "3.11.10"
  }
 },
 "nbformat": 4,
 "nbformat_minor": 5
}
