{
 "cells": [
  {
   "cell_type": "code",
   "execution_count": 1,
   "id": "a0c45d9b-e6da-4225-b096-b88f36a8cc9f",
   "metadata": {
    "tags": []
   },
   "outputs": [],
   "source": [
    "from parameters import parameters"
   ]
  },
  {
   "cell_type": "code",
   "execution_count": 2,
   "id": "381b75f0-4e12-484f-b8cb-fd04797f2428",
   "metadata": {
    "tags": []
   },
   "outputs": [],
   "source": [
    "params = parameters()"
   ]
  },
  {
   "cell_type": "code",
   "execution_count": 3,
   "id": "91d47342-72ad-4e7d-92ab-ad9a00da7a8f",
   "metadata": {
    "tags": []
   },
   "outputs": [
    {
     "data": {
      "application/vnd.jupyter.widget-view+json": {
       "model_id": "e489c022bc2b42f0892161fef24b94ba",
       "version_major": 2,
       "version_minor": 0
      },
      "text/plain": [
       "VBox(children=(VBox(children=(VBox(children=(HTML(value=\"<b style='color: darkblue;'>Project Data</b>\"), HTML(…"
      ]
     },
     "metadata": {},
     "output_type": "display_data"
    }
   ],
   "source": [
    "# Import necessary functions from the project_inputs.py file\n",
    "import projectinfo_widgets\n",
    "from projectinfo_widgets import create_project_info_widgets, get_inputs\n",
    "create_project_info_widgets()"
   ]
  },
  {
   "cell_type": "code",
   "execution_count": 4,
   "id": "71ff177e-ddff-4b89-a67f-d36fec823e43",
   "metadata": {
    "tags": []
   },
   "outputs": [],
   "source": [
    "projectinfo_widgets.subcategory_dropdown.value"
   ]
  },
  {
   "cell_type": "code",
   "execution_count": 5,
   "id": "6e3538d0-fc5a-4dad-81e8-6ba44f1cb19b",
   "metadata": {},
   "outputs": [
    {
     "data": {
      "application/vnd.jupyter.widget-view+json": {
       "model_id": "913895c0af514a12a85ec90a4c09365d",
       "version_major": 2,
       "version_minor": 0
      },
      "text/plain": [
       "VBox(children=(VBox(children=(HTML(value=\"<b style='color: darkblue;'>\\nHighway Speed and Volume Inputs (No Bu…"
      ]
     },
     "metadata": {},
     "output_type": "display_data"
    }
   ],
   "source": [
    "import modelinputs_widgets \n",
    "from modelinputs_widgets import create_new_widgets\n",
    "create_new_widgets()"
   ]
  },
  {
   "cell_type": "code",
   "execution_count": 6,
   "id": "b4e7deb6-165f-47b3-b340-5d50c5b06b19",
   "metadata": {},
   "outputs": [
    {
     "data": {
      "text/html": [
       "<div>\n",
       "<style scoped>\n",
       "    .dataframe tbody tr th:only-of-type {\n",
       "        vertical-align: middle;\n",
       "    }\n",
       "\n",
       "    .dataframe tbody tr th {\n",
       "        vertical-align: top;\n",
       "    }\n",
       "\n",
       "    .dataframe thead th {\n",
       "        text-align: right;\n",
       "    }\n",
       "</style>\n",
       "<table border=\"1\" class=\"dataframe\">\n",
       "  <thead>\n",
       "    <tr style=\"text-align: right;\">\n",
       "      <th></th>\n",
       "      <th>Year</th>\n",
       "      <th>Group</th>\n",
       "      <th>Avg_Vol_NoBuild</th>\n",
       "      <th>Avg_Vol_Build</th>\n",
       "      <th>Avg_Speed_NoBuild</th>\n",
       "      <th>Avg_Speed_Build</th>\n",
       "      <th>AnnualPersonTrips_NoBuild</th>\n",
       "      <th>AnnualPersonTrips_Build</th>\n",
       "      <th>Avg_TravelTime_NoBuild</th>\n",
       "      <th>Avg_TravelTime_Build</th>\n",
       "      <th>ExistingBenefit</th>\n",
       "      <th>InducedBenefit</th>\n",
       "      <th>Constant Dollar</th>\n",
       "      <th>Present Value</th>\n",
       "    </tr>\n",
       "  </thead>\n",
       "  <tbody>\n",
       "    <tr>\n",
       "      <th>0</th>\n",
       "      <td>1</td>\n",
       "      <td>Peak_HOV</td>\n",
       "      <td>0.0</td>\n",
       "      <td>0.0</td>\n",
       "      <td>0.0</td>\n",
       "      <td>0.0</td>\n",
       "      <td>0</td>\n",
       "      <td>0</td>\n",
       "      <td>#DIV/0!</td>\n",
       "      <td>#DIV/0!</td>\n",
       "      <td>0.0</td>\n",
       "      <td>0.0</td>\n",
       "      <td>0.0</td>\n",
       "      <td>0.0</td>\n",
       "    </tr>\n",
       "    <tr>\n",
       "      <th>1</th>\n",
       "      <td>2</td>\n",
       "      <td>Peak_HOV</td>\n",
       "      <td>0.0</td>\n",
       "      <td>0.0</td>\n",
       "      <td>0.0</td>\n",
       "      <td>0.0</td>\n",
       "      <td>0</td>\n",
       "      <td>0</td>\n",
       "      <td>#DIV/0!</td>\n",
       "      <td>#DIV/0!</td>\n",
       "      <td>0.0</td>\n",
       "      <td>0.0</td>\n",
       "      <td>0.0</td>\n",
       "      <td>0.0</td>\n",
       "    </tr>\n",
       "    <tr>\n",
       "      <th>2</th>\n",
       "      <td>3</td>\n",
       "      <td>Peak_HOV</td>\n",
       "      <td>0.0</td>\n",
       "      <td>0.0</td>\n",
       "      <td>0.0</td>\n",
       "      <td>0.0</td>\n",
       "      <td>0</td>\n",
       "      <td>0</td>\n",
       "      <td>#DIV/0!</td>\n",
       "      <td>#DIV/0!</td>\n",
       "      <td>0.0</td>\n",
       "      <td>0.0</td>\n",
       "      <td>0.0</td>\n",
       "      <td>0.0</td>\n",
       "    </tr>\n",
       "    <tr>\n",
       "      <th>3</th>\n",
       "      <td>4</td>\n",
       "      <td>Peak_HOV</td>\n",
       "      <td>0.0</td>\n",
       "      <td>0.0</td>\n",
       "      <td>0.0</td>\n",
       "      <td>0.0</td>\n",
       "      <td>0</td>\n",
       "      <td>0</td>\n",
       "      <td>#DIV/0!</td>\n",
       "      <td>#DIV/0!</td>\n",
       "      <td>0.0</td>\n",
       "      <td>0.0</td>\n",
       "      <td>0.0</td>\n",
       "      <td>0.0</td>\n",
       "    </tr>\n",
       "    <tr>\n",
       "      <th>4</th>\n",
       "      <td>5</td>\n",
       "      <td>Peak_HOV</td>\n",
       "      <td>0.0</td>\n",
       "      <td>0.0</td>\n",
       "      <td>0.0</td>\n",
       "      <td>0.0</td>\n",
       "      <td>0</td>\n",
       "      <td>0</td>\n",
       "      <td>#DIV/0!</td>\n",
       "      <td>#DIV/0!</td>\n",
       "      <td>0.0</td>\n",
       "      <td>0.0</td>\n",
       "      <td>0.0</td>\n",
       "      <td>0.0</td>\n",
       "    </tr>\n",
       "    <tr>\n",
       "      <th>...</th>\n",
       "      <td>...</td>\n",
       "      <td>...</td>\n",
       "      <td>...</td>\n",
       "      <td>...</td>\n",
       "      <td>...</td>\n",
       "      <td>...</td>\n",
       "      <td>...</td>\n",
       "      <td>...</td>\n",
       "      <td>...</td>\n",
       "      <td>...</td>\n",
       "      <td>...</td>\n",
       "      <td>...</td>\n",
       "      <td>...</td>\n",
       "      <td>...</td>\n",
       "    </tr>\n",
       "    <tr>\n",
       "      <th>175</th>\n",
       "      <td>16</td>\n",
       "      <td>NonPeak_Truck</td>\n",
       "      <td>0.0</td>\n",
       "      <td>0.0</td>\n",
       "      <td>0.0</td>\n",
       "      <td>0.0</td>\n",
       "      <td>0</td>\n",
       "      <td>0</td>\n",
       "      <td>#DIV/0!</td>\n",
       "      <td>#DIV/0!</td>\n",
       "      <td>0.0</td>\n",
       "      <td>0.0</td>\n",
       "      <td>0.0</td>\n",
       "      <td>0.0</td>\n",
       "    </tr>\n",
       "    <tr>\n",
       "      <th>176</th>\n",
       "      <td>17</td>\n",
       "      <td>NonPeak_Truck</td>\n",
       "      <td>0.0</td>\n",
       "      <td>0.0</td>\n",
       "      <td>0.0</td>\n",
       "      <td>0.0</td>\n",
       "      <td>0</td>\n",
       "      <td>0</td>\n",
       "      <td>#DIV/0!</td>\n",
       "      <td>#DIV/0!</td>\n",
       "      <td>0.0</td>\n",
       "      <td>0.0</td>\n",
       "      <td>0.0</td>\n",
       "      <td>0.0</td>\n",
       "    </tr>\n",
       "    <tr>\n",
       "      <th>177</th>\n",
       "      <td>18</td>\n",
       "      <td>NonPeak_Truck</td>\n",
       "      <td>0.0</td>\n",
       "      <td>0.0</td>\n",
       "      <td>0.0</td>\n",
       "      <td>0.0</td>\n",
       "      <td>0</td>\n",
       "      <td>0</td>\n",
       "      <td>#DIV/0!</td>\n",
       "      <td>#DIV/0!</td>\n",
       "      <td>0.0</td>\n",
       "      <td>0.0</td>\n",
       "      <td>0.0</td>\n",
       "      <td>0.0</td>\n",
       "    </tr>\n",
       "    <tr>\n",
       "      <th>178</th>\n",
       "      <td>19</td>\n",
       "      <td>NonPeak_Truck</td>\n",
       "      <td>0.0</td>\n",
       "      <td>0.0</td>\n",
       "      <td>0.0</td>\n",
       "      <td>0.0</td>\n",
       "      <td>0</td>\n",
       "      <td>0</td>\n",
       "      <td>#DIV/0!</td>\n",
       "      <td>#DIV/0!</td>\n",
       "      <td>0.0</td>\n",
       "      <td>0.0</td>\n",
       "      <td>0.0</td>\n",
       "      <td>0.0</td>\n",
       "    </tr>\n",
       "    <tr>\n",
       "      <th>179</th>\n",
       "      <td>20</td>\n",
       "      <td>NonPeak_Truck</td>\n",
       "      <td>0.0</td>\n",
       "      <td>0.0</td>\n",
       "      <td>0.0</td>\n",
       "      <td>0.0</td>\n",
       "      <td>0</td>\n",
       "      <td>0</td>\n",
       "      <td>#DIV/0!</td>\n",
       "      <td>#DIV/0!</td>\n",
       "      <td>0.0</td>\n",
       "      <td>0.0</td>\n",
       "      <td>0.0</td>\n",
       "      <td>0.0</td>\n",
       "    </tr>\n",
       "  </tbody>\n",
       "</table>\n",
       "<p>180 rows × 14 columns</p>\n",
       "</div>"
      ],
      "text/plain": [
       "     Year          Group  Avg_Vol_NoBuild  Avg_Vol_Build  Avg_Speed_NoBuild  \\\n",
       "0       1       Peak_HOV              0.0            0.0                0.0   \n",
       "1       2       Peak_HOV              0.0            0.0                0.0   \n",
       "2       3       Peak_HOV              0.0            0.0                0.0   \n",
       "3       4       Peak_HOV              0.0            0.0                0.0   \n",
       "4       5       Peak_HOV              0.0            0.0                0.0   \n",
       "..    ...            ...              ...            ...                ...   \n",
       "175    16  NonPeak_Truck              0.0            0.0                0.0   \n",
       "176    17  NonPeak_Truck              0.0            0.0                0.0   \n",
       "177    18  NonPeak_Truck              0.0            0.0                0.0   \n",
       "178    19  NonPeak_Truck              0.0            0.0                0.0   \n",
       "179    20  NonPeak_Truck              0.0            0.0                0.0   \n",
       "\n",
       "     Avg_Speed_Build  AnnualPersonTrips_NoBuild  AnnualPersonTrips_Build  \\\n",
       "0                0.0                          0                        0   \n",
       "1                0.0                          0                        0   \n",
       "2                0.0                          0                        0   \n",
       "3                0.0                          0                        0   \n",
       "4                0.0                          0                        0   \n",
       "..               ...                        ...                      ...   \n",
       "175              0.0                          0                        0   \n",
       "176              0.0                          0                        0   \n",
       "177              0.0                          0                        0   \n",
       "178              0.0                          0                        0   \n",
       "179              0.0                          0                        0   \n",
       "\n",
       "    Avg_TravelTime_NoBuild Avg_TravelTime_Build  ExistingBenefit  \\\n",
       "0                  #DIV/0!              #DIV/0!              0.0   \n",
       "1                  #DIV/0!              #DIV/0!              0.0   \n",
       "2                  #DIV/0!              #DIV/0!              0.0   \n",
       "3                  #DIV/0!              #DIV/0!              0.0   \n",
       "4                  #DIV/0!              #DIV/0!              0.0   \n",
       "..                     ...                  ...              ...   \n",
       "175                #DIV/0!              #DIV/0!              0.0   \n",
       "176                #DIV/0!              #DIV/0!              0.0   \n",
       "177                #DIV/0!              #DIV/0!              0.0   \n",
       "178                #DIV/0!              #DIV/0!              0.0   \n",
       "179                #DIV/0!              #DIV/0!              0.0   \n",
       "\n",
       "     InducedBenefit  Constant Dollar  Present Value  \n",
       "0               0.0              0.0            0.0  \n",
       "1               0.0              0.0            0.0  \n",
       "2               0.0              0.0            0.0  \n",
       "3               0.0              0.0            0.0  \n",
       "4               0.0              0.0            0.0  \n",
       "..              ...              ...            ...  \n",
       "175             0.0              0.0            0.0  \n",
       "176             0.0              0.0            0.0  \n",
       "177             0.0              0.0            0.0  \n",
       "178             0.0              0.0            0.0  \n",
       "179             0.0              0.0            0.0  \n",
       "\n",
       "[180 rows x 14 columns]"
      ]
     },
     "metadata": {},
     "output_type": "display_data"
    },
    {
     "data": {
      "application/vnd.jupyter.widget-view+json": {
       "model_id": "859b33f6a6fc49eeaeb184a3fc5c1872",
       "version_major": 2,
       "version_minor": 0
      },
      "text/plain": [
       "VBox(children=(FloatText(value=0.0, description='Total Benefit ($):', disabled=True), FloatText(value=1000000.…"
      ]
     },
     "metadata": {},
     "output_type": "display_data"
    }
   ],
   "source": [
    "import travel_time"
   ]
  },
  {
   "cell_type": "code",
   "execution_count": 7,
   "id": "4d5faeb3-73cf-4e50-a32b-c4b131bf1abd",
   "metadata": {
    "tags": []
   },
   "outputs": [],
   "source": [
    "# from travel_time import calculate_average_volumes_highway, calculate_average_speeds_highway, update_combined_results, calculate_trend_for_variables, generate_trends_from_dataframe, calculate_person_trips_highway, calculate_average_travel_time, traveltime_benefit, add_dollar_calculated_column, add_discounted_value_column, sum_present_value_by_year,  calculate_benefit_cost_ratio, update_bcr   "
   ]
  },
  {
   "cell_type": "code",
   "execution_count": 8,
   "id": "72ca71dc-e1c7-42a8-b1ac-9084070c4f5b",
   "metadata": {
    "tags": []
   },
   "outputs": [],
   "source": [
    "# variable_names = ['Avg_Vol_NoBuild', 'Avg_Vol_Build', 'Avg_Speed_NoBuild', 'Avg_Speed_Build']"
   ]
  },
  {
   "cell_type": "code",
   "execution_count": 9,
   "id": "49b535a6-a220-46cc-a77e-34cd45729058",
   "metadata": {
    "tags": []
   },
   "outputs": [],
   "source": [
    "# AnnualFactor = params.AnnualFactor"
   ]
  },
  {
   "cell_type": "code",
   "execution_count": 10,
   "id": "d32ab0e7-de7a-4819-bf68-40deed81480f",
   "metadata": {
    "tags": []
   },
   "outputs": [],
   "source": [
    "# total_cost = 136653989 "
   ]
  },
  {
   "cell_type": "code",
   "execution_count": 11,
   "id": "d8a6636a-4aea-4582-8108-e5a79a62a989",
   "metadata": {},
   "outputs": [],
   "source": [
    "# average_volumes_highway = calculate_average_volumes_highway(AnnualFactor)\n",
    "# average_speeds_highway = calculate_average_speeds_highway(AnnualFactor)\n",
    "# df_combined = update_combined_results()\n",
    "# final_trend_df = generate_trends_from_dataframe(df_combined, variable_names)  \n",
    "# final_trend_df = calculate_person_trips_highway(final_trend_df)\n",
    "# final_trend_df = calculate_average_travel_time(final_trend_df)\n",
    "# final_trend_df = traveltime_benefit(final_trend_df)\n",
    "# final_trend_df = add_dollar_calculated_column(final_trend_df)\n",
    "# final_trend_df = add_discounted_value_column(final_trend_df, value_column_name='Constant Dollar', output_column_name='Present Value')\n",
    "# sum_by_year_df = sum_present_value_by_year(final_trend_df)\n",
    "# BCR = calculate_benefit_cost_ratio(sum_by_year_df, total_cost)"
   ]
  },
  {
   "cell_type": "code",
   "execution_count": 12,
   "id": "d4a2b47f-fcb0-45f1-a635-da26f8b72308",
   "metadata": {
    "tags": []
   },
   "outputs": [],
   "source": [
    "# BCR = calculate_benefit_cost_ratio(sum_by_year_df, total_cost)"
   ]
  },
  {
   "cell_type": "code",
   "execution_count": 13,
   "id": "a397825a-fdc0-4c0d-81ca-266e0eafb3df",
   "metadata": {
    "tags": []
   },
   "outputs": [],
   "source": [
    "# BCR"
   ]
  },
  {
   "cell_type": "code",
   "execution_count": null,
   "id": "28380869-b4f3-4c6d-bd46-c8ba402fffc3",
   "metadata": {},
   "outputs": [],
   "source": []
  }
 ],
 "metadata": {
  "kernelspec": {
   "display_name": "Python 3 (ipykernel)",
   "language": "python",
   "name": "python3"
  },
  "language_info": {
   "codemirror_mode": {
    "name": "ipython",
    "version": 3
   },
   "file_extension": ".py",
   "mimetype": "text/x-python",
   "name": "python",
   "nbconvert_exporter": "python",
   "pygments_lexer": "ipython3",
   "version": "3.11.10"
  }
 },
 "nbformat": 4,
 "nbformat_minor": 5
}
