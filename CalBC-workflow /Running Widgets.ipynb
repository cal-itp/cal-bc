{
 "cells": [
  {
   "cell_type": "code",
   "execution_count": 1,
   "id": "a0c45d9b-e6da-4225-b096-b88f36a8cc9f",
   "metadata": {
    "tags": []
   },
   "outputs": [],
   "source": [
    "from parameters import parameters"
   ]
  },
  {
   "cell_type": "code",
   "execution_count": 2,
   "id": "381b75f0-4e12-484f-b8cb-fd04797f2428",
   "metadata": {
    "tags": []
   },
   "outputs": [],
   "source": [
    "params = parameters()"
   ]
  },
  {
   "cell_type": "code",
   "execution_count": 3,
   "id": "91d47342-72ad-4e7d-92ab-ad9a00da7a8f",
   "metadata": {
    "tags": []
   },
   "outputs": [],
   "source": [
    "# Import necessary functions from the project_inputs.py file\n",
    "from projectinfo_widgets import create_project_info_widgets, get_inputs"
   ]
  },
  {
   "cell_type": "code",
   "execution_count": 4,
   "id": "8181c110-9c34-4214-907c-2059c37324c3",
   "metadata": {},
   "outputs": [
    {
     "data": {
      "application/vnd.jupyter.widget-view+json": {
       "model_id": "eb1ec6bca2894aa9b68c5694ab8a541e",
       "version_major": 2,
       "version_minor": 0
      },
      "text/plain": [
       "VBox(children=(VBox(children=(VBox(children=(HTML(value=\"<b style='color: darkblue;'>Project Data</b>\"), HTML(…"
      ]
     },
     "metadata": {},
     "output_type": "display_data"
    }
   ],
   "source": [
    "create_project_info_widgets()"
   ]
  },
  {
   "cell_type": "code",
   "execution_count": 5,
   "id": "1ae7097f-a910-4954-bc30-b1ca95b6119b",
   "metadata": {},
   "outputs": [
    {
     "data": {
      "application/vnd.jupyter.widget-view+json": {
       "model_id": "0748782abd0d44b1af5e22c07ee1b2f5",
       "version_major": 2,
       "version_minor": 0
      },
      "text/plain": [
       "VBox(children=(VBox(children=(VBox(children=(HTML(value=\"<b style='color: darkblue;'>Project Data</b>\"), HTML(…"
      ]
     },
     "metadata": {},
     "output_type": "display_data"
    }
   ],
   "source": [
    "from modelinputs_widgets import create_new_widgets"
   ]
  },
  {
   "cell_type": "code",
   "execution_count": 6,
   "id": "485604d5-7f5b-4a40-b4ca-dcd08bb1b8f2",
   "metadata": {},
   "outputs": [
    {
     "name": "stdout",
     "output_type": "stream",
     "text": [
      "subcategory_dropdown changed: None\n"
     ]
    },
    {
     "data": {
      "application/vnd.jupyter.widget-view+json": {
       "model_id": "fc7e977f8bf04c0da6432320b6881b44",
       "version_major": 2,
       "version_minor": 0
      },
      "text/plain": [
       "VBox(children=(VBox(children=(HTML(value=\"<b style='color: darkblue;'>\\nHighway Speed and Volume Inputs (No Bu…"
      ]
     },
     "metadata": {},
     "output_type": "display_data"
    }
   ],
   "source": [
    "create_new_widgets()"
   ]
  },
  {
   "cell_type": "code",
   "execution_count": null,
   "id": "5af84908-60ff-433c-9e14-4ba2884cd78a",
   "metadata": {},
   "outputs": [],
   "source": []
  }
 ],
 "metadata": {
  "kernelspec": {
   "display_name": "Python 3 (ipykernel)",
   "language": "python",
   "name": "python3"
  },
  "language_info": {
   "codemirror_mode": {
    "name": "ipython",
    "version": 3
   },
   "file_extension": ".py",
   "mimetype": "text/x-python",
   "name": "python",
   "nbconvert_exporter": "python",
   "pygments_lexer": "ipython3",
   "version": "3.11.10"
  }
 },
 "nbformat": 4,
 "nbformat_minor": 5
}
