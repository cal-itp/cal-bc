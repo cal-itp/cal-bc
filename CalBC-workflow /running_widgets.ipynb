{
 "cells": [
  {
   "cell_type": "code",
   "execution_count": 1,
   "id": "7524c41e-7660-441a-9aee-b311714e4b02",
   "metadata": {
    "tags": []
   },
   "outputs": [],
   "source": [
    "from parameters import parameters"
   ]
  },
  {
   "cell_type": "code",
   "execution_count": 2,
   "id": "3e9534ce-5f53-4c83-ab7b-3ff67ab67851",
   "metadata": {
    "tags": []
   },
   "outputs": [],
   "source": [
    "params = parameters()"
   ]
  },
  {
   "cell_type": "code",
   "execution_count": 3,
   "id": "e60f17c2-f4d4-4ccb-abe8-1196791ee1bd",
   "metadata": {
    "tags": []
   },
   "outputs": [],
   "source": [
    "# Import necessary functions from the project_inputs.py file\n",
    "from projectinfo_widgets import create_project_info_widgets, get_inputs"
   ]
  },
  {
   "cell_type": "code",
   "execution_count": 4,
   "id": "218ec402-1a75-40a9-9605-227df5894e30",
   "metadata": {
    "tags": []
   },
   "outputs": [
    {
     "data": {
      "application/vnd.jupyter.widget-view+json": {
       "model_id": "47773df293744cf8b49877eadcaeb614",
       "version_major": 2,
       "version_minor": 0
      },
      "text/plain": [
       "VBox(children=(VBox(children=(VBox(children=(HTML(value=\"<b style='color: darkblue;'>Project Data</b>\"), HTML(…"
      ]
     },
     "metadata": {},
     "output_type": "display_data"
    }
   ],
   "source": [
    "create_project_info_widgets()"
   ]
  },
  {
   "cell_type": "markdown",
   "id": "dcd6c932-608f-458a-905d-335ac428aa31",
   "metadata": {},
   "source": [
    "#"
   ]
  },
  {
   "cell_type": "code",
   "execution_count": 5,
   "id": "9f2ebcb9-5148-4e17-842c-db78dd09929b",
   "metadata": {},
   "outputs": [],
   "source": [
    "from modelinputs_widgets import create_new_widgets"
   ]
  },
  {
   "cell_type": "code",
   "execution_count": 6,
   "id": "a674268b-74a6-4790-871c-2e17822a1502",
   "metadata": {
    "tags": []
   },
   "outputs": [
    {
     "ename": "TypeError",
     "evalue": "'IntText' object is not callable",
     "output_type": "error",
     "traceback": [
      "\u001b[0;31m---------------------------------------------------------------------------\u001b[0m",
      "\u001b[0;31mTypeError\u001b[0m                                 Traceback (most recent call last)",
      "Cell \u001b[0;32mIn[6], line 1\u001b[0m\n\u001b[0;32m----> 1\u001b[0m \u001b[43mcreate_new_widgets\u001b[49m\u001b[43m(\u001b[49m\u001b[43m)\u001b[49m\n",
      "File \u001b[0;32m~/cal-bc/CalBC-workflow /modelinputs_widgets.py:1328\u001b[0m, in \u001b[0;36mcreate_new_widgets\u001b[0;34m()\u001b[0m\n\u001b[1;32m   1326\u001b[0m projectinfo_widgets\u001b[38;5;241m.\u001b[39msubcategory_dropdown\u001b[38;5;241m.\u001b[39mobserve(update_nonpeak_weave_speed, names\u001b[38;5;241m=\u001b[39m\u001b[38;5;124m'\u001b[39m\u001b[38;5;124mvalue\u001b[39m\u001b[38;5;124m'\u001b[39m)   \n\u001b[1;32m   1327\u001b[0m projectinfo_widgets\u001b[38;5;241m.\u001b[39mfree_flow_speed_no_build_widget\u001b[38;5;241m.\u001b[39mobserve(update_nonpeak_weave_speed, names\u001b[38;5;241m=\u001b[39m\u001b[38;5;124m'\u001b[39m\u001b[38;5;124mvalue\u001b[39m\u001b[38;5;124m'\u001b[39m)\n\u001b[0;32m-> 1328\u001b[0m \u001b[43mprojectinfo_widgets\u001b[49m\u001b[38;5;241;43m.\u001b[39;49m\u001b[43mramp_design_speed_no_build_widget\u001b[49m\u001b[43m(\u001b[49m\u001b[43mupdate_nonpeak_weave_speed\u001b[49m\u001b[43m,\u001b[49m\u001b[43m \u001b[49m\u001b[43mnames\u001b[49m\u001b[38;5;241;43m=\u001b[39;49m\u001b[38;5;124;43m'\u001b[39;49m\u001b[38;5;124;43mvalue\u001b[39;49m\u001b[38;5;124;43m'\u001b[39;49m\u001b[43m)\u001b[49m\n\u001b[1;32m   1329\u001b[0m projectinfo_widgets\u001b[38;5;241m.\u001b[39mhov_hot_lanes_no_build_widget\u001b[38;5;241m.\u001b[39mobserve(update_nonpeak_weave_speed, names\u001b[38;5;241m=\u001b[39m\u001b[38;5;124m'\u001b[39m\u001b[38;5;124mvalue\u001b[39m\u001b[38;5;124m'\u001b[39m)\n\u001b[1;32m   1330\u001b[0m projectinfo_widgets\u001b[38;5;241m.\u001b[39mhighway_segment_no_build_widget(update_nonpeak_weave_speed, names\u001b[38;5;241m=\u001b[39m\u001b[38;5;124m'\u001b[39m\u001b[38;5;124mvalue\u001b[39m\u001b[38;5;124m'\u001b[39m)\n",
      "\u001b[0;31mTypeError\u001b[0m: 'IntText' object is not callable"
     ]
    }
   ],
   "source": [
    "create_new_widgets()"
   ]
  },
  {
   "cell_type": "code",
   "execution_count": null,
   "id": "26eae098-75d9-43ce-a0dd-cafaa344a2a6",
   "metadata": {},
   "outputs": [],
   "source": []
  }
 ],
 "metadata": {
  "kernelspec": {
   "display_name": "Python 3 (ipykernel)",
   "language": "python",
   "name": "python3"
  },
  "language_info": {
   "codemirror_mode": {
    "name": "ipython",
    "version": 3
   },
   "file_extension": ".py",
   "mimetype": "text/x-python",
   "name": "python",
   "nbconvert_exporter": "python",
   "pygments_lexer": "ipython3",
   "version": "3.11.10"
  }
 },
 "nbformat": 4,
 "nbformat_minor": 5
}
