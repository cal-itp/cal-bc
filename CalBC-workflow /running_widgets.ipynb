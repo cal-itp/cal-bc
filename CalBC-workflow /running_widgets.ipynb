{
 "cells": [
  {
   "cell_type": "code",
   "execution_count": 1,
   "id": "7524c41e-7660-441a-9aee-b311714e4b02",
   "metadata": {
    "tags": []
   },
   "outputs": [],
   "source": [
    "from parameters import parameters"
   ]
  },
  {
   "cell_type": "code",
   "execution_count": 2,
   "id": "3e9534ce-5f53-4c83-ab7b-3ff67ab67851",
   "metadata": {
    "tags": []
   },
   "outputs": [],
   "source": [
    "params = parameters()"
   ]
  },
  {
   "cell_type": "code",
   "execution_count": 3,
   "id": "e60f17c2-f4d4-4ccb-abe8-1196791ee1bd",
   "metadata": {
    "tags": []
   },
   "outputs": [],
   "source": [
    "# Import necessary functions from the project_inputs.py file\n",
    "from projectinfo_widgets import create_project_info_widgets, get_inputs"
   ]
  },
  {
   "cell_type": "code",
   "execution_count": 4,
   "id": "218ec402-1a75-40a9-9605-227df5894e30",
   "metadata": {
    "tags": []
   },
   "outputs": [
    {
     "ename": "NameError",
     "evalue": "name 'TCapCostNB' is not defined",
     "output_type": "error",
     "traceback": [
      "\u001b[0;31m---------------------------------------------------------------------------\u001b[0m",
      "\u001b[0;31mNameError\u001b[0m                                 Traceback (most recent call last)",
      "Cell \u001b[0;32mIn[4], line 1\u001b[0m\n\u001b[0;32m----> 1\u001b[0m \u001b[43mcreate_project_info_widgets\u001b[49m\u001b[43m(\u001b[49m\u001b[43m)\u001b[49m\n",
      "File \u001b[0;32m~/cal-bc/CalBC-workflow /projectinfo_widgets.py:1694\u001b[0m, in \u001b[0;36mcreate_project_info_widgets\u001b[0;34m()\u001b[0m\n\u001b[1;32m   1691\u001b[0m update_annual_capex()\n\u001b[1;32m   1693\u001b[0m \u001b[38;5;66;03m# Attach observers to relevant widgets\u001b[39;00m\n\u001b[0;32m-> 1694\u001b[0m \u001b[43mTCapCostNB\u001b[49m\u001b[38;5;241m.\u001b[39mobserve(update_annual_capex, names\u001b[38;5;241m=\u001b[39m\u001b[38;5;124m'\u001b[39m\u001b[38;5;124mvalue\u001b[39m\u001b[38;5;124m'\u001b[39m)  \u001b[38;5;66;03m# Observe changes to TOutTimeNBN_widget\u001b[39;00m\n\u001b[1;32m   1695\u001b[0m subcategory_dropdown\u001b[38;5;241m.\u001b[39mobserve(update_annual_capex, names\u001b[38;5;241m=\u001b[39m\u001b[38;5;124m'\u001b[39m\u001b[38;5;124mvalue\u001b[39m\u001b[38;5;124m'\u001b[39m)  \u001b[38;5;66;03m# Observe changes to subcategory_dropdown   \u001b[39;00m\n\u001b[1;32m   1697\u001b[0m \u001b[38;5;66;03m# Widgets container \u001b[39;00m\n",
      "\u001b[0;31mNameError\u001b[0m: name 'TCapCostNB' is not defined"
     ]
    }
   ],
   "source": [
    "create_project_info_widgets()"
   ]
  },
  {
   "cell_type": "markdown",
   "id": "dcd6c932-608f-458a-905d-335ac428aa31",
   "metadata": {},
   "source": [
    "#"
   ]
  },
  {
   "cell_type": "code",
   "execution_count": null,
   "id": "9f2ebcb9-5148-4e17-842c-db78dd09929b",
   "metadata": {},
   "outputs": [],
   "source": [
    "from modelinputs_widgets import create_new_widgets"
   ]
  },
  {
   "cell_type": "code",
   "execution_count": null,
   "id": "a674268b-74a6-4790-871c-2e17822a1502",
   "metadata": {
    "tags": []
   },
   "outputs": [],
   "source": [
    "create_new_widgets()"
   ]
  },
  {
   "cell_type": "code",
   "execution_count": null,
   "id": "26eae098-75d9-43ce-a0dd-cafaa344a2a6",
   "metadata": {},
   "outputs": [],
   "source": []
  }
 ],
 "metadata": {
  "kernelspec": {
   "display_name": "Python 3 (ipykernel)",
   "language": "python",
   "name": "python3"
  },
  "language_info": {
   "codemirror_mode": {
    "name": "ipython",
    "version": 3
   },
   "file_extension": ".py",
   "mimetype": "text/x-python",
   "name": "python",
   "nbconvert_exporter": "python",
   "pygments_lexer": "ipython3",
   "version": "3.11.10"
  }
 },
 "nbformat": 4,
 "nbformat_minor": 5
}
