{
 "cells": [
  {
   "cell_type": "code",
   "execution_count": 1,
   "id": "7524c41e-7660-441a-9aee-b311714e4b02",
   "metadata": {
    "tags": []
   },
   "outputs": [],
   "source": [
    "from Parameter import Parameters"
   ]
  },
  {
   "cell_type": "code",
   "execution_count": 2,
   "id": "3e9534ce-5f53-4c83-ab7b-3ff67ab67851",
   "metadata": {
    "tags": []
   },
   "outputs": [],
   "source": [
    "params = Parameters()"
   ]
  },
  {
   "cell_type": "code",
   "execution_count": 3,
   "id": "e60f17c2-f4d4-4ccb-abe8-1196791ee1bd",
   "metadata": {
    "tags": []
   },
   "outputs": [],
   "source": [
    "# Import necessary functions from the project_inputs.py file\n",
    "from project_inputs import create_widgets, get_inputs"
   ]
  },
  {
   "cell_type": "code",
   "execution_count": 4,
   "id": "218ec402-1a75-40a9-9605-227df5894e30",
   "metadata": {
    "tags": []
   },
   "outputs": [
    {
     "data": {
      "application/vnd.jupyter.widget-view+json": {
       "model_id": "6b5e005202fd409c8e97a70266a06fef",
       "version_major": 2,
       "version_minor": 0
      },
      "text/plain": [
       "VBox(children=(VBox(children=(Label(value='Project Data'), HTML(value='<hr>'), Dropdown(description='Project L…"
      ]
     },
     "metadata": {},
     "output_type": "display_data"
    }
   ],
   "source": [
    "create_widgets()"
   ]
  },
  {
   "cell_type": "code",
   "execution_count": null,
   "id": "38d917b6-b6d1-4154-bc20-b1dcf4073660",
   "metadata": {},
   "outputs": [],
   "source": []
  }
 ],
 "metadata": {
  "kernelspec": {
   "display_name": "Python 3 (ipykernel)",
   "language": "python",
   "name": "python3"
  },
  "language_info": {
   "codemirror_mode": {
    "name": "ipython",
    "version": 3
   },
   "file_extension": ".py",
   "mimetype": "text/x-python",
   "name": "python",
   "nbconvert_exporter": "python",
   "pygments_lexer": "ipython3",
   "version": "3.11.10"
  }
 },
 "nbformat": 4,
 "nbformat_minor": 5
}
