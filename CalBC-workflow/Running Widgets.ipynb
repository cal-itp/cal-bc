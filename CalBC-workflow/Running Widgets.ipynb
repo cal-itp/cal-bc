{
 "cells": [
  {
   "cell_type": "code",
   "execution_count": 1,
   "id": "a0c45d9b-e6da-4225-b096-b88f36a8cc9f",
   "metadata": {
    "tags": []
   },
   "outputs": [],
   "source": [
    "from parameters import parameters"
   ]
  },
  {
   "cell_type": "code",
   "execution_count": 2,
   "id": "381b75f0-4e12-484f-b8cb-fd04797f2428",
   "metadata": {
    "tags": []
   },
   "outputs": [],
   "source": [
    "params = parameters()"
   ]
  },
  {
   "cell_type": "code",
   "execution_count": 3,
   "id": "91d47342-72ad-4e7d-92ab-ad9a00da7a8f",
   "metadata": {
    "tags": []
   },
   "outputs": [
    {
     "data": {
      "application/vnd.jupyter.widget-view+json": {
       "model_id": "37e5f09f45304a2a8243628aaa1fcb5f",
       "version_major": 2,
       "version_minor": 0
      },
      "text/plain": [
       "VBox(children=(VBox(children=(VBox(children=(HTML(value=\"<b style='color: darkblue;'>Project Data</b>\"), HTML(…"
      ]
     },
     "metadata": {},
     "output_type": "display_data"
    }
   ],
   "source": [
    "# Import necessary functions from the project_inputs.py file\n",
    "import projectinfo_widgets\n",
    "from projectinfo_widgets import create_project_info_widgets, get_inputs\n",
    "create_project_info_widgets()"
   ]
  },
  {
   "cell_type": "code",
   "execution_count": 4,
   "id": "71ff177e-ddff-4b89-a67f-d36fec823e43",
   "metadata": {
    "tags": []
   },
   "outputs": [],
   "source": [
    "projectinfo_widgets.subcategory_dropdown.value"
   ]
  },
  {
   "cell_type": "code",
   "execution_count": 5,
   "id": "6e3538d0-fc5a-4dad-81e8-6ba44f1cb19b",
   "metadata": {},
   "outputs": [
    {
     "data": {
      "application/vnd.jupyter.widget-view+json": {
       "model_id": "5b1053c24f8c48cda2fd1efc62515faa",
       "version_major": 2,
       "version_minor": 0
      },
      "text/plain": [
       "VBox(children=(VBox(children=(HTML(value=\"<b style='color: darkblue;'>\\nHighway Speed and Volume Inputs (No Bu…"
      ]
     },
     "metadata": {},
     "output_type": "display_data"
    }
   ],
   "source": [
    "import modelinputs_widgets \n",
    "from modelinputs_widgets import create_new_widgets\n",
    "create_new_widgets()"
   ]
  },
  {
   "cell_type": "code",
   "execution_count": 6,
   "id": "4d5faeb3-73cf-4e50-a32b-c4b131bf1abd",
   "metadata": {
    "tags": []
   },
   "outputs": [],
   "source": [
    "# from travel_time import calculate_average_volumes_highway, calculate_average_speeds_highway, update_combined_results, calculate_trend_for_variables, generate_trends_from_dataframe, calculate_person_trips_highway, calculate_average_travel_time, traveltime_benefit, add_dollar_calculated_column, add_discounted_value_column, sum_present_value_by_year,  calculate_benefit_cost_ratio, update_bcr   "
   ]
  },
  {
   "cell_type": "code",
   "execution_count": 7,
   "id": "72ca71dc-e1c7-42a8-b1ac-9084070c4f5b",
   "metadata": {
    "tags": []
   },
   "outputs": [],
   "source": [
    "# variable_names = ['Avg_Vol_NoBuild', 'Avg_Vol_Build', 'Avg_Speed_NoBuild', 'Avg_Speed_Build']"
   ]
  },
  {
   "cell_type": "code",
   "execution_count": 8,
   "id": "49b535a6-a220-46cc-a77e-34cd45729058",
   "metadata": {
    "tags": []
   },
   "outputs": [],
   "source": [
    "# AnnualFactor = params.AnnualFactor"
   ]
  },
  {
   "cell_type": "code",
   "execution_count": 9,
   "id": "d32ab0e7-de7a-4819-bf68-40deed81480f",
   "metadata": {
    "tags": []
   },
   "outputs": [],
   "source": [
    "# total_cost = 136653989 "
   ]
  },
  {
   "cell_type": "code",
   "execution_count": 10,
   "id": "d8a6636a-4aea-4582-8108-e5a79a62a989",
   "metadata": {},
   "outputs": [],
   "source": [
    "# average_volumes_highway = calculate_average_volumes_highway(AnnualFactor)\n",
    "# average_speeds_highway = calculate_average_speeds_highway(AnnualFactor)\n",
    "# df_combined = update_combined_results()\n",
    "# final_trend_df = generate_trends_from_dataframe(df_combined, variable_names)  \n",
    "# final_trend_df = calculate_person_trips_highway(final_trend_df)\n",
    "# final_trend_df = calculate_average_travel_time(final_trend_df)\n",
    "# final_trend_df = traveltime_benefit(final_trend_df)\n",
    "# final_trend_df = add_dollar_calculated_column(final_trend_df)\n",
    "# final_trend_df = add_discounted_value_column(final_trend_df, value_column_name='Constant Dollar', output_column_name='Present Value')\n",
    "# sum_by_year_df = sum_present_value_by_year(final_trend_df)\n",
    "# BCR = calculate_benefit_cost_ratio(sum_by_year_df, total_cost)"
   ]
  },
  {
   "cell_type": "code",
   "execution_count": 11,
   "id": "d4a2b47f-fcb0-45f1-a635-da26f8b72308",
   "metadata": {
    "tags": []
   },
   "outputs": [],
   "source": [
    "# BCR = calculate_benefit_cost_ratio(sum_by_year_df, total_cost)"
   ]
  },
  {
   "cell_type": "code",
   "execution_count": 12,
   "id": "a397825a-fdc0-4c0d-81ca-266e0eafb3df",
   "metadata": {
    "tags": []
   },
   "outputs": [],
   "source": [
    "# BCR"
   ]
  },
  {
   "cell_type": "code",
   "execution_count": 16,
   "id": "28380869-b4f3-4c6d-bd46-c8ba402fffc3",
   "metadata": {},
   "outputs": [
    {
     "name": "stdout",
     "output_type": "stream",
     "text": [
      "Requirement already satisfied: mercury in /opt/conda/lib/python3.11/site-packages (2.4.3)\n",
      "Requirement already satisfied: django==4.2.7 in /opt/conda/lib/python3.11/site-packages (from mercury) (4.2.7)\n",
      "Requirement already satisfied: djangorestframework==3.14.0 in /opt/conda/lib/python3.11/site-packages (from mercury) (3.14.0)\n",
      "Requirement already satisfied: django-filter==21.1 in /opt/conda/lib/python3.11/site-packages (from mercury) (21.1)\n",
      "Requirement already satisfied: markdown==3.3.6 in /opt/conda/lib/python3.11/site-packages (from mercury) (3.3.6)\n",
      "Requirement already satisfied: celery>=5.1.2 in /opt/conda/lib/python3.11/site-packages (from mercury) (5.5.2)\n",
      "Requirement already satisfied: sqlalchemy==1.4.27 in /opt/conda/lib/python3.11/site-packages (from mercury) (1.4.27)\n",
      "Requirement already satisfied: gevent in /opt/conda/lib/python3.11/site-packages (from mercury) (25.4.2)\n",
      "Requirement already satisfied: nbconvert>=7.8.0 in /opt/conda/lib/python3.11/site-packages (from mercury) (7.16.6)\n",
      "Requirement already satisfied: ipython_genutils in /opt/conda/lib/python3.11/site-packages (from mercury) (0.2.0)\n",
      "Requirement already satisfied: django-cors-headers==3.10.1 in /opt/conda/lib/python3.11/site-packages (from mercury) (3.10.1)\n",
      "Requirement already satisfied: ipython>=7.30.1 in /opt/conda/lib/python3.11/site-packages (from mercury) (8.31.0)\n",
      "Requirement already satisfied: ipykernel>=6.6.0 in /opt/conda/lib/python3.11/site-packages (from mercury) (6.29.5)\n",
      "Requirement already satisfied: psutil>=5.8.0 in /opt/conda/lib/python3.11/site-packages (from mercury) (5.9.8)\n",
      "Requirement already satisfied: whitenoise>=5.3.0 in /opt/conda/lib/python3.11/site-packages (from mercury) (6.9.0)\n",
      "Requirement already satisfied: python-dotenv>=0.19.2 in /opt/conda/lib/python3.11/site-packages (from mercury) (0.19.2)\n",
      "Requirement already satisfied: django-drf-filepond==0.4.1 in /opt/conda/lib/python3.11/site-packages (from mercury) (0.4.1)\n",
      "Requirement already satisfied: croniter>=1.3.5 in /opt/conda/lib/python3.11/site-packages (from mercury) (6.0.0)\n",
      "Requirement already satisfied: pyppeteer==1.0.2 in /opt/conda/lib/python3.11/site-packages (from mercury) (1.0.2)\n",
      "Requirement already satisfied: channels>=4.0.0 in /opt/conda/lib/python3.11/site-packages (from channels[daphne]>=4.0.0->mercury) (4.2.2)\n",
      "Requirement already satisfied: websocket-client>=1.4.2 in /opt/conda/lib/python3.11/site-packages (from mercury) (1.8.0)\n",
      "Requirement already satisfied: execnb in /opt/conda/lib/python3.11/site-packages (from mercury) (0.1.14)\n",
      "Requirement already satisfied: ipywidgets==8.0.3 in /opt/conda/lib/python3.11/site-packages (from mercury) (8.0.3)\n",
      "Requirement already satisfied: dj-rest-auth==3.0.0 in /opt/conda/lib/python3.11/site-packages (from dj-rest-auth[with_social]==3.0.0->mercury) (3.0.0)\n",
      "Requirement already satisfied: boto3==1.26.83 in /opt/conda/lib/python3.11/site-packages (from mercury) (1.26.83)\n",
      "Requirement already satisfied: cryptography in /opt/conda/lib/python3.11/site-packages (from mercury) (43.0.3)\n",
      "Requirement already satisfied: pyopenssl>=23.1.1 in /opt/conda/lib/python3.11/site-packages (from mercury) (25.0.0)\n",
      "Requirement already satisfied: bleach>=6.0.0 in /opt/conda/lib/python3.11/site-packages (from mercury) (6.2.0)\n",
      "Requirement already satisfied: itables>=2.0.0 in /opt/conda/lib/python3.11/site-packages (from mercury) (2.3.0)\n",
      "Requirement already satisfied: botocore<1.30.0,>=1.29.83 in /opt/conda/lib/python3.11/site-packages (from boto3==1.26.83->mercury) (1.29.165)\n",
      "Requirement already satisfied: jmespath<2.0.0,>=0.7.1 in /opt/conda/lib/python3.11/site-packages (from boto3==1.26.83->mercury) (1.0.1)\n",
      "Requirement already satisfied: s3transfer<0.7.0,>=0.6.0 in /opt/conda/lib/python3.11/site-packages (from boto3==1.26.83->mercury) (0.6.2)\n",
      "Requirement already satisfied: django-allauth<0.53.0,>=0.40.0 in /opt/conda/lib/python3.11/site-packages (from dj-rest-auth[with_social]==3.0.0->mercury) (0.52.0)\n",
      "Requirement already satisfied: asgiref<4,>=3.6.0 in /opt/conda/lib/python3.11/site-packages (from django==4.2.7->mercury) (3.8.1)\n",
      "Requirement already satisfied: sqlparse>=0.3.1 in /opt/conda/lib/python3.11/site-packages (from django==4.2.7->mercury) (0.5.3)\n",
      "Requirement already satisfied: requests>=2.20.1 in /opt/conda/lib/python3.11/site-packages (from django-drf-filepond==0.4.1->mercury) (2.32.3)\n",
      "Requirement already satisfied: six>=1.14.0 in /opt/conda/lib/python3.11/site-packages (from django-drf-filepond==0.4.1->mercury) (1.17.0)\n",
      "Requirement already satisfied: shortuuid>=0.5.0 in /opt/conda/lib/python3.11/site-packages (from django-drf-filepond==0.4.1->mercury) (1.0.13)\n",
      "Requirement already satisfied: django-storages>=1.9.1 in /opt/conda/lib/python3.11/site-packages (from django-drf-filepond==0.4.1->mercury) (1.14.6)\n",
      "Requirement already satisfied: pytz in /opt/conda/lib/python3.11/site-packages (from djangorestframework==3.14.0->mercury) (2024.2)\n",
      "Requirement already satisfied: traitlets>=4.3.1 in /opt/conda/lib/python3.11/site-packages (from ipywidgets==8.0.3->mercury) (5.14.3)\n",
      "Requirement already satisfied: widgetsnbextension~=4.0 in /opt/conda/lib/python3.11/site-packages (from ipywidgets==8.0.3->mercury) (4.0.14)\n",
      "Requirement already satisfied: jupyterlab-widgets~=3.0 in /opt/conda/lib/python3.11/site-packages (from ipywidgets==8.0.3->mercury) (3.0.14)\n",
      "Requirement already satisfied: appdirs<2.0.0,>=1.4.3 in /opt/conda/lib/python3.11/site-packages (from pyppeteer==1.0.2->mercury) (1.4.4)\n",
      "Requirement already satisfied: certifi>=2021 in /opt/conda/lib/python3.11/site-packages (from pyppeteer==1.0.2->mercury) (2024.12.14)\n",
      "Requirement already satisfied: importlib-metadata>=1.4 in /opt/conda/lib/python3.11/site-packages (from pyppeteer==1.0.2->mercury) (8.5.0)\n",
      "Requirement already satisfied: pyee<9.0.0,>=8.1.0 in /opt/conda/lib/python3.11/site-packages (from pyppeteer==1.0.2->mercury) (8.2.2)\n",
      "Requirement already satisfied: tqdm<5.0.0,>=4.42.1 in /opt/conda/lib/python3.11/site-packages (from pyppeteer==1.0.2->mercury) (4.67.1)\n",
      "Requirement already satisfied: urllib3<2.0.0,>=1.25.8 in /opt/conda/lib/python3.11/site-packages (from pyppeteer==1.0.2->mercury) (1.26.20)\n",
      "Requirement already satisfied: websockets<11.0,>=10.0 in /opt/conda/lib/python3.11/site-packages (from pyppeteer==1.0.2->mercury) (10.4)\n",
      "Requirement already satisfied: greenlet!=0.4.17 in /opt/conda/lib/python3.11/site-packages (from sqlalchemy==1.4.27->mercury) (3.2.1)\n",
      "Requirement already satisfied: webencodings in /opt/conda/lib/python3.11/site-packages (from bleach>=6.0.0->mercury) (0.5.1)\n",
      "Requirement already satisfied: billiard<5.0,>=4.2.1 in /opt/conda/lib/python3.11/site-packages (from celery>=5.1.2->mercury) (4.2.1)\n",
      "Requirement already satisfied: kombu<5.6,>=5.5.2 in /opt/conda/lib/python3.11/site-packages (from celery>=5.1.2->mercury) (5.5.3)\n",
      "Requirement already satisfied: vine<6.0,>=5.1.0 in /opt/conda/lib/python3.11/site-packages (from celery>=5.1.2->mercury) (5.1.0)\n",
      "Requirement already satisfied: click<9.0,>=8.1.2 in /opt/conda/lib/python3.11/site-packages (from celery>=5.1.2->mercury) (8.1.8)\n",
      "Requirement already satisfied: click-didyoumean>=0.3.0 in /opt/conda/lib/python3.11/site-packages (from celery>=5.1.2->mercury) (0.3.1)\n",
      "Requirement already satisfied: click-repl>=0.2.0 in /opt/conda/lib/python3.11/site-packages (from celery>=5.1.2->mercury) (0.3.0)\n",
      "Requirement already satisfied: click-plugins>=1.1.1 in /opt/conda/lib/python3.11/site-packages (from celery>=5.1.2->mercury) (1.1.1)\n",
      "Requirement already satisfied: python-dateutil>=2.8.2 in /opt/conda/lib/python3.11/site-packages (from celery>=5.1.2->mercury) (2.9.0.post0)\n",
      "Requirement already satisfied: daphne>=4.0.0 in /opt/conda/lib/python3.11/site-packages (from channels[daphne]>=4.0.0->mercury) (4.1.2)\n",
      "Requirement already satisfied: comm>=0.1.1 in /opt/conda/lib/python3.11/site-packages (from ipykernel>=6.6.0->mercury) (0.2.2)\n",
      "Requirement already satisfied: debugpy>=1.6.5 in /opt/conda/lib/python3.11/site-packages (from ipykernel>=6.6.0->mercury) (1.8.11)\n",
      "Requirement already satisfied: jupyter-client>=6.1.12 in /opt/conda/lib/python3.11/site-packages (from ipykernel>=6.6.0->mercury) (7.4.9)\n",
      "Requirement already satisfied: jupyter-core!=5.0.*,>=4.12 in /opt/conda/lib/python3.11/site-packages (from ipykernel>=6.6.0->mercury) (5.7.2)\n",
      "Requirement already satisfied: matplotlib-inline>=0.1 in /opt/conda/lib/python3.11/site-packages (from ipykernel>=6.6.0->mercury) (0.1.7)\n",
      "Requirement already satisfied: nest-asyncio in /opt/conda/lib/python3.11/site-packages (from ipykernel>=6.6.0->mercury) (1.6.0)\n",
      "Requirement already satisfied: packaging in /opt/conda/lib/python3.11/site-packages (from ipykernel>=6.6.0->mercury) (24.2)\n",
      "Requirement already satisfied: pyzmq>=24 in /opt/conda/lib/python3.11/site-packages (from ipykernel>=6.6.0->mercury) (26.2.0)\n",
      "Requirement already satisfied: tornado>=6.1 in /opt/conda/lib/python3.11/site-packages (from ipykernel>=6.6.0->mercury) (6.4.2)\n",
      "Requirement already satisfied: decorator in /opt/conda/lib/python3.11/site-packages (from ipython>=7.30.1->mercury) (5.1.1)\n",
      "Requirement already satisfied: jedi>=0.16 in /opt/conda/lib/python3.11/site-packages (from ipython>=7.30.1->mercury) (0.19.2)\n",
      "Requirement already satisfied: pexpect>4.3 in /opt/conda/lib/python3.11/site-packages (from ipython>=7.30.1->mercury) (4.9.0)\n",
      "Requirement already satisfied: prompt_toolkit<3.1.0,>=3.0.41 in /opt/conda/lib/python3.11/site-packages (from ipython>=7.30.1->mercury) (3.0.48)\n",
      "Requirement already satisfied: pygments>=2.4.0 in /opt/conda/lib/python3.11/site-packages (from ipython>=7.30.1->mercury) (2.19.1)\n",
      "Requirement already satisfied: stack_data in /opt/conda/lib/python3.11/site-packages (from ipython>=7.30.1->mercury) (0.6.3)\n",
      "Requirement already satisfied: typing_extensions>=4.6 in /opt/conda/lib/python3.11/site-packages (from ipython>=7.30.1->mercury) (4.12.2)\n",
      "Requirement already satisfied: numpy in /opt/conda/lib/python3.11/site-packages (from itables>=2.0.0->mercury) (1.24.4)\n",
      "Requirement already satisfied: pandas in /opt/conda/lib/python3.11/site-packages (from itables>=2.0.0->mercury) (1.5.3)\n",
      "Requirement already satisfied: beautifulsoup4 in /opt/conda/lib/python3.11/site-packages (from nbconvert>=7.8.0->mercury) (4.12.3)\n",
      "Requirement already satisfied: defusedxml in /opt/conda/lib/python3.11/site-packages (from nbconvert>=7.8.0->mercury) (0.7.1)\n",
      "Requirement already satisfied: jinja2>=3.0 in /opt/conda/lib/python3.11/site-packages (from nbconvert>=7.8.0->mercury) (3.1.5)\n",
      "Requirement already satisfied: jupyterlab-pygments in /opt/conda/lib/python3.11/site-packages (from nbconvert>=7.8.0->mercury) (0.3.0)\n",
      "Requirement already satisfied: markupsafe>=2.0 in /opt/conda/lib/python3.11/site-packages (from nbconvert>=7.8.0->mercury) (3.0.2)\n",
      "Requirement already satisfied: mistune<4,>=2.0.3 in /opt/conda/lib/python3.11/site-packages (from nbconvert>=7.8.0->mercury) (3.1.3)\n",
      "Requirement already satisfied: nbclient>=0.5.0 in /opt/conda/lib/python3.11/site-packages (from nbconvert>=7.8.0->mercury) (0.5.13)\n",
      "Requirement already satisfied: nbformat>=5.7 in /opt/conda/lib/python3.11/site-packages (from nbconvert>=7.8.0->mercury) (5.10.4)\n",
      "Requirement already satisfied: pandocfilters>=1.4.1 in /opt/conda/lib/python3.11/site-packages (from nbconvert>=7.8.0->mercury) (1.5.1)\n",
      "Requirement already satisfied: cffi>=1.12 in /opt/conda/lib/python3.11/site-packages (from cryptography->mercury) (1.17.1)\n",
      "Requirement already satisfied: fastcore>=1.5.5 in /opt/conda/lib/python3.11/site-packages (from execnb->mercury) (1.8.1)\n",
      "Requirement already satisfied: zope.event in /opt/conda/lib/python3.11/site-packages (from gevent->mercury) (5.0)\n",
      "Requirement already satisfied: zope.interface in /opt/conda/lib/python3.11/site-packages (from gevent->mercury) (7.2)\n",
      "Requirement already satisfied: tinycss2<1.5,>=1.1.0 in /opt/conda/lib/python3.11/site-packages (from bleach[css]!=5.0.0->nbconvert>=7.8.0->mercury) (1.4.0)\n",
      "Requirement already satisfied: pycparser in /opt/conda/lib/python3.11/site-packages (from cffi>=1.12->cryptography->mercury) (2.22)\n",
      "Requirement already satisfied: autobahn>=22.4.2 in /opt/conda/lib/python3.11/site-packages (from daphne>=4.0.0->channels[daphne]>=4.0.0->mercury) (24.4.2)\n",
      "Requirement already satisfied: twisted>=22.4 in /opt/conda/lib/python3.11/site-packages (from twisted[tls]>=22.4->daphne>=4.0.0->channels[daphne]>=4.0.0->mercury) (24.11.0)\n",
      "Requirement already satisfied: python3-openid>=3.0.8 in /opt/conda/lib/python3.11/site-packages (from django-allauth<0.53.0,>=0.40.0->dj-rest-auth[with_social]==3.0.0->mercury) (3.2.0)\n",
      "Requirement already satisfied: requests-oauthlib>=0.3.0 in /opt/conda/lib/python3.11/site-packages (from django-allauth<0.53.0,>=0.40.0->dj-rest-auth[with_social]==3.0.0->mercury) (2.0.0)\n",
      "Requirement already satisfied: pyjwt>=1.7 in /opt/conda/lib/python3.11/site-packages (from pyjwt[crypto]>=1.7->django-allauth<0.53.0,>=0.40.0->dj-rest-auth[with_social]==3.0.0->mercury) (2.9.0)\n",
      "Requirement already satisfied: zipp>=3.20 in /opt/conda/lib/python3.11/site-packages (from importlib-metadata>=1.4->pyppeteer==1.0.2->mercury) (3.21.0)\n",
      "Requirement already satisfied: parso<0.9.0,>=0.8.4 in /opt/conda/lib/python3.11/site-packages (from jedi>=0.16->ipython>=7.30.1->mercury) (0.8.4)\n",
      "Requirement already satisfied: entrypoints in /opt/conda/lib/python3.11/site-packages (from jupyter-client>=6.1.12->ipykernel>=6.6.0->mercury) (0.4)\n",
      "Requirement already satisfied: platformdirs>=2.5 in /opt/conda/lib/python3.11/site-packages (from jupyter-core!=5.0.*,>=4.12->ipykernel>=6.6.0->mercury) (4.3.6)\n",
      "Requirement already satisfied: amqp<6.0.0,>=5.1.1 in /opt/conda/lib/python3.11/site-packages (from kombu<5.6,>=5.5.2->celery>=5.1.2->mercury) (5.3.1)\n",
      "Requirement already satisfied: tzdata>=2025.2 in /opt/conda/lib/python3.11/site-packages (from kombu<5.6,>=5.5.2->celery>=5.1.2->mercury) (2025.2)\n",
      "Requirement already satisfied: fastjsonschema>=2.15 in /opt/conda/lib/python3.11/site-packages (from nbformat>=5.7->nbconvert>=7.8.0->mercury) (2.21.1)\n",
      "Requirement already satisfied: jsonschema>=2.6 in /opt/conda/lib/python3.11/site-packages (from nbformat>=5.7->nbconvert>=7.8.0->mercury) (4.23.0)\n",
      "Requirement already satisfied: ptyprocess>=0.5 in /opt/conda/lib/python3.11/site-packages (from pexpect>4.3->ipython>=7.30.1->mercury) (0.7.0)\n",
      "Requirement already satisfied: wcwidth in /opt/conda/lib/python3.11/site-packages (from prompt_toolkit<3.1.0,>=3.0.41->ipython>=7.30.1->mercury) (0.2.13)\n",
      "Requirement already satisfied: charset-normalizer<4,>=2 in /opt/conda/lib/python3.11/site-packages (from requests>=2.20.1->django-drf-filepond==0.4.1->mercury) (3.4.1)\n",
      "Requirement already satisfied: idna<4,>=2.5 in /opt/conda/lib/python3.11/site-packages (from requests>=2.20.1->django-drf-filepond==0.4.1->mercury) (3.10)\n",
      "Requirement already satisfied: soupsieve>1.2 in /opt/conda/lib/python3.11/site-packages (from beautifulsoup4->nbconvert>=7.8.0->mercury) (2.6)\n",
      "Requirement already satisfied: executing>=1.2.0 in /opt/conda/lib/python3.11/site-packages (from stack_data->ipython>=7.30.1->mercury) (2.1.0)\n",
      "Requirement already satisfied: asttokens>=2.1.0 in /opt/conda/lib/python3.11/site-packages (from stack_data->ipython>=7.30.1->mercury) (3.0.0)\n",
      "Requirement already satisfied: pure-eval in /opt/conda/lib/python3.11/site-packages (from stack_data->ipython>=7.30.1->mercury) (0.2.3)\n",
      "Requirement already satisfied: setuptools in /opt/conda/lib/python3.11/site-packages (from zope.event->gevent->mercury) (68.2.2)\n",
      "Requirement already satisfied: txaio>=21.2.1 in /opt/conda/lib/python3.11/site-packages (from autobahn>=22.4.2->daphne>=4.0.0->channels[daphne]>=4.0.0->mercury) (23.1.1)\n",
      "Requirement already satisfied: hyperlink>=21.0.0 in /opt/conda/lib/python3.11/site-packages (from autobahn>=22.4.2->daphne>=4.0.0->channels[daphne]>=4.0.0->mercury) (21.0.0)\n",
      "Requirement already satisfied: attrs>=22.2.0 in /opt/conda/lib/python3.11/site-packages (from jsonschema>=2.6->nbformat>=5.7->nbconvert>=7.8.0->mercury) (24.3.0)\n",
      "Requirement already satisfied: jsonschema-specifications>=2023.03.6 in /opt/conda/lib/python3.11/site-packages (from jsonschema>=2.6->nbformat>=5.7->nbconvert>=7.8.0->mercury) (2024.10.1)\n",
      "Requirement already satisfied: referencing>=0.28.4 in /opt/conda/lib/python3.11/site-packages (from jsonschema>=2.6->nbformat>=5.7->nbconvert>=7.8.0->mercury) (0.35.1)\n",
      "Requirement already satisfied: rpds-py>=0.7.1 in /opt/conda/lib/python3.11/site-packages (from jsonschema>=2.6->nbformat>=5.7->nbconvert>=7.8.0->mercury) (0.22.3)\n",
      "Requirement already satisfied: oauthlib>=3.0.0 in /opt/conda/lib/python3.11/site-packages (from requests-oauthlib>=0.3.0->django-allauth<0.53.0,>=0.40.0->dj-rest-auth[with_social]==3.0.0->mercury) (3.2.2)\n",
      "Requirement already satisfied: automat>=24.8.0 in /opt/conda/lib/python3.11/site-packages (from twisted>=22.4->twisted[tls]>=22.4->daphne>=4.0.0->channels[daphne]>=4.0.0->mercury) (25.4.16)\n",
      "Requirement already satisfied: constantly>=15.1 in /opt/conda/lib/python3.11/site-packages (from twisted>=22.4->twisted[tls]>=22.4->daphne>=4.0.0->channels[daphne]>=4.0.0->mercury) (23.10.4)\n",
      "Requirement already satisfied: incremental>=24.7.0 in /opt/conda/lib/python3.11/site-packages (from twisted>=22.4->twisted[tls]>=22.4->daphne>=4.0.0->channels[daphne]>=4.0.0->mercury) (24.7.2)\n",
      "Requirement already satisfied: service-identity>=18.1.0 in /opt/conda/lib/python3.11/site-packages (from twisted[tls]>=22.4->daphne>=4.0.0->channels[daphne]>=4.0.0->mercury) (24.2.0)\n",
      "Requirement already satisfied: pyasn1 in /opt/conda/lib/python3.11/site-packages (from service-identity>=18.1.0->twisted[tls]>=22.4->daphne>=4.0.0->channels[daphne]>=4.0.0->mercury) (0.6.1)\n",
      "Requirement already satisfied: pyasn1-modules in /opt/conda/lib/python3.11/site-packages (from service-identity>=18.1.0->twisted[tls]>=22.4->daphne>=4.0.0->channels[daphne]>=4.0.0->mercury) (0.4.1)\n",
      "Note: you may need to restart the kernel to use updated packages.\n"
     ]
    }
   ],
   "source": [
    "pip install mercury"
   ]
  },
  {
   "cell_type": "code",
   "execution_count": 21,
   "id": "540f5cb6-406c-4f04-a5a5-b66a8eb7a7ad",
   "metadata": {
    "tags": []
   },
   "outputs": [],
   "source": [
    "import mercury as mr"
   ]
  },
  {
   "cell_type": "code",
   "execution_count": 22,
   "id": "72570bea-5f40-44ed-aaf5-1fe21cd8c84b",
   "metadata": {
    "tags": []
   },
   "outputs": [
    {
     "data": {
      "application/mercury+json": "{\n    \"widget\": \"Text\",\n    \"value\": \"Piotr\",\n    \"sanitize\": true,\n    \"rows\": 1,\n    \"label\": \"What is your name?\",\n    \"model_id\": \"9d6bde8b18bb43859aeed8fb54d1de57\",\n    \"code_uid\": \"Text.0.50.78.1-rand5ffd51ab\",\n    \"url_key\": \"\",\n    \"disabled\": false,\n    \"hidden\": false\n}",
      "application/vnd.jupyter.widget-view+json": {
       "model_id": "9d6bde8b18bb43859aeed8fb54d1de57",
       "version_major": 2,
       "version_minor": 0
      },
      "text/plain": [
       "mercury.Text"
      ]
     },
     "metadata": {},
     "output_type": "display_data"
    }
   ],
   "source": [
    "name = mr.Text(value=\"Piotr\", label=\"What is your name?\")"
   ]
  },
  {
   "cell_type": "code",
   "execution_count": null,
   "id": "0ccaf8a5-62ec-4869-987b-8909cde73843",
   "metadata": {},
   "outputs": [],
   "source": []
  }
 ],
 "metadata": {
  "kernelspec": {
   "display_name": "Python 3 (ipykernel)",
   "language": "python",
   "name": "python3"
  },
  "language_info": {
   "codemirror_mode": {
    "name": "ipython",
    "version": 3
   },
   "file_extension": ".py",
   "mimetype": "text/x-python",
   "name": "python",
   "nbconvert_exporter": "python",
   "pygments_lexer": "ipython3",
   "version": "3.11.10"
  }
 },
 "nbformat": 4,
 "nbformat_minor": 5
}
