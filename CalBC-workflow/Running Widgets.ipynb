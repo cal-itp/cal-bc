{
 "cells": [
  {
   "cell_type": "code",
   "execution_count": null,
   "id": "34b66765-bce8-489e-aabc-9469821f7dd4",
   "metadata": {},
   "outputs": [],
   "source": []
  },
  {
   "cell_type": "code",
   "execution_count": 1,
   "id": "a0c45d9b-e6da-4225-b096-b88f36a8cc9f",
   "metadata": {
    "tags": []
   },
   "outputs": [],
   "source": [
    "from parameters import parameters"
   ]
  },
  {
   "cell_type": "code",
   "execution_count": 2,
   "id": "381b75f0-4e12-484f-b8cb-fd04797f2428",
   "metadata": {
    "tags": []
   },
   "outputs": [],
   "source": [
    "params = parameters()"
   ]
  },
  {
   "cell_type": "code",
   "execution_count": 3,
   "id": "91d47342-72ad-4e7d-92ab-ad9a00da7a8f",
   "metadata": {
    "tags": []
   },
   "outputs": [
    {
     "data": {
      "application/vnd.jupyter.widget-view+json": {
       "model_id": "b54551b1537e4b71bd95c32dd701fcb9",
       "version_major": 2,
       "version_minor": 0
      },
      "text/plain": [
       "VBox(children=(VBox(children=(VBox(children=(HTML(value=\"<b style='color: darkblue;'>Project Data</b>\"), HTML(…"
      ]
     },
     "metadata": {},
     "output_type": "display_data"
    }
   ],
   "source": [
    "# Import necessary functions from the project_inputs.py file\n",
    "import projectinfo_widgets\n",
    "from projectinfo_widgets import create_project_info_widgets, get_inputs\n",
    "create_project_info_widgets()"
   ]
  },
  {
   "cell_type": "code",
   "execution_count": 4,
   "id": "71ff177e-ddff-4b89-a67f-d36fec823e43",
   "metadata": {
    "tags": []
   },
   "outputs": [],
   "source": [
    "projectinfo_widgets.subcategory_dropdown.value"
   ]
  },
  {
   "cell_type": "code",
   "execution_count": 5,
   "id": "6e3538d0-fc5a-4dad-81e8-6ba44f1cb19b",
   "metadata": {
    "tags": []
   },
   "outputs": [
    {
     "data": {
      "application/vnd.jupyter.widget-view+json": {
       "model_id": "fb732dc44d464dca90d1a027336b31b1",
       "version_major": 2,
       "version_minor": 0
      },
      "text/plain": [
       "VBox(children=(VBox(children=(HTML(value=\"<b style='color: darkblue;'>\\nHighway Speed and Volume Inputs (No Bu…"
      ]
     },
     "metadata": {},
     "output_type": "display_data"
    }
   ],
   "source": [
    "import modelinputs_widgets \n",
    "from modelinputs_widgets import create_new_widgets\n",
    "create_modelinputs_widgets()"
   ]
  },
  {
   "cell_type": "code",
   "execution_count": 6,
   "id": "61606e0d-5f1a-4842-9b50-58c4227bafda",
   "metadata": {
    "tags": []
   },
   "outputs": [
    {
     "data": {
      "application/vnd.jupyter.widget-view+json": {
       "model_id": "faa54820184a43eebaf7a1c2da6004bf",
       "version_major": 2,
       "version_minor": 0
      },
      "text/plain": [
       "VBox(children=(FloatText(value=1000000.0, description='Total Cost ($):', layout=Layout(border='2px solid gray'…"
      ]
     },
     "metadata": {},
     "output_type": "display_data"
    }
   ],
   "source": [
    "import travel_time"
   ]
  }
 ],
 "metadata": {
  "kernelspec": {
   "display_name": "Python 3 (ipykernel)",
   "language": "python",
   "name": "python3"
  },
  "language_info": {
   "codemirror_mode": {
    "name": "ipython",
    "version": 3
   },
   "file_extension": ".py",
   "mimetype": "text/x-python",
   "name": "python",
   "nbconvert_exporter": "python",
   "pygments_lexer": "ipython3",
   "version": "3.11.10"
  }
 },
 "nbformat": 4,
 "nbformat_minor": 5
}
