{
 "cells": [
  {
   "cell_type": "code",
   "execution_count": 1,
   "id": "a0c45d9b-e6da-4225-b096-b88f36a8cc9f",
   "metadata": {
    "tags": []
   },
   "outputs": [],
   "source": [
    "from parameters import parameters"
   ]
  },
  {
   "cell_type": "code",
   "execution_count": 2,
   "id": "381b75f0-4e12-484f-b8cb-fd04797f2428",
   "metadata": {
    "tags": []
   },
   "outputs": [],
   "source": [
    "params = parameters()"
   ]
  },
  {
   "cell_type": "code",
   "execution_count": 3,
   "id": "91d47342-72ad-4e7d-92ab-ad9a00da7a8f",
   "metadata": {
    "tags": []
   },
   "outputs": [
    {
     "data": {
      "application/vnd.jupyter.widget-view+json": {
       "model_id": "37e5f09f45304a2a8243628aaa1fcb5f",
       "version_major": 2,
       "version_minor": 0
      },
      "text/plain": [
       "VBox(children=(VBox(children=(VBox(children=(HTML(value=\"<b style='color: darkblue;'>Project Data</b>\"), HTML(…"
      ]
     },
     "metadata": {},
     "output_type": "display_data"
    }
   ],
   "source": [
    "# Import necessary functions from the project_inputs.py file\n",
    "import projectinfo_widgets\n",
    "from projectinfo_widgets import create_project_info_widgets, get_inputs\n",
    "create_project_info_widgets()"
   ]
  },
  {
   "cell_type": "code",
   "execution_count": 4,
   "id": "71ff177e-ddff-4b89-a67f-d36fec823e43",
   "metadata": {
    "tags": []
   },
   "outputs": [],
   "source": [
    "projectinfo_widgets.subcategory_dropdown.value"
   ]
  },
  {
   "cell_type": "code",
   "execution_count": 5,
   "id": "6e3538d0-fc5a-4dad-81e8-6ba44f1cb19b",
   "metadata": {},
   "outputs": [
    {
     "data": {
      "application/vnd.jupyter.widget-view+json": {
       "model_id": "5b1053c24f8c48cda2fd1efc62515faa",
       "version_major": 2,
       "version_minor": 0
      },
      "text/plain": [
       "VBox(children=(VBox(children=(HTML(value=\"<b style='color: darkblue;'>\\nHighway Speed and Volume Inputs (No Bu…"
      ]
     },
     "metadata": {},
     "output_type": "display_data"
    }
   ],
   "source": [
    "import modelinputs_widgets \n",
    "from modelinputs_widgets import create_new_widgets\n",
    "create_new_widgets()"
   ]
  },
  {
   "cell_type": "code",
   "execution_count": 6,
   "id": "4d5faeb3-73cf-4e50-a32b-c4b131bf1abd",
   "metadata": {
    "tags": []
   },
   "outputs": [],
   "source": [
    "# from travel_time import calculate_average_volumes_highway, calculate_average_speeds_highway, update_combined_results, calculate_trend_for_variables, generate_trends_from_dataframe, calculate_person_trips_highway, calculate_average_travel_time, traveltime_benefit, add_dollar_calculated_column, add_discounted_value_column, sum_present_value_by_year,  calculate_benefit_cost_ratio, update_bcr   "
   ]
  },
  {
   "cell_type": "code",
   "execution_count": 7,
   "id": "72ca71dc-e1c7-42a8-b1ac-9084070c4f5b",
   "metadata": {
    "tags": []
   },
   "outputs": [],
   "source": [
    "# variable_names = ['Avg_Vol_NoBuild', 'Avg_Vol_Build', 'Avg_Speed_NoBuild', 'Avg_Speed_Build']"
   ]
  },
  {
   "cell_type": "code",
   "execution_count": 8,
   "id": "49b535a6-a220-46cc-a77e-34cd45729058",
   "metadata": {
    "tags": []
   },
   "outputs": [],
   "source": [
    "# AnnualFactor = params.AnnualFactor"
   ]
  },
  {
   "cell_type": "code",
   "execution_count": 9,
   "id": "d32ab0e7-de7a-4819-bf68-40deed81480f",
   "metadata": {
    "tags": []
   },
   "outputs": [],
   "source": [
    "# total_cost = 136653989 "
   ]
  },
  {
   "cell_type": "code",
   "execution_count": 10,
   "id": "d8a6636a-4aea-4582-8108-e5a79a62a989",
   "metadata": {},
   "outputs": [],
   "source": [
    "# average_volumes_highway = calculate_average_volumes_highway(AnnualFactor)\n",
    "# average_speeds_highway = calculate_average_speeds_highway(AnnualFactor)\n",
    "# df_combined = update_combined_results()\n",
    "# final_trend_df = generate_trends_from_dataframe(df_combined, variable_names)  \n",
    "# final_trend_df = calculate_person_trips_highway(final_trend_df)\n",
    "# final_trend_df = calculate_average_travel_time(final_trend_df)\n",
    "# final_trend_df = traveltime_benefit(final_trend_df)\n",
    "# final_trend_df = add_dollar_calculated_column(final_trend_df)\n",
    "# final_trend_df = add_discounted_value_column(final_trend_df, value_column_name='Constant Dollar', output_column_name='Present Value')\n",
    "# sum_by_year_df = sum_present_value_by_year(final_trend_df)\n",
    "# BCR = calculate_benefit_cost_ratio(sum_by_year_df, total_cost)"
   ]
  },
  {
   "cell_type": "code",
   "execution_count": 11,
   "id": "d4a2b47f-fcb0-45f1-a635-da26f8b72308",
   "metadata": {
    "tags": []
   },
   "outputs": [],
   "source": [
    "# BCR = calculate_benefit_cost_ratio(sum_by_year_df, total_cost)"
   ]
  },
  {
   "cell_type": "code",
   "execution_count": 12,
   "id": "a397825a-fdc0-4c0d-81ca-266e0eafb3df",
   "metadata": {
    "tags": []
   },
   "outputs": [],
   "source": [
    "# BCR"
   ]
  },
  {
   "cell_type": "code",
   "execution_count": null,
   "id": "0ccaf8a5-62ec-4869-987b-8909cde73843",
   "metadata": {},
   "outputs": [],
   "source": []
  }
 ],
 "metadata": {
  "kernelspec": {
   "display_name": "Python 3 (ipykernel)",
   "language": "python",
   "name": "python3"
  },
  "language_info": {
   "codemirror_mode": {
    "name": "ipython",
    "version": 3
   },
   "file_extension": ".py",
   "mimetype": "text/x-python",
   "name": "python",
   "nbconvert_exporter": "python",
   "pygments_lexer": "ipython3",
   "version": "3.11.10"
  }
 },
 "nbformat": 4,
 "nbformat_minor": 5
}
