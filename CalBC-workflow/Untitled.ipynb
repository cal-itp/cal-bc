{
 "cells": [
  {
   "cell_type": "code",
   "execution_count": 1,
   "id": "8f9df058-37fb-45c5-b3db-d5a65853691a",
   "metadata": {
    "tags": []
   },
   "outputs": [
    {
     "name": "stdout",
     "output_type": "stream",
     "text": [
      "Requirement already satisfied: mercury in /opt/conda/lib/python3.11/site-packages (2.4.3)\n",
      "Requirement already satisfied: django==4.2.7 in /opt/conda/lib/python3.11/site-packages (from mercury) (4.2.7)\n",
      "Requirement already satisfied: djangorestframework==3.14.0 in /opt/conda/lib/python3.11/site-packages (from mercury) (3.14.0)\n",
      "Requirement already satisfied: django-filter==21.1 in /opt/conda/lib/python3.11/site-packages (from mercury) (21.1)\n",
      "Requirement already satisfied: markdown==3.3.6 in /opt/conda/lib/python3.11/site-packages (from mercury) (3.3.6)\n",
      "Requirement already satisfied: celery>=5.1.2 in /opt/conda/lib/python3.11/site-packages (from mercury) (5.5.2)\n",
      "Requirement already satisfied: sqlalchemy==1.4.27 in /opt/conda/lib/python3.11/site-packages (from mercury) (1.4.27)\n",
      "Requirement already satisfied: gevent in /opt/conda/lib/python3.11/site-packages (from mercury) (25.4.2)\n",
      "Requirement already satisfied: nbconvert>=7.8.0 in /opt/conda/lib/python3.11/site-packages (from mercury) (7.16.6)\n",
      "Requirement already satisfied: ipython_genutils in /opt/conda/lib/python3.11/site-packages (from mercury) (0.2.0)\n",
      "Requirement already satisfied: django-cors-headers==3.10.1 in /opt/conda/lib/python3.11/site-packages (from mercury) (3.10.1)\n",
      "Requirement already satisfied: ipython>=7.30.1 in /opt/conda/lib/python3.11/site-packages (from mercury) (8.31.0)\n",
      "Requirement already satisfied: ipykernel>=6.6.0 in /opt/conda/lib/python3.11/site-packages (from mercury) (6.29.5)\n",
      "Requirement already satisfied: psutil>=5.8.0 in /opt/conda/lib/python3.11/site-packages (from mercury) (5.9.8)\n",
      "Requirement already satisfied: whitenoise>=5.3.0 in /opt/conda/lib/python3.11/site-packages (from mercury) (6.9.0)\n",
      "Requirement already satisfied: python-dotenv>=0.19.2 in /opt/conda/lib/python3.11/site-packages (from mercury) (0.19.2)\n",
      "Requirement already satisfied: django-drf-filepond==0.4.1 in /opt/conda/lib/python3.11/site-packages (from mercury) (0.4.1)\n",
      "Requirement already satisfied: croniter>=1.3.5 in /opt/conda/lib/python3.11/site-packages (from mercury) (6.0.0)\n",
      "Requirement already satisfied: pyppeteer==1.0.2 in /opt/conda/lib/python3.11/site-packages (from mercury) (1.0.2)\n",
      "Requirement already satisfied: channels>=4.0.0 in /opt/conda/lib/python3.11/site-packages (from channels[daphne]>=4.0.0->mercury) (4.2.2)\n",
      "Requirement already satisfied: websocket-client>=1.4.2 in /opt/conda/lib/python3.11/site-packages (from mercury) (1.8.0)\n",
      "Requirement already satisfied: execnb in /opt/conda/lib/python3.11/site-packages (from mercury) (0.1.14)\n",
      "Requirement already satisfied: ipywidgets==8.0.3 in /opt/conda/lib/python3.11/site-packages (from mercury) (8.0.3)\n",
      "Requirement already satisfied: dj-rest-auth==3.0.0 in /opt/conda/lib/python3.11/site-packages (from dj-rest-auth[with_social]==3.0.0->mercury) (3.0.0)\n",
      "Requirement already satisfied: boto3==1.26.83 in /opt/conda/lib/python3.11/site-packages (from mercury) (1.26.83)\n",
      "Requirement already satisfied: cryptography in /opt/conda/lib/python3.11/site-packages (from mercury) (43.0.3)\n",
      "Requirement already satisfied: pyopenssl>=23.1.1 in /opt/conda/lib/python3.11/site-packages (from mercury) (25.0.0)\n",
      "Requirement already satisfied: bleach>=6.0.0 in /opt/conda/lib/python3.11/site-packages (from mercury) (6.2.0)\n",
      "Requirement already satisfied: itables>=2.0.0 in /opt/conda/lib/python3.11/site-packages (from mercury) (2.3.0)\n",
      "Requirement already satisfied: botocore<1.30.0,>=1.29.83 in /opt/conda/lib/python3.11/site-packages (from boto3==1.26.83->mercury) (1.29.165)\n",
      "Requirement already satisfied: jmespath<2.0.0,>=0.7.1 in /opt/conda/lib/python3.11/site-packages (from boto3==1.26.83->mercury) (1.0.1)\n",
      "Requirement already satisfied: s3transfer<0.7.0,>=0.6.0 in /opt/conda/lib/python3.11/site-packages (from boto3==1.26.83->mercury) (0.6.2)\n",
      "Requirement already satisfied: django-allauth<0.53.0,>=0.40.0 in /opt/conda/lib/python3.11/site-packages (from dj-rest-auth[with_social]==3.0.0->mercury) (0.52.0)\n",
      "Requirement already satisfied: asgiref<4,>=3.6.0 in /opt/conda/lib/python3.11/site-packages (from django==4.2.7->mercury) (3.8.1)\n",
      "Requirement already satisfied: sqlparse>=0.3.1 in /opt/conda/lib/python3.11/site-packages (from django==4.2.7->mercury) (0.5.3)\n",
      "Requirement already satisfied: requests>=2.20.1 in /opt/conda/lib/python3.11/site-packages (from django-drf-filepond==0.4.1->mercury) (2.32.3)\n",
      "Requirement already satisfied: six>=1.14.0 in /opt/conda/lib/python3.11/site-packages (from django-drf-filepond==0.4.1->mercury) (1.17.0)\n",
      "Requirement already satisfied: shortuuid>=0.5.0 in /opt/conda/lib/python3.11/site-packages (from django-drf-filepond==0.4.1->mercury) (1.0.13)\n",
      "Requirement already satisfied: django-storages>=1.9.1 in /opt/conda/lib/python3.11/site-packages (from django-drf-filepond==0.4.1->mercury) (1.14.6)\n",
      "Requirement already satisfied: pytz in /opt/conda/lib/python3.11/site-packages (from djangorestframework==3.14.0->mercury) (2024.2)\n",
      "Requirement already satisfied: traitlets>=4.3.1 in /opt/conda/lib/python3.11/site-packages (from ipywidgets==8.0.3->mercury) (5.14.3)\n",
      "Requirement already satisfied: widgetsnbextension~=4.0 in /opt/conda/lib/python3.11/site-packages (from ipywidgets==8.0.3->mercury) (4.0.14)\n",
      "Requirement already satisfied: jupyterlab-widgets~=3.0 in /opt/conda/lib/python3.11/site-packages (from ipywidgets==8.0.3->mercury) (3.0.14)\n",
      "Requirement already satisfied: appdirs<2.0.0,>=1.4.3 in /opt/conda/lib/python3.11/site-packages (from pyppeteer==1.0.2->mercury) (1.4.4)\n",
      "Requirement already satisfied: certifi>=2021 in /opt/conda/lib/python3.11/site-packages (from pyppeteer==1.0.2->mercury) (2024.12.14)\n",
      "Requirement already satisfied: importlib-metadata>=1.4 in /opt/conda/lib/python3.11/site-packages (from pyppeteer==1.0.2->mercury) (8.5.0)\n",
      "Requirement already satisfied: pyee<9.0.0,>=8.1.0 in /opt/conda/lib/python3.11/site-packages (from pyppeteer==1.0.2->mercury) (8.2.2)\n",
      "Requirement already satisfied: tqdm<5.0.0,>=4.42.1 in /opt/conda/lib/python3.11/site-packages (from pyppeteer==1.0.2->mercury) (4.67.1)\n",
      "Requirement already satisfied: urllib3<2.0.0,>=1.25.8 in /opt/conda/lib/python3.11/site-packages (from pyppeteer==1.0.2->mercury) (1.26.20)\n",
      "Requirement already satisfied: websockets<11.0,>=10.0 in /opt/conda/lib/python3.11/site-packages (from pyppeteer==1.0.2->mercury) (10.4)\n",
      "Requirement already satisfied: greenlet!=0.4.17 in /opt/conda/lib/python3.11/site-packages (from sqlalchemy==1.4.27->mercury) (3.2.1)\n",
      "Requirement already satisfied: webencodings in /opt/conda/lib/python3.11/site-packages (from bleach>=6.0.0->mercury) (0.5.1)\n",
      "Requirement already satisfied: billiard<5.0,>=4.2.1 in /opt/conda/lib/python3.11/site-packages (from celery>=5.1.2->mercury) (4.2.1)\n",
      "Requirement already satisfied: kombu<5.6,>=5.5.2 in /opt/conda/lib/python3.11/site-packages (from celery>=5.1.2->mercury) (5.5.3)\n",
      "Requirement already satisfied: vine<6.0,>=5.1.0 in /opt/conda/lib/python3.11/site-packages (from celery>=5.1.2->mercury) (5.1.0)\n",
      "Requirement already satisfied: click<9.0,>=8.1.2 in /opt/conda/lib/python3.11/site-packages (from celery>=5.1.2->mercury) (8.1.8)\n",
      "Requirement already satisfied: click-didyoumean>=0.3.0 in /opt/conda/lib/python3.11/site-packages (from celery>=5.1.2->mercury) (0.3.1)\n",
      "Requirement already satisfied: click-repl>=0.2.0 in /opt/conda/lib/python3.11/site-packages (from celery>=5.1.2->mercury) (0.3.0)\n",
      "Requirement already satisfied: click-plugins>=1.1.1 in /opt/conda/lib/python3.11/site-packages (from celery>=5.1.2->mercury) (1.1.1)\n",
      "Requirement already satisfied: python-dateutil>=2.8.2 in /opt/conda/lib/python3.11/site-packages (from celery>=5.1.2->mercury) (2.9.0.post0)\n",
      "Requirement already satisfied: daphne>=4.0.0 in /opt/conda/lib/python3.11/site-packages (from channels[daphne]>=4.0.0->mercury) (4.1.2)\n",
      "Requirement already satisfied: comm>=0.1.1 in /opt/conda/lib/python3.11/site-packages (from ipykernel>=6.6.0->mercury) (0.2.2)\n",
      "Requirement already satisfied: debugpy>=1.6.5 in /opt/conda/lib/python3.11/site-packages (from ipykernel>=6.6.0->mercury) (1.8.11)\n",
      "Requirement already satisfied: jupyter-client>=6.1.12 in /opt/conda/lib/python3.11/site-packages (from ipykernel>=6.6.0->mercury) (7.4.9)\n",
      "Requirement already satisfied: jupyter-core!=5.0.*,>=4.12 in /opt/conda/lib/python3.11/site-packages (from ipykernel>=6.6.0->mercury) (5.7.2)\n",
      "Requirement already satisfied: matplotlib-inline>=0.1 in /opt/conda/lib/python3.11/site-packages (from ipykernel>=6.6.0->mercury) (0.1.7)\n",
      "Requirement already satisfied: nest-asyncio in /opt/conda/lib/python3.11/site-packages (from ipykernel>=6.6.0->mercury) (1.6.0)\n",
      "Requirement already satisfied: packaging in /opt/conda/lib/python3.11/site-packages (from ipykernel>=6.6.0->mercury) (24.2)\n",
      "Requirement already satisfied: pyzmq>=24 in /opt/conda/lib/python3.11/site-packages (from ipykernel>=6.6.0->mercury) (26.2.0)\n",
      "Requirement already satisfied: tornado>=6.1 in /opt/conda/lib/python3.11/site-packages (from ipykernel>=6.6.0->mercury) (6.4.2)\n",
      "Requirement already satisfied: decorator in /opt/conda/lib/python3.11/site-packages (from ipython>=7.30.1->mercury) (5.1.1)\n",
      "Requirement already satisfied: jedi>=0.16 in /opt/conda/lib/python3.11/site-packages (from ipython>=7.30.1->mercury) (0.19.2)\n",
      "Requirement already satisfied: pexpect>4.3 in /opt/conda/lib/python3.11/site-packages (from ipython>=7.30.1->mercury) (4.9.0)\n",
      "Requirement already satisfied: prompt_toolkit<3.1.0,>=3.0.41 in /opt/conda/lib/python3.11/site-packages (from ipython>=7.30.1->mercury) (3.0.48)\n",
      "Requirement already satisfied: pygments>=2.4.0 in /opt/conda/lib/python3.11/site-packages (from ipython>=7.30.1->mercury) (2.19.1)\n",
      "Requirement already satisfied: stack_data in /opt/conda/lib/python3.11/site-packages (from ipython>=7.30.1->mercury) (0.6.3)\n",
      "Requirement already satisfied: typing_extensions>=4.6 in /opt/conda/lib/python3.11/site-packages (from ipython>=7.30.1->mercury) (4.12.2)\n",
      "Requirement already satisfied: numpy in /opt/conda/lib/python3.11/site-packages (from itables>=2.0.0->mercury) (1.24.4)\n",
      "Requirement already satisfied: pandas in /opt/conda/lib/python3.11/site-packages (from itables>=2.0.0->mercury) (1.5.3)\n",
      "Requirement already satisfied: beautifulsoup4 in /opt/conda/lib/python3.11/site-packages (from nbconvert>=7.8.0->mercury) (4.12.3)\n",
      "Requirement already satisfied: defusedxml in /opt/conda/lib/python3.11/site-packages (from nbconvert>=7.8.0->mercury) (0.7.1)\n",
      "Requirement already satisfied: jinja2>=3.0 in /opt/conda/lib/python3.11/site-packages (from nbconvert>=7.8.0->mercury) (3.1.5)\n",
      "Requirement already satisfied: jupyterlab-pygments in /opt/conda/lib/python3.11/site-packages (from nbconvert>=7.8.0->mercury) (0.3.0)\n",
      "Requirement already satisfied: markupsafe>=2.0 in /opt/conda/lib/python3.11/site-packages (from nbconvert>=7.8.0->mercury) (3.0.2)\n",
      "Requirement already satisfied: mistune<4,>=2.0.3 in /opt/conda/lib/python3.11/site-packages (from nbconvert>=7.8.0->mercury) (3.1.3)\n",
      "Requirement already satisfied: nbclient>=0.5.0 in /opt/conda/lib/python3.11/site-packages (from nbconvert>=7.8.0->mercury) (0.5.13)\n",
      "Requirement already satisfied: nbformat>=5.7 in /opt/conda/lib/python3.11/site-packages (from nbconvert>=7.8.0->mercury) (5.10.4)\n",
      "Requirement already satisfied: pandocfilters>=1.4.1 in /opt/conda/lib/python3.11/site-packages (from nbconvert>=7.8.0->mercury) (1.5.1)\n",
      "Requirement already satisfied: cffi>=1.12 in /opt/conda/lib/python3.11/site-packages (from cryptography->mercury) (1.17.1)\n",
      "Requirement already satisfied: fastcore>=1.5.5 in /opt/conda/lib/python3.11/site-packages (from execnb->mercury) (1.8.1)\n",
      "Requirement already satisfied: zope.event in /opt/conda/lib/python3.11/site-packages (from gevent->mercury) (5.0)\n",
      "Requirement already satisfied: zope.interface in /opt/conda/lib/python3.11/site-packages (from gevent->mercury) (7.2)\n",
      "Requirement already satisfied: tinycss2<1.5,>=1.1.0 in /opt/conda/lib/python3.11/site-packages (from bleach[css]!=5.0.0->nbconvert>=7.8.0->mercury) (1.4.0)\n",
      "Requirement already satisfied: pycparser in /opt/conda/lib/python3.11/site-packages (from cffi>=1.12->cryptography->mercury) (2.22)\n",
      "Requirement already satisfied: autobahn>=22.4.2 in /opt/conda/lib/python3.11/site-packages (from daphne>=4.0.0->channels[daphne]>=4.0.0->mercury) (24.4.2)\n",
      "Requirement already satisfied: twisted>=22.4 in /opt/conda/lib/python3.11/site-packages (from twisted[tls]>=22.4->daphne>=4.0.0->channels[daphne]>=4.0.0->mercury) (24.11.0)\n",
      "Requirement already satisfied: python3-openid>=3.0.8 in /opt/conda/lib/python3.11/site-packages (from django-allauth<0.53.0,>=0.40.0->dj-rest-auth[with_social]==3.0.0->mercury) (3.2.0)\n",
      "Requirement already satisfied: requests-oauthlib>=0.3.0 in /opt/conda/lib/python3.11/site-packages (from django-allauth<0.53.0,>=0.40.0->dj-rest-auth[with_social]==3.0.0->mercury) (2.0.0)\n",
      "Requirement already satisfied: pyjwt>=1.7 in /opt/conda/lib/python3.11/site-packages (from pyjwt[crypto]>=1.7->django-allauth<0.53.0,>=0.40.0->dj-rest-auth[with_social]==3.0.0->mercury) (2.9.0)\n",
      "Requirement already satisfied: zipp>=3.20 in /opt/conda/lib/python3.11/site-packages (from importlib-metadata>=1.4->pyppeteer==1.0.2->mercury) (3.21.0)\n",
      "Requirement already satisfied: parso<0.9.0,>=0.8.4 in /opt/conda/lib/python3.11/site-packages (from jedi>=0.16->ipython>=7.30.1->mercury) (0.8.4)\n",
      "Requirement already satisfied: entrypoints in /opt/conda/lib/python3.11/site-packages (from jupyter-client>=6.1.12->ipykernel>=6.6.0->mercury) (0.4)\n",
      "Requirement already satisfied: platformdirs>=2.5 in /opt/conda/lib/python3.11/site-packages (from jupyter-core!=5.0.*,>=4.12->ipykernel>=6.6.0->mercury) (4.3.6)\n",
      "Requirement already satisfied: amqp<6.0.0,>=5.1.1 in /opt/conda/lib/python3.11/site-packages (from kombu<5.6,>=5.5.2->celery>=5.1.2->mercury) (5.3.1)\n",
      "Requirement already satisfied: tzdata>=2025.2 in /opt/conda/lib/python3.11/site-packages (from kombu<5.6,>=5.5.2->celery>=5.1.2->mercury) (2025.2)\n",
      "Requirement already satisfied: fastjsonschema>=2.15 in /opt/conda/lib/python3.11/site-packages (from nbformat>=5.7->nbconvert>=7.8.0->mercury) (2.21.1)\n",
      "Requirement already satisfied: jsonschema>=2.6 in /opt/conda/lib/python3.11/site-packages (from nbformat>=5.7->nbconvert>=7.8.0->mercury) (4.23.0)\n",
      "Requirement already satisfied: ptyprocess>=0.5 in /opt/conda/lib/python3.11/site-packages (from pexpect>4.3->ipython>=7.30.1->mercury) (0.7.0)\n",
      "Requirement already satisfied: wcwidth in /opt/conda/lib/python3.11/site-packages (from prompt_toolkit<3.1.0,>=3.0.41->ipython>=7.30.1->mercury) (0.2.13)\n",
      "Requirement already satisfied: charset-normalizer<4,>=2 in /opt/conda/lib/python3.11/site-packages (from requests>=2.20.1->django-drf-filepond==0.4.1->mercury) (3.4.1)\n",
      "Requirement already satisfied: idna<4,>=2.5 in /opt/conda/lib/python3.11/site-packages (from requests>=2.20.1->django-drf-filepond==0.4.1->mercury) (3.10)\n",
      "Requirement already satisfied: soupsieve>1.2 in /opt/conda/lib/python3.11/site-packages (from beautifulsoup4->nbconvert>=7.8.0->mercury) (2.6)\n",
      "Requirement already satisfied: executing>=1.2.0 in /opt/conda/lib/python3.11/site-packages (from stack_data->ipython>=7.30.1->mercury) (2.1.0)\n",
      "Requirement already satisfied: asttokens>=2.1.0 in /opt/conda/lib/python3.11/site-packages (from stack_data->ipython>=7.30.1->mercury) (3.0.0)\n",
      "Requirement already satisfied: pure-eval in /opt/conda/lib/python3.11/site-packages (from stack_data->ipython>=7.30.1->mercury) (0.2.3)\n",
      "Requirement already satisfied: setuptools in /opt/conda/lib/python3.11/site-packages (from zope.event->gevent->mercury) (68.2.2)\n",
      "Requirement already satisfied: txaio>=21.2.1 in /opt/conda/lib/python3.11/site-packages (from autobahn>=22.4.2->daphne>=4.0.0->channels[daphne]>=4.0.0->mercury) (23.1.1)\n",
      "Requirement already satisfied: hyperlink>=21.0.0 in /opt/conda/lib/python3.11/site-packages (from autobahn>=22.4.2->daphne>=4.0.0->channels[daphne]>=4.0.0->mercury) (21.0.0)\n",
      "Requirement already satisfied: attrs>=22.2.0 in /opt/conda/lib/python3.11/site-packages (from jsonschema>=2.6->nbformat>=5.7->nbconvert>=7.8.0->mercury) (24.3.0)\n",
      "Requirement already satisfied: jsonschema-specifications>=2023.03.6 in /opt/conda/lib/python3.11/site-packages (from jsonschema>=2.6->nbformat>=5.7->nbconvert>=7.8.0->mercury) (2024.10.1)\n",
      "Requirement already satisfied: referencing>=0.28.4 in /opt/conda/lib/python3.11/site-packages (from jsonschema>=2.6->nbformat>=5.7->nbconvert>=7.8.0->mercury) (0.35.1)\n",
      "Requirement already satisfied: rpds-py>=0.7.1 in /opt/conda/lib/python3.11/site-packages (from jsonschema>=2.6->nbformat>=5.7->nbconvert>=7.8.0->mercury) (0.22.3)\n",
      "Requirement already satisfied: oauthlib>=3.0.0 in /opt/conda/lib/python3.11/site-packages (from requests-oauthlib>=0.3.0->django-allauth<0.53.0,>=0.40.0->dj-rest-auth[with_social]==3.0.0->mercury) (3.2.2)\n",
      "Requirement already satisfied: automat>=24.8.0 in /opt/conda/lib/python3.11/site-packages (from twisted>=22.4->twisted[tls]>=22.4->daphne>=4.0.0->channels[daphne]>=4.0.0->mercury) (25.4.16)\n",
      "Requirement already satisfied: constantly>=15.1 in /opt/conda/lib/python3.11/site-packages (from twisted>=22.4->twisted[tls]>=22.4->daphne>=4.0.0->channels[daphne]>=4.0.0->mercury) (23.10.4)\n",
      "Requirement already satisfied: incremental>=24.7.0 in /opt/conda/lib/python3.11/site-packages (from twisted>=22.4->twisted[tls]>=22.4->daphne>=4.0.0->channels[daphne]>=4.0.0->mercury) (24.7.2)\n",
      "Requirement already satisfied: service-identity>=18.1.0 in /opt/conda/lib/python3.11/site-packages (from twisted[tls]>=22.4->daphne>=4.0.0->channels[daphne]>=4.0.0->mercury) (24.2.0)\n",
      "Requirement already satisfied: pyasn1 in /opt/conda/lib/python3.11/site-packages (from service-identity>=18.1.0->twisted[tls]>=22.4->daphne>=4.0.0->channels[daphne]>=4.0.0->mercury) (0.6.1)\n",
      "Requirement already satisfied: pyasn1-modules in /opt/conda/lib/python3.11/site-packages (from service-identity>=18.1.0->twisted[tls]>=22.4->daphne>=4.0.0->channels[daphne]>=4.0.0->mercury) (0.4.1)\n",
      "Note: you may need to restart the kernel to use updated packages.\n"
     ]
    }
   ],
   "source": [
    "# pip install mercury"
   ]
  },
  {
   "cell_type": "code",
   "execution_count": 6,
   "id": "6d08c1b9-c913-4073-8616-74a9c9f8d332",
   "metadata": {
    "tags": []
   },
   "outputs": [
    {
     "name": "stdout",
     "output_type": "stream",
     "text": [
      "Channels:\n",
      " - conda-forge\n",
      "Platform: linux-64\n",
      "Collecting package metadata (repodata.json): done\n",
      "Solving environment: / warning  libmamba Added empty dependency for problem type SOLVER_RULE_UPDATE\n",
      "failed\n",
      "\n",
      "LibMambaUnsatisfiableError: Encountered problems while solving:\n",
      "  - package mercury-2.0.0-pyhd8ed1ab_0 requires sqlalchemy 1.4.27, but none of the providers can be installed\n",
      "\n",
      "Could not solve for environment specs\n",
      "The following packages are incompatible\n",
      "├─ mercury is installable and it requires\n",
      "│  └─ sqlalchemy 1.4.27  with the potential options\n",
      "│     ├─ sqlalchemy 1.4.27 would require\n",
      "│     │  └─ python >=3.10,<3.11.0a0 , which can be installed;\n",
      "│     ├─ sqlalchemy 1.4.27 would require\n",
      "│     │  └─ python >=3.7,<3.8.0a0 , which can be installed;\n",
      "│     ├─ sqlalchemy 1.4.27 would require\n",
      "│     │  └─ python >=3.8,<3.9.0a0 , which can be installed;\n",
      "│     └─ sqlalchemy 1.4.27 would require\n",
      "│        └─ python >=3.9,<3.10.0a0 , which can be installed;\n",
      "└─ pin-1 is not installable because it requires\n",
      "   └─ python 3.11** , which conflicts with any installable versions previously reported.\n",
      "\n",
      "\n",
      "Note: you may need to restart the kernel to use updated packages.\n"
     ]
    }
   ],
   "source": [
    "# conda install -c conda-forge mercury"
   ]
  },
  {
   "cell_type": "code",
   "execution_count": 4,
   "id": "d15c570e-7004-4f61-b717-b71d87930272",
   "metadata": {
    "tags": []
   },
   "outputs": [
    {
     "name": "stdout",
     "output_type": "stream",
     "text": [
      "Requirement already satisfied: ipywidgets in /opt/conda/lib/python3.11/site-packages (8.0.3)\n",
      "Requirement already satisfied: ipykernel>=4.5.1 in /opt/conda/lib/python3.11/site-packages (from ipywidgets) (6.29.5)\n",
      "Requirement already satisfied: ipython>=6.1.0 in /opt/conda/lib/python3.11/site-packages (from ipywidgets) (8.31.0)\n",
      "Requirement already satisfied: traitlets>=4.3.1 in /opt/conda/lib/python3.11/site-packages (from ipywidgets) (5.14.3)\n",
      "Requirement already satisfied: widgetsnbextension~=4.0 in /opt/conda/lib/python3.11/site-packages (from ipywidgets) (4.0.14)\n",
      "Requirement already satisfied: jupyterlab-widgets~=3.0 in /opt/conda/lib/python3.11/site-packages (from ipywidgets) (3.0.14)\n",
      "Requirement already satisfied: comm>=0.1.1 in /opt/conda/lib/python3.11/site-packages (from ipykernel>=4.5.1->ipywidgets) (0.2.2)\n",
      "Requirement already satisfied: debugpy>=1.6.5 in /opt/conda/lib/python3.11/site-packages (from ipykernel>=4.5.1->ipywidgets) (1.8.11)\n",
      "Requirement already satisfied: jupyter-client>=6.1.12 in /opt/conda/lib/python3.11/site-packages (from ipykernel>=4.5.1->ipywidgets) (7.4.9)\n",
      "Requirement already satisfied: jupyter-core!=5.0.*,>=4.12 in /opt/conda/lib/python3.11/site-packages (from ipykernel>=4.5.1->ipywidgets) (5.7.2)\n",
      "Requirement already satisfied: matplotlib-inline>=0.1 in /opt/conda/lib/python3.11/site-packages (from ipykernel>=4.5.1->ipywidgets) (0.1.7)\n",
      "Requirement already satisfied: nest-asyncio in /opt/conda/lib/python3.11/site-packages (from ipykernel>=4.5.1->ipywidgets) (1.6.0)\n",
      "Requirement already satisfied: packaging in /opt/conda/lib/python3.11/site-packages (from ipykernel>=4.5.1->ipywidgets) (24.2)\n",
      "Requirement already satisfied: psutil in /opt/conda/lib/python3.11/site-packages (from ipykernel>=4.5.1->ipywidgets) (5.9.8)\n",
      "Requirement already satisfied: pyzmq>=24 in /opt/conda/lib/python3.11/site-packages (from ipykernel>=4.5.1->ipywidgets) (26.2.0)\n",
      "Requirement already satisfied: tornado>=6.1 in /opt/conda/lib/python3.11/site-packages (from ipykernel>=4.5.1->ipywidgets) (6.4.2)\n",
      "Requirement already satisfied: decorator in /opt/conda/lib/python3.11/site-packages (from ipython>=6.1.0->ipywidgets) (5.1.1)\n",
      "Requirement already satisfied: jedi>=0.16 in /opt/conda/lib/python3.11/site-packages (from ipython>=6.1.0->ipywidgets) (0.19.2)\n",
      "Requirement already satisfied: pexpect>4.3 in /opt/conda/lib/python3.11/site-packages (from ipython>=6.1.0->ipywidgets) (4.9.0)\n",
      "Requirement already satisfied: prompt_toolkit<3.1.0,>=3.0.41 in /opt/conda/lib/python3.11/site-packages (from ipython>=6.1.0->ipywidgets) (3.0.48)\n",
      "Requirement already satisfied: pygments>=2.4.0 in /opt/conda/lib/python3.11/site-packages (from ipython>=6.1.0->ipywidgets) (2.19.1)\n",
      "Requirement already satisfied: stack_data in /opt/conda/lib/python3.11/site-packages (from ipython>=6.1.0->ipywidgets) (0.6.3)\n",
      "Requirement already satisfied: typing_extensions>=4.6 in /opt/conda/lib/python3.11/site-packages (from ipython>=6.1.0->ipywidgets) (4.12.2)\n",
      "Requirement already satisfied: parso<0.9.0,>=0.8.4 in /opt/conda/lib/python3.11/site-packages (from jedi>=0.16->ipython>=6.1.0->ipywidgets) (0.8.4)\n",
      "Requirement already satisfied: entrypoints in /opt/conda/lib/python3.11/site-packages (from jupyter-client>=6.1.12->ipykernel>=4.5.1->ipywidgets) (0.4)\n",
      "Requirement already satisfied: python-dateutil>=2.8.2 in /opt/conda/lib/python3.11/site-packages (from jupyter-client>=6.1.12->ipykernel>=4.5.1->ipywidgets) (2.9.0.post0)\n",
      "Requirement already satisfied: platformdirs>=2.5 in /opt/conda/lib/python3.11/site-packages (from jupyter-core!=5.0.*,>=4.12->ipykernel>=4.5.1->ipywidgets) (4.3.6)\n",
      "Requirement already satisfied: ptyprocess>=0.5 in /opt/conda/lib/python3.11/site-packages (from pexpect>4.3->ipython>=6.1.0->ipywidgets) (0.7.0)\n",
      "Requirement already satisfied: wcwidth in /opt/conda/lib/python3.11/site-packages (from prompt_toolkit<3.1.0,>=3.0.41->ipython>=6.1.0->ipywidgets) (0.2.13)\n",
      "Requirement already satisfied: executing>=1.2.0 in /opt/conda/lib/python3.11/site-packages (from stack_data->ipython>=6.1.0->ipywidgets) (2.1.0)\n",
      "Requirement already satisfied: asttokens>=2.1.0 in /opt/conda/lib/python3.11/site-packages (from stack_data->ipython>=6.1.0->ipywidgets) (3.0.0)\n",
      "Requirement already satisfied: pure-eval in /opt/conda/lib/python3.11/site-packages (from stack_data->ipython>=6.1.0->ipywidgets) (0.2.3)\n",
      "Requirement already satisfied: six>=1.5 in /opt/conda/lib/python3.11/site-packages (from python-dateutil>=2.8.2->jupyter-client>=6.1.12->ipykernel>=4.5.1->ipywidgets) (1.17.0)\n",
      "Note: you may need to restart the kernel to use updated packages.\n"
     ]
    }
   ],
   "source": [
    "pip install ipywidgets"
   ]
  },
  {
   "cell_type": "code",
   "execution_count": 5,
   "id": "4fac8b8a-af61-4185-9139-165f132d3e2e",
   "metadata": {
    "tags": []
   },
   "outputs": [
    {
     "ename": "SyntaxError",
     "evalue": "invalid syntax (2269694994.py, line 1)",
     "output_type": "error",
     "traceback": [
      "\u001b[0;36m  Cell \u001b[0;32mIn[5], line 1\u001b[0;36m\u001b[0m\n\u001b[0;31m    jupyter nbextension enable --py widgetsnbextension\u001b[0m\n\u001b[0m            ^\u001b[0m\n\u001b[0;31mSyntaxError\u001b[0m\u001b[0;31m:\u001b[0m invalid syntax\n"
     ]
    }
   ],
   "source": [
    "jupyter nbextension enable --py widgetsnbextension"
   ]
  },
  {
   "cell_type": "code",
   "execution_count": 1,
   "id": "eaa0f9a5-5154-46d5-9dfd-caf5ca768c5c",
   "metadata": {
    "tags": []
   },
   "outputs": [],
   "source": [
    "import mercury as mr"
   ]
  },
  {
   "cell_type": "code",
   "execution_count": 7,
   "id": "fed7d684-bd25-4f79-b9d1-2c9cc334dc36",
   "metadata": {
    "tags": []
   },
   "outputs": [
    {
     "ename": "SyntaxError",
     "evalue": "invalid syntax (4065731860.py, line 1)",
     "output_type": "error",
     "traceback": [
      "\u001b[0;36m  Cell \u001b[0;32mIn[7], line 1\u001b[0;36m\u001b[0m\n\u001b[0;31m    mercury run\u001b[0m\n\u001b[0m            ^\u001b[0m\n\u001b[0;31mSyntaxError\u001b[0m\u001b[0;31m:\u001b[0m invalid syntax\n"
     ]
    }
   ],
   "source": [
    "mercury run"
   ]
  },
  {
   "cell_type": "code",
   "execution_count": 2,
   "id": "a9abb6f4-a576-454c-b2f7-450b128c3f1b",
   "metadata": {
    "tags": []
   },
   "outputs": [
    {
     "data": {
      "application/mercury+json": "{\n    \"widget\": \"Text\",\n    \"value\": \"Piotr\",\n    \"sanitize\": true,\n    \"rows\": 1,\n    \"label\": \"What is your name?\",\n    \"model_id\": \"abc9f19fc535479996947161b06d1459\",\n    \"code_uid\": \"Text.0.50.78.1-rand47e5e60d\",\n    \"url_key\": \"\",\n    \"disabled\": false,\n    \"hidden\": false\n}",
      "application/vnd.jupyter.widget-view+json": {
       "model_id": "abc9f19fc535479996947161b06d1459",
       "version_major": 2,
       "version_minor": 0
      },
      "text/plain": [
       "mercury.Text"
      ]
     },
     "metadata": {},
     "output_type": "display_data"
    }
   ],
   "source": [
    "name = mr.Text(value=\"Piotr\", label=\"What is your name?\")"
   ]
  },
  {
   "cell_type": "code",
   "execution_count": 6,
   "id": "2c58511b-7ebf-465e-b328-ba5c0e3c9ea1",
   "metadata": {
    "tags": []
   },
   "outputs": [
    {
     "name": "stdout",
     "output_type": "stream",
     "text": [
      "Hello Piotr\n"
     ]
    }
   ],
   "source": [
    "print(f\"Hello {name.value}\")"
   ]
  },
  {
   "cell_type": "code",
   "execution_count": null,
   "id": "768b79ac-b3bb-4126-93a6-d7ffab9cf51b",
   "metadata": {},
   "outputs": [],
   "source": []
  }
 ],
 "metadata": {
  "kernelspec": {
   "display_name": "Python 3 (ipykernel)",
   "language": "python",
   "name": "python3"
  },
  "language_info": {
   "codemirror_mode": {
    "name": "ipython",
    "version": 3
   },
   "file_extension": ".py",
   "mimetype": "text/x-python",
   "name": "python",
   "nbconvert_exporter": "python",
   "pygments_lexer": "ipython3",
   "version": "3.11.10"
  }
 },
 "nbformat": 4,
 "nbformat_minor": 5
}
